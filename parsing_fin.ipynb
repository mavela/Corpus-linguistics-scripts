{
  "nbformat": 4,
  "nbformat_minor": 0,
  "metadata": {
    "colab": {
      "name": "parsing-fin.ipynb",
      "provenance": []
    },
    "kernelspec": {
      "name": "python3",
      "display_name": "Python 3"
    },
    "accelerator": "GPU"
  },
  "cells": [
    {
      "cell_type": "code",
      "metadata": {
        "colab": {
          "base_uri": "https://localhost:8080/"
        },
        "id": "ZfT4-0nqNI4W",
        "outputId": "7ff84baa-276e-4b99-c773-856d9830293a"
      },
      "source": [
        "pip install http://dl.turkunlp.org/turku-parser-models/turku_neural_parser-0.2-py3-none-any.whl"
      ],
      "execution_count": null,
      "outputs": [
        {
          "output_type": "stream",
          "text": [
            "Requirement already satisfied: turku-neural-parser==0.2 from http://dl.turkunlp.org/turku-parser-models/turku_neural_parser-0.2-py3-none-any.whl in /usr/local/lib/python3.6/dist-packages (0.2)\n",
            "Requirement already satisfied: torchtext==0.7.0 in /usr/local/lib/python3.6/dist-packages (from turku-neural-parser==0.2) (0.7.0)\n",
            "Requirement already satisfied: configargparse in /usr/local/lib/python3.6/dist-packages (from turku-neural-parser==0.2) (1.2.3)\n",
            "Requirement already satisfied: OpenNMT-py in /usr/local/lib/python3.6/dist-packages (from turku-neural-parser==0.2) (1.2.0)\n",
            "Requirement already satisfied: pyyaml in /usr/local/lib/python3.6/dist-packages (from turku-neural-parser==0.2) (3.13)\n",
            "Requirement already satisfied: numpy in /usr/local/lib/python3.6/dist-packages (from turku-neural-parser==0.2) (1.18.5)\n",
            "Requirement already satisfied: unofficial-udify==0.1.3 in /usr/local/lib/python3.6/dist-packages (from turku-neural-parser==0.2) (0.1.3)\n",
            "Requirement already satisfied: flask in /usr/local/lib/python3.6/dist-packages (from turku-neural-parser==0.2) (1.1.2)\n",
            "Requirement already satisfied: requests in /usr/local/lib/python3.6/dist-packages (from turku-neural-parser==0.2) (2.23.0)\n",
            "Requirement already satisfied: ufal.udpipe in /usr/local/lib/python3.6/dist-packages (from turku-neural-parser==0.2) (1.2.0.3)\n",
            "Requirement already satisfied: torch in /usr/local/lib/python3.6/dist-packages (from torchtext==0.7.0->turku-neural-parser==0.2) (1.7.0+cu101)\n",
            "Requirement already satisfied: tqdm in /usr/local/lib/python3.6/dist-packages (from torchtext==0.7.0->turku-neural-parser==0.2) (4.41.1)\n",
            "Requirement already satisfied: sentencepiece in /usr/local/lib/python3.6/dist-packages (from torchtext==0.7.0->turku-neural-parser==0.2) (0.1.94)\n",
            "Requirement already satisfied: pyonmttok==1.*; platform_system == \"Linux\" in /usr/local/lib/python3.6/dist-packages (from OpenNMT-py->turku-neural-parser==0.2) (1.22.2)\n",
            "Requirement already satisfied: tensorboard>=1.14 in /usr/local/lib/python3.6/dist-packages (from OpenNMT-py->turku-neural-parser==0.2) (2.3.0)\n",
            "Requirement already satisfied: future in /usr/local/lib/python3.6/dist-packages (from OpenNMT-py->turku-neural-parser==0.2) (0.16.0)\n",
            "Requirement already satisfied: waitress in /usr/local/lib/python3.6/dist-packages (from OpenNMT-py->turku-neural-parser==0.2) (1.4.4)\n",
            "Requirement already satisfied: six in /usr/local/lib/python3.6/dist-packages (from OpenNMT-py->turku-neural-parser==0.2) (1.15.0)\n",
            "Requirement already satisfied: transformers<3.0.0,>=2.3.0 in /usr/local/lib/python3.6/dist-packages (from unofficial-udify==0.1.3->turku-neural-parser==0.2) (2.11.0)\n",
            "Requirement already satisfied: unofficial-allennlp-nightly==0.9.1.dev0 in /usr/local/lib/python3.6/dist-packages (from unofficial-udify==0.1.3->turku-neural-parser==0.2) (0.9.1.dev0)\n",
            "Requirement already satisfied: Jinja2>=2.10.1 in /usr/local/lib/python3.6/dist-packages (from flask->turku-neural-parser==0.2) (2.11.2)\n",
            "Requirement already satisfied: click>=5.1 in /usr/local/lib/python3.6/dist-packages (from flask->turku-neural-parser==0.2) (7.1.2)\n",
            "Requirement already satisfied: itsdangerous>=0.24 in /usr/local/lib/python3.6/dist-packages (from flask->turku-neural-parser==0.2) (1.1.0)\n",
            "Requirement already satisfied: Werkzeug>=0.15 in /usr/local/lib/python3.6/dist-packages (from flask->turku-neural-parser==0.2) (1.0.1)\n",
            "Requirement already satisfied: idna<3,>=2.5 in /usr/local/lib/python3.6/dist-packages (from requests->turku-neural-parser==0.2) (2.10)\n",
            "Requirement already satisfied: urllib3!=1.25.0,!=1.25.1,<1.26,>=1.21.1 in /usr/local/lib/python3.6/dist-packages (from requests->turku-neural-parser==0.2) (1.24.3)\n",
            "Requirement already satisfied: chardet<4,>=3.0.2 in /usr/local/lib/python3.6/dist-packages (from requests->turku-neural-parser==0.2) (3.0.4)\n",
            "Requirement already satisfied: certifi>=2017.4.17 in /usr/local/lib/python3.6/dist-packages (from requests->turku-neural-parser==0.2) (2020.6.20)\n",
            "Requirement already satisfied: typing-extensions in /usr/local/lib/python3.6/dist-packages (from torch->torchtext==0.7.0->turku-neural-parser==0.2) (3.7.4.3)\n",
            "Requirement already satisfied: dataclasses in /usr/local/lib/python3.6/dist-packages (from torch->torchtext==0.7.0->turku-neural-parser==0.2) (0.7)\n",
            "Requirement already satisfied: grpcio>=1.24.3 in /usr/local/lib/python3.6/dist-packages (from tensorboard>=1.14->OpenNMT-py->turku-neural-parser==0.2) (1.33.2)\n",
            "Requirement already satisfied: markdown>=2.6.8 in /usr/local/lib/python3.6/dist-packages (from tensorboard>=1.14->OpenNMT-py->turku-neural-parser==0.2) (3.3.3)\n",
            "Requirement already satisfied: setuptools>=41.0.0 in /usr/local/lib/python3.6/dist-packages (from tensorboard>=1.14->OpenNMT-py->turku-neural-parser==0.2) (50.3.2)\n",
            "Requirement already satisfied: google-auth-oauthlib<0.5,>=0.4.1 in /usr/local/lib/python3.6/dist-packages (from tensorboard>=1.14->OpenNMT-py->turku-neural-parser==0.2) (0.4.2)\n",
            "Requirement already satisfied: protobuf>=3.6.0 in /usr/local/lib/python3.6/dist-packages (from tensorboard>=1.14->OpenNMT-py->turku-neural-parser==0.2) (3.12.4)\n",
            "Requirement already satisfied: tensorboard-plugin-wit>=1.6.0 in /usr/local/lib/python3.6/dist-packages (from tensorboard>=1.14->OpenNMT-py->turku-neural-parser==0.2) (1.7.0)\n",
            "Requirement already satisfied: google-auth<2,>=1.6.3 in /usr/local/lib/python3.6/dist-packages (from tensorboard>=1.14->OpenNMT-py->turku-neural-parser==0.2) (1.17.2)\n",
            "Requirement already satisfied: wheel>=0.26; python_version >= \"3\" in /usr/local/lib/python3.6/dist-packages (from tensorboard>=1.14->OpenNMT-py->turku-neural-parser==0.2) (0.35.1)\n",
            "Requirement already satisfied: absl-py>=0.4 in /usr/local/lib/python3.6/dist-packages (from tensorboard>=1.14->OpenNMT-py->turku-neural-parser==0.2) (0.10.0)\n",
            "Requirement already satisfied: sacremoses in /usr/local/lib/python3.6/dist-packages (from transformers<3.0.0,>=2.3.0->unofficial-udify==0.1.3->turku-neural-parser==0.2) (0.0.43)\n",
            "Requirement already satisfied: packaging in /usr/local/lib/python3.6/dist-packages (from transformers<3.0.0,>=2.3.0->unofficial-udify==0.1.3->turku-neural-parser==0.2) (20.4)\n",
            "Requirement already satisfied: tokenizers==0.7.0 in /usr/local/lib/python3.6/dist-packages (from transformers<3.0.0,>=2.3.0->unofficial-udify==0.1.3->turku-neural-parser==0.2) (0.7.0)\n",
            "Requirement already satisfied: filelock in /usr/local/lib/python3.6/dist-packages (from transformers<3.0.0,>=2.3.0->unofficial-udify==0.1.3->turku-neural-parser==0.2) (3.0.12)\n",
            "Requirement already satisfied: regex!=2019.12.17 in /usr/local/lib/python3.6/dist-packages (from transformers<3.0.0,>=2.3.0->unofficial-udify==0.1.3->turku-neural-parser==0.2) (2019.12.20)\n",
            "Requirement already satisfied: jsonnet>=0.10.0; sys_platform != \"win32\" in /usr/local/lib/python3.6/dist-packages (from unofficial-allennlp-nightly==0.9.1.dev0->unofficial-udify==0.1.3->turku-neural-parser==0.2) (0.17.0)\n",
            "Requirement already satisfied: word2number>=1.1 in /usr/local/lib/python3.6/dist-packages (from unofficial-allennlp-nightly==0.9.1.dev0->unofficial-udify==0.1.3->turku-neural-parser==0.2) (1.1)\n",
            "Requirement already satisfied: numpydoc>=0.8.0 in /usr/local/lib/python3.6/dist-packages (from unofficial-allennlp-nightly==0.9.1.dev0->unofficial-udify==0.1.3->turku-neural-parser==0.2) (1.1.0)\n",
            "Requirement already satisfied: ftfy in /usr/local/lib/python3.6/dist-packages (from unofficial-allennlp-nightly==0.9.1.dev0->unofficial-udify==0.1.3->turku-neural-parser==0.2) (5.8)\n",
            "Requirement already satisfied: spacy<2.3,>=2.1.0 in /usr/local/lib/python3.6/dist-packages (from unofficial-allennlp-nightly==0.9.1.dev0->unofficial-udify==0.1.3->turku-neural-parser==0.2) (2.2.4)\n",
            "Requirement already satisfied: boto3 in /usr/local/lib/python3.6/dist-packages (from unofficial-allennlp-nightly==0.9.1.dev0->unofficial-udify==0.1.3->turku-neural-parser==0.2) (1.16.23)\n",
            "Requirement already satisfied: scipy in /usr/local/lib/python3.6/dist-packages (from unofficial-allennlp-nightly==0.9.1.dev0->unofficial-udify==0.1.3->turku-neural-parser==0.2) (1.4.1)\n",
            "Requirement already satisfied: pytz>=2017.3 in /usr/local/lib/python3.6/dist-packages (from unofficial-allennlp-nightly==0.9.1.dev0->unofficial-udify==0.1.3->turku-neural-parser==0.2) (2018.9)\n",
            "Requirement already satisfied: flaky in /usr/local/lib/python3.6/dist-packages (from unofficial-allennlp-nightly==0.9.1.dev0->unofficial-udify==0.1.3->turku-neural-parser==0.2) (3.7.0)\n",
            "Requirement already satisfied: scikit-learn in /usr/local/lib/python3.6/dist-packages (from unofficial-allennlp-nightly==0.9.1.dev0->unofficial-udify==0.1.3->turku-neural-parser==0.2) (0.22.2.post1)\n",
            "Requirement already satisfied: matplotlib>=2.2.3 in /usr/local/lib/python3.6/dist-packages (from unofficial-allennlp-nightly==0.9.1.dev0->unofficial-udify==0.1.3->turku-neural-parser==0.2) (3.2.2)\n",
            "Requirement already satisfied: pytest in /usr/local/lib/python3.6/dist-packages (from unofficial-allennlp-nightly==0.9.1.dev0->unofficial-udify==0.1.3->turku-neural-parser==0.2) (3.6.4)\n",
            "Requirement already satisfied: jsonpickle in /usr/local/lib/python3.6/dist-packages (from unofficial-allennlp-nightly==0.9.1.dev0->unofficial-udify==0.1.3->turku-neural-parser==0.2) (1.4.1)\n",
            "Requirement already satisfied: h5py in /usr/local/lib/python3.6/dist-packages (from unofficial-allennlp-nightly==0.9.1.dev0->unofficial-udify==0.1.3->turku-neural-parser==0.2) (2.10.0)\n",
            "Requirement already satisfied: nltk in /usr/local/lib/python3.6/dist-packages (from unofficial-allennlp-nightly==0.9.1.dev0->unofficial-udify==0.1.3->turku-neural-parser==0.2) (3.2.5)\n",
            "Requirement already satisfied: editdistance in /usr/local/lib/python3.6/dist-packages (from unofficial-allennlp-nightly==0.9.1.dev0->unofficial-udify==0.1.3->turku-neural-parser==0.2) (0.5.3)\n",
            "Requirement already satisfied: overrides==2.0 in /usr/local/lib/python3.6/dist-packages (from unofficial-allennlp-nightly==0.9.1.dev0->unofficial-udify==0.1.3->turku-neural-parser==0.2) (2.0)\n",
            "Requirement already satisfied: parsimonious>=0.8.0 in /usr/local/lib/python3.6/dist-packages (from unofficial-allennlp-nightly==0.9.1.dev0->unofficial-udify==0.1.3->turku-neural-parser==0.2) (0.8.1)\n",
            "Requirement already satisfied: python-dateutil<2.8.1 in /usr/local/lib/python3.6/dist-packages (from unofficial-allennlp-nightly==0.9.1.dev0->unofficial-udify==0.1.3->turku-neural-parser==0.2) (2.8.0)\n",
            "Requirement already satisfied: tensorboardX>=1.2 in /usr/local/lib/python3.6/dist-packages (from unofficial-allennlp-nightly==0.9.1.dev0->unofficial-udify==0.1.3->turku-neural-parser==0.2) (2.1)\n",
            "Requirement already satisfied: pytorch-pretrained-bert>=0.6.0 in /usr/local/lib/python3.6/dist-packages (from unofficial-allennlp-nightly==0.9.1.dev0->unofficial-udify==0.1.3->turku-neural-parser==0.2) (0.6.2)\n",
            "Requirement already satisfied: responses>=0.7 in /usr/local/lib/python3.6/dist-packages (from unofficial-allennlp-nightly==0.9.1.dev0->unofficial-udify==0.1.3->turku-neural-parser==0.2) (0.12.1)\n",
            "Requirement already satisfied: sqlparse>=0.2.4 in /usr/local/lib/python3.6/dist-packages (from unofficial-allennlp-nightly==0.9.1.dev0->unofficial-udify==0.1.3->turku-neural-parser==0.2) (0.4.1)\n",
            "Requirement already satisfied: conllu==1.3.1 in /usr/local/lib/python3.6/dist-packages (from unofficial-allennlp-nightly==0.9.1.dev0->unofficial-udify==0.1.3->turku-neural-parser==0.2) (1.3.1)\n",
            "Requirement already satisfied: MarkupSafe>=0.23 in /usr/local/lib/python3.6/dist-packages (from Jinja2>=2.10.1->flask->turku-neural-parser==0.2) (1.1.1)\n",
            "Requirement already satisfied: importlib-metadata; python_version < \"3.8\" in /usr/local/lib/python3.6/dist-packages (from markdown>=2.6.8->tensorboard>=1.14->OpenNMT-py->turku-neural-parser==0.2) (2.0.0)\n",
            "Requirement already satisfied: requests-oauthlib>=0.7.0 in /usr/local/lib/python3.6/dist-packages (from google-auth-oauthlib<0.5,>=0.4.1->tensorboard>=1.14->OpenNMT-py->turku-neural-parser==0.2) (1.3.0)\n",
            "Requirement already satisfied: cachetools<5.0,>=2.0.0 in /usr/local/lib/python3.6/dist-packages (from google-auth<2,>=1.6.3->tensorboard>=1.14->OpenNMT-py->turku-neural-parser==0.2) (4.1.1)\n",
            "Requirement already satisfied: rsa<5,>=3.1.4; python_version >= \"3\" in /usr/local/lib/python3.6/dist-packages (from google-auth<2,>=1.6.3->tensorboard>=1.14->OpenNMT-py->turku-neural-parser==0.2) (4.6)\n",
            "Requirement already satisfied: pyasn1-modules>=0.2.1 in /usr/local/lib/python3.6/dist-packages (from google-auth<2,>=1.6.3->tensorboard>=1.14->OpenNMT-py->turku-neural-parser==0.2) (0.2.8)\n",
            "Requirement already satisfied: joblib in /usr/local/lib/python3.6/dist-packages (from sacremoses->transformers<3.0.0,>=2.3.0->unofficial-udify==0.1.3->turku-neural-parser==0.2) (0.17.0)\n",
            "Requirement already satisfied: pyparsing>=2.0.2 in /usr/local/lib/python3.6/dist-packages (from packaging->transformers<3.0.0,>=2.3.0->unofficial-udify==0.1.3->turku-neural-parser==0.2) (2.4.7)\n",
            "Requirement already satisfied: sphinx>=1.6.5 in /usr/local/lib/python3.6/dist-packages (from numpydoc>=0.8.0->unofficial-allennlp-nightly==0.9.1.dev0->unofficial-udify==0.1.3->turku-neural-parser==0.2) (1.8.5)\n",
            "Requirement already satisfied: wcwidth in /usr/local/lib/python3.6/dist-packages (from ftfy->unofficial-allennlp-nightly==0.9.1.dev0->unofficial-udify==0.1.3->turku-neural-parser==0.2) (0.2.5)\n",
            "Requirement already satisfied: cymem<2.1.0,>=2.0.2 in /usr/local/lib/python3.6/dist-packages (from spacy<2.3,>=2.1.0->unofficial-allennlp-nightly==0.9.1.dev0->unofficial-udify==0.1.3->turku-neural-parser==0.2) (2.0.4)\n",
            "Requirement already satisfied: thinc==7.4.0 in /usr/local/lib/python3.6/dist-packages (from spacy<2.3,>=2.1.0->unofficial-allennlp-nightly==0.9.1.dev0->unofficial-udify==0.1.3->turku-neural-parser==0.2) (7.4.0)\n",
            "Requirement already satisfied: srsly<1.1.0,>=1.0.2 in /usr/local/lib/python3.6/dist-packages (from spacy<2.3,>=2.1.0->unofficial-allennlp-nightly==0.9.1.dev0->unofficial-udify==0.1.3->turku-neural-parser==0.2) (1.0.2)\n",
            "Requirement already satisfied: plac<1.2.0,>=0.9.6 in /usr/local/lib/python3.6/dist-packages (from spacy<2.3,>=2.1.0->unofficial-allennlp-nightly==0.9.1.dev0->unofficial-udify==0.1.3->turku-neural-parser==0.2) (1.1.3)\n",
            "Requirement already satisfied: catalogue<1.1.0,>=0.0.7 in /usr/local/lib/python3.6/dist-packages (from spacy<2.3,>=2.1.0->unofficial-allennlp-nightly==0.9.1.dev0->unofficial-udify==0.1.3->turku-neural-parser==0.2) (1.0.0)\n",
            "Requirement already satisfied: wasabi<1.1.0,>=0.4.0 in /usr/local/lib/python3.6/dist-packages (from spacy<2.3,>=2.1.0->unofficial-allennlp-nightly==0.9.1.dev0->unofficial-udify==0.1.3->turku-neural-parser==0.2) (0.8.0)\n",
            "Requirement already satisfied: murmurhash<1.1.0,>=0.28.0 in /usr/local/lib/python3.6/dist-packages (from spacy<2.3,>=2.1.0->unofficial-allennlp-nightly==0.9.1.dev0->unofficial-udify==0.1.3->turku-neural-parser==0.2) (1.0.3)\n",
            "Requirement already satisfied: blis<0.5.0,>=0.4.0 in /usr/local/lib/python3.6/dist-packages (from spacy<2.3,>=2.1.0->unofficial-allennlp-nightly==0.9.1.dev0->unofficial-udify==0.1.3->turku-neural-parser==0.2) (0.4.1)\n",
            "Requirement already satisfied: preshed<3.1.0,>=3.0.2 in /usr/local/lib/python3.6/dist-packages (from spacy<2.3,>=2.1.0->unofficial-allennlp-nightly==0.9.1.dev0->unofficial-udify==0.1.3->turku-neural-parser==0.2) (3.0.2)\n",
            "Requirement already satisfied: botocore<1.20.0,>=1.19.23 in /usr/local/lib/python3.6/dist-packages (from boto3->unofficial-allennlp-nightly==0.9.1.dev0->unofficial-udify==0.1.3->turku-neural-parser==0.2) (1.19.23)\n",
            "Requirement already satisfied: jmespath<1.0.0,>=0.7.1 in /usr/local/lib/python3.6/dist-packages (from boto3->unofficial-allennlp-nightly==0.9.1.dev0->unofficial-udify==0.1.3->turku-neural-parser==0.2) (0.10.0)\n",
            "Requirement already satisfied: s3transfer<0.4.0,>=0.3.0 in /usr/local/lib/python3.6/dist-packages (from boto3->unofficial-allennlp-nightly==0.9.1.dev0->unofficial-udify==0.1.3->turku-neural-parser==0.2) (0.3.3)\n",
            "Requirement already satisfied: kiwisolver>=1.0.1 in /usr/local/lib/python3.6/dist-packages (from matplotlib>=2.2.3->unofficial-allennlp-nightly==0.9.1.dev0->unofficial-udify==0.1.3->turku-neural-parser==0.2) (1.3.1)\n",
            "Requirement already satisfied: cycler>=0.10 in /usr/local/lib/python3.6/dist-packages (from matplotlib>=2.2.3->unofficial-allennlp-nightly==0.9.1.dev0->unofficial-udify==0.1.3->turku-neural-parser==0.2) (0.10.0)\n",
            "Requirement already satisfied: py>=1.5.0 in /usr/local/lib/python3.6/dist-packages (from pytest->unofficial-allennlp-nightly==0.9.1.dev0->unofficial-udify==0.1.3->turku-neural-parser==0.2) (1.9.0)\n",
            "Requirement already satisfied: atomicwrites>=1.0 in /usr/local/lib/python3.6/dist-packages (from pytest->unofficial-allennlp-nightly==0.9.1.dev0->unofficial-udify==0.1.3->turku-neural-parser==0.2) (1.4.0)\n",
            "Requirement already satisfied: pluggy<0.8,>=0.5 in /usr/local/lib/python3.6/dist-packages (from pytest->unofficial-allennlp-nightly==0.9.1.dev0->unofficial-udify==0.1.3->turku-neural-parser==0.2) (0.7.1)\n",
            "Requirement already satisfied: attrs>=17.4.0 in /usr/local/lib/python3.6/dist-packages (from pytest->unofficial-allennlp-nightly==0.9.1.dev0->unofficial-udify==0.1.3->turku-neural-parser==0.2) (20.2.0)\n",
            "Requirement already satisfied: more-itertools>=4.0.0 in /usr/local/lib/python3.6/dist-packages (from pytest->unofficial-allennlp-nightly==0.9.1.dev0->unofficial-udify==0.1.3->turku-neural-parser==0.2) (8.6.0)\n",
            "Requirement already satisfied: zipp>=0.5 in /usr/local/lib/python3.6/dist-packages (from importlib-metadata; python_version < \"3.8\"->markdown>=2.6.8->tensorboard>=1.14->OpenNMT-py->turku-neural-parser==0.2) (3.4.0)\n",
            "Requirement already satisfied: oauthlib>=3.0.0 in /usr/local/lib/python3.6/dist-packages (from requests-oauthlib>=0.7.0->google-auth-oauthlib<0.5,>=0.4.1->tensorboard>=1.14->OpenNMT-py->turku-neural-parser==0.2) (3.1.0)\n",
            "Requirement already satisfied: pyasn1>=0.1.3 in /usr/local/lib/python3.6/dist-packages (from rsa<5,>=3.1.4; python_version >= \"3\"->google-auth<2,>=1.6.3->tensorboard>=1.14->OpenNMT-py->turku-neural-parser==0.2) (0.4.8)\n",
            "Requirement already satisfied: Pygments>=2.0 in /usr/local/lib/python3.6/dist-packages (from sphinx>=1.6.5->numpydoc>=0.8.0->unofficial-allennlp-nightly==0.9.1.dev0->unofficial-udify==0.1.3->turku-neural-parser==0.2) (2.6.1)\n",
            "Requirement already satisfied: docutils>=0.11 in /usr/local/lib/python3.6/dist-packages (from sphinx>=1.6.5->numpydoc>=0.8.0->unofficial-allennlp-nightly==0.9.1.dev0->unofficial-udify==0.1.3->turku-neural-parser==0.2) (0.16)\n",
            "Requirement already satisfied: imagesize in /usr/local/lib/python3.6/dist-packages (from sphinx>=1.6.5->numpydoc>=0.8.0->unofficial-allennlp-nightly==0.9.1.dev0->unofficial-udify==0.1.3->turku-neural-parser==0.2) (1.2.0)\n",
            "Requirement already satisfied: sphinxcontrib-websupport in /usr/local/lib/python3.6/dist-packages (from sphinx>=1.6.5->numpydoc>=0.8.0->unofficial-allennlp-nightly==0.9.1.dev0->unofficial-udify==0.1.3->turku-neural-parser==0.2) (1.2.4)\n",
            "Requirement already satisfied: snowballstemmer>=1.1 in /usr/local/lib/python3.6/dist-packages (from sphinx>=1.6.5->numpydoc>=0.8.0->unofficial-allennlp-nightly==0.9.1.dev0->unofficial-udify==0.1.3->turku-neural-parser==0.2) (2.0.0)\n",
            "Requirement already satisfied: alabaster<0.8,>=0.7 in /usr/local/lib/python3.6/dist-packages (from sphinx>=1.6.5->numpydoc>=0.8.0->unofficial-allennlp-nightly==0.9.1.dev0->unofficial-udify==0.1.3->turku-neural-parser==0.2) (0.7.12)\n",
            "Requirement already satisfied: babel!=2.0,>=1.3 in /usr/local/lib/python3.6/dist-packages (from sphinx>=1.6.5->numpydoc>=0.8.0->unofficial-allennlp-nightly==0.9.1.dev0->unofficial-udify==0.1.3->turku-neural-parser==0.2) (2.8.0)\n",
            "Requirement already satisfied: sphinxcontrib-serializinghtml in /usr/local/lib/python3.6/dist-packages (from sphinxcontrib-websupport->sphinx>=1.6.5->numpydoc>=0.8.0->unofficial-allennlp-nightly==0.9.1.dev0->unofficial-udify==0.1.3->turku-neural-parser==0.2) (1.1.4)\n"
          ],
          "name": "stdout"
        }
      ]
    },
    {
      "cell_type": "code",
      "metadata": {
        "colab": {
          "base_uri": "https://localhost:8080/"
        },
        "id": "xGm5r26rP5ju",
        "outputId": "2f958f25-6fe0-4931-b998-ac435b70d6de"
      },
      "source": [
        "! wget http://dl.turkunlp.org/turku-parser-models/models_fi_tdt.tar.gz ; tar zxvf models_fi_tdt.tar.gz\n"
      ],
      "execution_count": 1,
      "outputs": [
        {
          "output_type": "stream",
          "text": [
            "--2021-01-14 08:18:03--  http://dl.turkunlp.org/turku-parser-models/models_fi_tdt.tar.gz\n",
            "Resolving dl.turkunlp.org (dl.turkunlp.org)... 195.148.30.23\n",
            "Connecting to dl.turkunlp.org (dl.turkunlp.org)|195.148.30.23|:80... connected.\n",
            "HTTP request sent, awaiting response... 200 OK\n",
            "Length: 1110126182 (1.0G) [application/octet-stream]\n",
            "Saving to: ‘models_fi_tdt.tar.gz’\n",
            "\n",
            "models_fi_tdt.tar.g 100%[===================>]   1.03G  11.1MB/s    in 2m 12s  \n",
            "\n",
            "2021-01-14 08:20:15 (8.03 MB/s) - ‘models_fi_tdt.tar.gz’ saved [1110126182/1110126182]\n",
            "\n",
            "models_fi_tdt/\n",
            "models_fi_tdt/Udify/\n",
            "models_fi_tdt/Udify/tdt-udify-model.tar.gz\n",
            "models_fi_tdt/Udify/weights.th\n",
            "models_fi_tdt/Udify/vocabulary/\n",
            "models_fi_tdt/Udify/vocabulary/head_tags.txt\n",
            "models_fi_tdt/Udify/vocabulary/feats.txt\n",
            "models_fi_tdt/Udify/vocabulary/token_characters.txt\n",
            "models_fi_tdt/Udify/vocabulary/tokens.txt\n",
            "models_fi_tdt/Udify/vocabulary/upos.txt\n",
            "models_fi_tdt/Udify/vocabulary/xpos.txt\n",
            "models_fi_tdt/Udify/vocabulary/non_padded_namespaces.txt\n",
            "models_fi_tdt/Udify/vocabulary/lemmas.txt\n",
            "models_fi_tdt/Udify/config.json\n",
            "models_fi_tdt/pipelines.yaml\n",
            "models_fi_tdt/README\n",
            "models_fi_tdt/Lemmatizer/\n",
            "models_fi_tdt/Lemmatizer/lemmatizer.pt\n",
            "models_fi_tdt/Tokenizer/\n",
            "models_fi_tdt/Tokenizer/tokenizer.udpipe\n"
          ],
          "name": "stdout"
        }
      ]
    },
    {
      "cell_type": "code",
      "metadata": {
        "id": "ypZCCrkMSWcU"
      },
      "source": [
        ""
      ],
      "execution_count": null,
      "outputs": []
    },
    {
      "cell_type": "code",
      "metadata": {
        "id": "yC_8yrsvSddB"
      },
      "source": [
        ""
      ],
      "execution_count": null,
      "outputs": []
    },
    {
      "cell_type": "code",
      "metadata": {
        "colab": {
          "base_uri": "https://localhost:8080/"
        },
        "id": "s2x_-5WWSwK1",
        "outputId": "20eb07d8-7e29-431c-9ef8-2f3d7e2bcc12"
      },
      "source": [
        "from tnparser.pipeline import read_pipelines, Pipeline\n",
        "\n",
        "available_pipelines=read_pipelines(\"models_fi_tdt/pipelines.yaml\")\n",
        "print(list(available_pipelines.keys()))\n",
        "Pipeline(available_pipelines[\"parse_plaintext\"])\n",
        "parsed=p.parse(\"Minulla on ruskea koira! Se haukkuu ja juoksee. Voi että!\")\n"
      ],
      "execution_count": null,
      "outputs": [
        {
          "output_type": "stream",
          "text": [
            "['parse_plaintext', 'parse_sentlines', 'parse_wslines', 'parse_conllu', 'tokenize']\n"
          ],
          "name": "stdout"
        }
      ]
    },
    {
      "cell_type": "markdown",
      "metadata": {
        "id": "pixcSDbBBzME"
      },
      "source": [
        "# New section"
      ]
    },
    {
      "cell_type": "code",
      "metadata": {
        "id": "YyUaeeF6B6gw"
      },
      "source": [
        "from google.colab import drive\n",
        "drive.mount('/content/drive')"
      ],
      "execution_count": null,
      "outputs": []
    },
    {
      "cell_type": "code",
      "metadata": {
        "id": "wUSHKYAPULSi"
      },
      "source": [
        "Pipeline(available_pipelines[\"parse_plaintext\"])\n",
        "parsed=p.parse(\"Minulla on ruskea koira! Se haukkuu ja juoksee. Voi että!\")"
      ],
      "execution_count": null,
      "outputs": []
    },
    {
      "cell_type": "markdown",
      "metadata": {
        "id": "KyxmM3AsPnPK"
      },
      "source": [
        ""
      ]
    }
  ]
}