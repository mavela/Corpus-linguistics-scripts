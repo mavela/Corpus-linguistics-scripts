{
  "nbformat": 4,
  "nbformat_minor": 0,
  "metadata": {
    "colab": {
      "provenance": [],
      "authorship_tag": "ABX9TyMsyx1kvTq41FKp0FjQtlPW",
      "include_colab_link": true
    },
    "kernelspec": {
      "name": "python3",
      "display_name": "Python 3"
    },
    "language_info": {
      "name": "python"
    },
    "accelerator": "GPU",
    "widgets": {
      "application/vnd.jupyter.widget-state+json": {
        "6dc1a217bdd7461aa2677d805e1b03af": {
          "model_module": "@jupyter-widgets/controls",
          "model_name": "HBoxModel",
          "model_module_version": "1.5.0",
          "state": {
            "_dom_classes": [],
            "_model_module": "@jupyter-widgets/controls",
            "_model_module_version": "1.5.0",
            "_model_name": "HBoxModel",
            "_view_count": null,
            "_view_module": "@jupyter-widgets/controls",
            "_view_module_version": "1.5.0",
            "_view_name": "HBoxView",
            "box_style": "",
            "children": [
              "IPY_MODEL_410ee970448c48b38f4acbb79a019087",
              "IPY_MODEL_6650a68336704346b7238fa39c3f13a6",
              "IPY_MODEL_4ecae277e3224f4199bf4355404a6115"
            ],
            "layout": "IPY_MODEL_1dfed9c2a0f44c95978b96099ec088af"
          }
        },
        "410ee970448c48b38f4acbb79a019087": {
          "model_module": "@jupyter-widgets/controls",
          "model_name": "HTMLModel",
          "model_module_version": "1.5.0",
          "state": {
            "_dom_classes": [],
            "_model_module": "@jupyter-widgets/controls",
            "_model_module_version": "1.5.0",
            "_model_name": "HTMLModel",
            "_view_count": null,
            "_view_module": "@jupyter-widgets/controls",
            "_view_module_version": "1.5.0",
            "_view_name": "HTMLView",
            "description": "",
            "description_tooltip": null,
            "layout": "IPY_MODEL_f8db4e318d6e454182668f8013d806c5",
            "placeholder": "​",
            "style": "IPY_MODEL_b64d132096744542a6a0e5747bad9e71",
            "value": "Downloading: 100%"
          }
        },
        "6650a68336704346b7238fa39c3f13a6": {
          "model_module": "@jupyter-widgets/controls",
          "model_name": "FloatProgressModel",
          "model_module_version": "1.5.0",
          "state": {
            "_dom_classes": [],
            "_model_module": "@jupyter-widgets/controls",
            "_model_module_version": "1.5.0",
            "_model_name": "FloatProgressModel",
            "_view_count": null,
            "_view_module": "@jupyter-widgets/controls",
            "_view_module_version": "1.5.0",
            "_view_name": "ProgressView",
            "bar_style": "success",
            "description": "",
            "description_tooltip": null,
            "layout": "IPY_MODEL_25a430d1ccc24cfeb7b3ac032844d402",
            "max": 5069051,
            "min": 0,
            "orientation": "horizontal",
            "style": "IPY_MODEL_25785d05be91464e87a9198467bc4671",
            "value": 5069051
          }
        },
        "4ecae277e3224f4199bf4355404a6115": {
          "model_module": "@jupyter-widgets/controls",
          "model_name": "HTMLModel",
          "model_module_version": "1.5.0",
          "state": {
            "_dom_classes": [],
            "_model_module": "@jupyter-widgets/controls",
            "_model_module_version": "1.5.0",
            "_model_name": "HTMLModel",
            "_view_count": null,
            "_view_module": "@jupyter-widgets/controls",
            "_view_module_version": "1.5.0",
            "_view_name": "HTMLView",
            "description": "",
            "description_tooltip": null,
            "layout": "IPY_MODEL_c8f85051ccd54102820f75dc29d2b83d",
            "placeholder": "​",
            "style": "IPY_MODEL_a33c87fa0d95495984db3ba89bd5ad44",
            "value": " 5.07M/5.07M [00:00&lt;00:00, 16.5MB/s]"
          }
        },
        "1dfed9c2a0f44c95978b96099ec088af": {
          "model_module": "@jupyter-widgets/base",
          "model_name": "LayoutModel",
          "model_module_version": "1.2.0",
          "state": {
            "_model_module": "@jupyter-widgets/base",
            "_model_module_version": "1.2.0",
            "_model_name": "LayoutModel",
            "_view_count": null,
            "_view_module": "@jupyter-widgets/base",
            "_view_module_version": "1.2.0",
            "_view_name": "LayoutView",
            "align_content": null,
            "align_items": null,
            "align_self": null,
            "border": null,
            "bottom": null,
            "display": null,
            "flex": null,
            "flex_flow": null,
            "grid_area": null,
            "grid_auto_columns": null,
            "grid_auto_flow": null,
            "grid_auto_rows": null,
            "grid_column": null,
            "grid_gap": null,
            "grid_row": null,
            "grid_template_areas": null,
            "grid_template_columns": null,
            "grid_template_rows": null,
            "height": null,
            "justify_content": null,
            "justify_items": null,
            "left": null,
            "margin": null,
            "max_height": null,
            "max_width": null,
            "min_height": null,
            "min_width": null,
            "object_fit": null,
            "object_position": null,
            "order": null,
            "overflow": null,
            "overflow_x": null,
            "overflow_y": null,
            "padding": null,
            "right": null,
            "top": null,
            "visibility": null,
            "width": null
          }
        },
        "f8db4e318d6e454182668f8013d806c5": {
          "model_module": "@jupyter-widgets/base",
          "model_name": "LayoutModel",
          "model_module_version": "1.2.0",
          "state": {
            "_model_module": "@jupyter-widgets/base",
            "_model_module_version": "1.2.0",
            "_model_name": "LayoutModel",
            "_view_count": null,
            "_view_module": "@jupyter-widgets/base",
            "_view_module_version": "1.2.0",
            "_view_name": "LayoutView",
            "align_content": null,
            "align_items": null,
            "align_self": null,
            "border": null,
            "bottom": null,
            "display": null,
            "flex": null,
            "flex_flow": null,
            "grid_area": null,
            "grid_auto_columns": null,
            "grid_auto_flow": null,
            "grid_auto_rows": null,
            "grid_column": null,
            "grid_gap": null,
            "grid_row": null,
            "grid_template_areas": null,
            "grid_template_columns": null,
            "grid_template_rows": null,
            "height": null,
            "justify_content": null,
            "justify_items": null,
            "left": null,
            "margin": null,
            "max_height": null,
            "max_width": null,
            "min_height": null,
            "min_width": null,
            "object_fit": null,
            "object_position": null,
            "order": null,
            "overflow": null,
            "overflow_x": null,
            "overflow_y": null,
            "padding": null,
            "right": null,
            "top": null,
            "visibility": null,
            "width": null
          }
        },
        "b64d132096744542a6a0e5747bad9e71": {
          "model_module": "@jupyter-widgets/controls",
          "model_name": "DescriptionStyleModel",
          "model_module_version": "1.5.0",
          "state": {
            "_model_module": "@jupyter-widgets/controls",
            "_model_module_version": "1.5.0",
            "_model_name": "DescriptionStyleModel",
            "_view_count": null,
            "_view_module": "@jupyter-widgets/base",
            "_view_module_version": "1.2.0",
            "_view_name": "StyleView",
            "description_width": ""
          }
        },
        "25a430d1ccc24cfeb7b3ac032844d402": {
          "model_module": "@jupyter-widgets/base",
          "model_name": "LayoutModel",
          "model_module_version": "1.2.0",
          "state": {
            "_model_module": "@jupyter-widgets/base",
            "_model_module_version": "1.2.0",
            "_model_name": "LayoutModel",
            "_view_count": null,
            "_view_module": "@jupyter-widgets/base",
            "_view_module_version": "1.2.0",
            "_view_name": "LayoutView",
            "align_content": null,
            "align_items": null,
            "align_self": null,
            "border": null,
            "bottom": null,
            "display": null,
            "flex": null,
            "flex_flow": null,
            "grid_area": null,
            "grid_auto_columns": null,
            "grid_auto_flow": null,
            "grid_auto_rows": null,
            "grid_column": null,
            "grid_gap": null,
            "grid_row": null,
            "grid_template_areas": null,
            "grid_template_columns": null,
            "grid_template_rows": null,
            "height": null,
            "justify_content": null,
            "justify_items": null,
            "left": null,
            "margin": null,
            "max_height": null,
            "max_width": null,
            "min_height": null,
            "min_width": null,
            "object_fit": null,
            "object_position": null,
            "order": null,
            "overflow": null,
            "overflow_x": null,
            "overflow_y": null,
            "padding": null,
            "right": null,
            "top": null,
            "visibility": null,
            "width": null
          }
        },
        "25785d05be91464e87a9198467bc4671": {
          "model_module": "@jupyter-widgets/controls",
          "model_name": "ProgressStyleModel",
          "model_module_version": "1.5.0",
          "state": {
            "_model_module": "@jupyter-widgets/controls",
            "_model_module_version": "1.5.0",
            "_model_name": "ProgressStyleModel",
            "_view_count": null,
            "_view_module": "@jupyter-widgets/base",
            "_view_module_version": "1.2.0",
            "_view_name": "StyleView",
            "bar_color": null,
            "description_width": ""
          }
        },
        "c8f85051ccd54102820f75dc29d2b83d": {
          "model_module": "@jupyter-widgets/base",
          "model_name": "LayoutModel",
          "model_module_version": "1.2.0",
          "state": {
            "_model_module": "@jupyter-widgets/base",
            "_model_module_version": "1.2.0",
            "_model_name": "LayoutModel",
            "_view_count": null,
            "_view_module": "@jupyter-widgets/base",
            "_view_module_version": "1.2.0",
            "_view_name": "LayoutView",
            "align_content": null,
            "align_items": null,
            "align_self": null,
            "border": null,
            "bottom": null,
            "display": null,
            "flex": null,
            "flex_flow": null,
            "grid_area": null,
            "grid_auto_columns": null,
            "grid_auto_flow": null,
            "grid_auto_rows": null,
            "grid_column": null,
            "grid_gap": null,
            "grid_row": null,
            "grid_template_areas": null,
            "grid_template_columns": null,
            "grid_template_rows": null,
            "height": null,
            "justify_content": null,
            "justify_items": null,
            "left": null,
            "margin": null,
            "max_height": null,
            "max_width": null,
            "min_height": null,
            "min_width": null,
            "object_fit": null,
            "object_position": null,
            "order": null,
            "overflow": null,
            "overflow_x": null,
            "overflow_y": null,
            "padding": null,
            "right": null,
            "top": null,
            "visibility": null,
            "width": null
          }
        },
        "a33c87fa0d95495984db3ba89bd5ad44": {
          "model_module": "@jupyter-widgets/controls",
          "model_name": "DescriptionStyleModel",
          "model_module_version": "1.5.0",
          "state": {
            "_model_module": "@jupyter-widgets/controls",
            "_model_module_version": "1.5.0",
            "_model_name": "DescriptionStyleModel",
            "_view_count": null,
            "_view_module": "@jupyter-widgets/base",
            "_view_module_version": "1.2.0",
            "_view_name": "StyleView",
            "description_width": ""
          }
        },
        "b10d1cae7a4941cc93ac651cb78752c4": {
          "model_module": "@jupyter-widgets/controls",
          "model_name": "HBoxModel",
          "model_module_version": "1.5.0",
          "state": {
            "_dom_classes": [],
            "_model_module": "@jupyter-widgets/controls",
            "_model_module_version": "1.5.0",
            "_model_name": "HBoxModel",
            "_view_count": null,
            "_view_module": "@jupyter-widgets/controls",
            "_view_module_version": "1.5.0",
            "_view_name": "HBoxView",
            "box_style": "",
            "children": [
              "IPY_MODEL_dce2af00db9a4021b4f413178de04d3d",
              "IPY_MODEL_4d2b6cbd901a4c548dabceb9df6b9c40",
              "IPY_MODEL_b5608b72614d40aa924d105288a06d35"
            ],
            "layout": "IPY_MODEL_6b9eeb29f80a4ae788b1af5f729f6495"
          }
        },
        "dce2af00db9a4021b4f413178de04d3d": {
          "model_module": "@jupyter-widgets/controls",
          "model_name": "HTMLModel",
          "model_module_version": "1.5.0",
          "state": {
            "_dom_classes": [],
            "_model_module": "@jupyter-widgets/controls",
            "_model_module_version": "1.5.0",
            "_model_name": "HTMLModel",
            "_view_count": null,
            "_view_module": "@jupyter-widgets/controls",
            "_view_module_version": "1.5.0",
            "_view_name": "HTMLView",
            "description": "",
            "description_tooltip": null,
            "layout": "IPY_MODEL_5ddbe082e9ab4accbf905908c601c535",
            "placeholder": "​",
            "style": "IPY_MODEL_56bd8aa20ffb4cb98ba1511f1fcc6af3",
            "value": "Downloading: 100%"
          }
        },
        "4d2b6cbd901a4c548dabceb9df6b9c40": {
          "model_module": "@jupyter-widgets/controls",
          "model_name": "FloatProgressModel",
          "model_module_version": "1.5.0",
          "state": {
            "_dom_classes": [],
            "_model_module": "@jupyter-widgets/controls",
            "_model_module_version": "1.5.0",
            "_model_name": "FloatProgressModel",
            "_view_count": null,
            "_view_module": "@jupyter-widgets/controls",
            "_view_module_version": "1.5.0",
            "_view_name": "ProgressView",
            "bar_style": "success",
            "description": "",
            "description_tooltip": null,
            "layout": "IPY_MODEL_10c4b9e50db64c00965629c25b6ee52f",
            "max": 512,
            "min": 0,
            "orientation": "horizontal",
            "style": "IPY_MODEL_7b9ac1f2bcb14034834ec377fb2bc113",
            "value": 512
          }
        },
        "b5608b72614d40aa924d105288a06d35": {
          "model_module": "@jupyter-widgets/controls",
          "model_name": "HTMLModel",
          "model_module_version": "1.5.0",
          "state": {
            "_dom_classes": [],
            "_model_module": "@jupyter-widgets/controls",
            "_model_module_version": "1.5.0",
            "_model_name": "HTMLModel",
            "_view_count": null,
            "_view_module": "@jupyter-widgets/controls",
            "_view_module_version": "1.5.0",
            "_view_name": "HTMLView",
            "description": "",
            "description_tooltip": null,
            "layout": "IPY_MODEL_6c045ffeb28d4d72863fe55c1df99bfe",
            "placeholder": "​",
            "style": "IPY_MODEL_827651154a2c4ff683f0533b11a440af",
            "value": " 512/512 [00:00&lt;00:00, 18.0kB/s]"
          }
        },
        "6b9eeb29f80a4ae788b1af5f729f6495": {
          "model_module": "@jupyter-widgets/base",
          "model_name": "LayoutModel",
          "model_module_version": "1.2.0",
          "state": {
            "_model_module": "@jupyter-widgets/base",
            "_model_module_version": "1.2.0",
            "_model_name": "LayoutModel",
            "_view_count": null,
            "_view_module": "@jupyter-widgets/base",
            "_view_module_version": "1.2.0",
            "_view_name": "LayoutView",
            "align_content": null,
            "align_items": null,
            "align_self": null,
            "border": null,
            "bottom": null,
            "display": null,
            "flex": null,
            "flex_flow": null,
            "grid_area": null,
            "grid_auto_columns": null,
            "grid_auto_flow": null,
            "grid_auto_rows": null,
            "grid_column": null,
            "grid_gap": null,
            "grid_row": null,
            "grid_template_areas": null,
            "grid_template_columns": null,
            "grid_template_rows": null,
            "height": null,
            "justify_content": null,
            "justify_items": null,
            "left": null,
            "margin": null,
            "max_height": null,
            "max_width": null,
            "min_height": null,
            "min_width": null,
            "object_fit": null,
            "object_position": null,
            "order": null,
            "overflow": null,
            "overflow_x": null,
            "overflow_y": null,
            "padding": null,
            "right": null,
            "top": null,
            "visibility": null,
            "width": null
          }
        },
        "5ddbe082e9ab4accbf905908c601c535": {
          "model_module": "@jupyter-widgets/base",
          "model_name": "LayoutModel",
          "model_module_version": "1.2.0",
          "state": {
            "_model_module": "@jupyter-widgets/base",
            "_model_module_version": "1.2.0",
            "_model_name": "LayoutModel",
            "_view_count": null,
            "_view_module": "@jupyter-widgets/base",
            "_view_module_version": "1.2.0",
            "_view_name": "LayoutView",
            "align_content": null,
            "align_items": null,
            "align_self": null,
            "border": null,
            "bottom": null,
            "display": null,
            "flex": null,
            "flex_flow": null,
            "grid_area": null,
            "grid_auto_columns": null,
            "grid_auto_flow": null,
            "grid_auto_rows": null,
            "grid_column": null,
            "grid_gap": null,
            "grid_row": null,
            "grid_template_areas": null,
            "grid_template_columns": null,
            "grid_template_rows": null,
            "height": null,
            "justify_content": null,
            "justify_items": null,
            "left": null,
            "margin": null,
            "max_height": null,
            "max_width": null,
            "min_height": null,
            "min_width": null,
            "object_fit": null,
            "object_position": null,
            "order": null,
            "overflow": null,
            "overflow_x": null,
            "overflow_y": null,
            "padding": null,
            "right": null,
            "top": null,
            "visibility": null,
            "width": null
          }
        },
        "56bd8aa20ffb4cb98ba1511f1fcc6af3": {
          "model_module": "@jupyter-widgets/controls",
          "model_name": "DescriptionStyleModel",
          "model_module_version": "1.5.0",
          "state": {
            "_model_module": "@jupyter-widgets/controls",
            "_model_module_version": "1.5.0",
            "_model_name": "DescriptionStyleModel",
            "_view_count": null,
            "_view_module": "@jupyter-widgets/base",
            "_view_module_version": "1.2.0",
            "_view_name": "StyleView",
            "description_width": ""
          }
        },
        "10c4b9e50db64c00965629c25b6ee52f": {
          "model_module": "@jupyter-widgets/base",
          "model_name": "LayoutModel",
          "model_module_version": "1.2.0",
          "state": {
            "_model_module": "@jupyter-widgets/base",
            "_model_module_version": "1.2.0",
            "_model_name": "LayoutModel",
            "_view_count": null,
            "_view_module": "@jupyter-widgets/base",
            "_view_module_version": "1.2.0",
            "_view_name": "LayoutView",
            "align_content": null,
            "align_items": null,
            "align_self": null,
            "border": null,
            "bottom": null,
            "display": null,
            "flex": null,
            "flex_flow": null,
            "grid_area": null,
            "grid_auto_columns": null,
            "grid_auto_flow": null,
            "grid_auto_rows": null,
            "grid_column": null,
            "grid_gap": null,
            "grid_row": null,
            "grid_template_areas": null,
            "grid_template_columns": null,
            "grid_template_rows": null,
            "height": null,
            "justify_content": null,
            "justify_items": null,
            "left": null,
            "margin": null,
            "max_height": null,
            "max_width": null,
            "min_height": null,
            "min_width": null,
            "object_fit": null,
            "object_position": null,
            "order": null,
            "overflow": null,
            "overflow_x": null,
            "overflow_y": null,
            "padding": null,
            "right": null,
            "top": null,
            "visibility": null,
            "width": null
          }
        },
        "7b9ac1f2bcb14034834ec377fb2bc113": {
          "model_module": "@jupyter-widgets/controls",
          "model_name": "ProgressStyleModel",
          "model_module_version": "1.5.0",
          "state": {
            "_model_module": "@jupyter-widgets/controls",
            "_model_module_version": "1.5.0",
            "_model_name": "ProgressStyleModel",
            "_view_count": null,
            "_view_module": "@jupyter-widgets/base",
            "_view_module_version": "1.2.0",
            "_view_name": "StyleView",
            "bar_color": null,
            "description_width": ""
          }
        },
        "6c045ffeb28d4d72863fe55c1df99bfe": {
          "model_module": "@jupyter-widgets/base",
          "model_name": "LayoutModel",
          "model_module_version": "1.2.0",
          "state": {
            "_model_module": "@jupyter-widgets/base",
            "_model_module_version": "1.2.0",
            "_model_name": "LayoutModel",
            "_view_count": null,
            "_view_module": "@jupyter-widgets/base",
            "_view_module_version": "1.2.0",
            "_view_name": "LayoutView",
            "align_content": null,
            "align_items": null,
            "align_self": null,
            "border": null,
            "bottom": null,
            "display": null,
            "flex": null,
            "flex_flow": null,
            "grid_area": null,
            "grid_auto_columns": null,
            "grid_auto_flow": null,
            "grid_auto_rows": null,
            "grid_column": null,
            "grid_gap": null,
            "grid_row": null,
            "grid_template_areas": null,
            "grid_template_columns": null,
            "grid_template_rows": null,
            "height": null,
            "justify_content": null,
            "justify_items": null,
            "left": null,
            "margin": null,
            "max_height": null,
            "max_width": null,
            "min_height": null,
            "min_width": null,
            "object_fit": null,
            "object_position": null,
            "order": null,
            "overflow": null,
            "overflow_x": null,
            "overflow_y": null,
            "padding": null,
            "right": null,
            "top": null,
            "visibility": null,
            "width": null
          }
        },
        "827651154a2c4ff683f0533b11a440af": {
          "model_module": "@jupyter-widgets/controls",
          "model_name": "DescriptionStyleModel",
          "model_module_version": "1.5.0",
          "state": {
            "_model_module": "@jupyter-widgets/controls",
            "_model_module_version": "1.5.0",
            "_model_name": "DescriptionStyleModel",
            "_view_count": null,
            "_view_module": "@jupyter-widgets/base",
            "_view_module_version": "1.2.0",
            "_view_name": "StyleView",
            "description_width": ""
          }
        },
        "452da7b838074f7b84a10db440048a2b": {
          "model_module": "@jupyter-widgets/controls",
          "model_name": "HBoxModel",
          "model_module_version": "1.5.0",
          "state": {
            "_dom_classes": [],
            "_model_module": "@jupyter-widgets/controls",
            "_model_module_version": "1.5.0",
            "_model_name": "HBoxModel",
            "_view_count": null,
            "_view_module": "@jupyter-widgets/controls",
            "_view_module_version": "1.5.0",
            "_view_name": "HBoxView",
            "box_style": "",
            "children": [
              "IPY_MODEL_38e51b97348f41faa30d0c17ca119172",
              "IPY_MODEL_982c7b79e55a43c78510956b4cd38f54",
              "IPY_MODEL_a5a4de52a02347afb1b473cce16e5a11"
            ],
            "layout": "IPY_MODEL_39067ecff85c43409dbe5fa18dd4160c"
          }
        },
        "38e51b97348f41faa30d0c17ca119172": {
          "model_module": "@jupyter-widgets/controls",
          "model_name": "HTMLModel",
          "model_module_version": "1.5.0",
          "state": {
            "_dom_classes": [],
            "_model_module": "@jupyter-widgets/controls",
            "_model_module_version": "1.5.0",
            "_model_name": "HTMLModel",
            "_view_count": null,
            "_view_module": "@jupyter-widgets/controls",
            "_view_module_version": "1.5.0",
            "_view_name": "HTMLView",
            "description": "",
            "description_tooltip": null,
            "layout": "IPY_MODEL_93be6f555ef947f688fe38d207b6fd1f",
            "placeholder": "​",
            "style": "IPY_MODEL_e802732610fd4b7980ee1e80bcc698d4",
            "value": "Downloading: 100%"
          }
        },
        "982c7b79e55a43c78510956b4cd38f54": {
          "model_module": "@jupyter-widgets/controls",
          "model_name": "FloatProgressModel",
          "model_module_version": "1.5.0",
          "state": {
            "_dom_classes": [],
            "_model_module": "@jupyter-widgets/controls",
            "_model_module_version": "1.5.0",
            "_model_name": "FloatProgressModel",
            "_view_count": null,
            "_view_module": "@jupyter-widgets/controls",
            "_view_module_version": "1.5.0",
            "_view_name": "ProgressView",
            "bar_style": "success",
            "description": "",
            "description_tooltip": null,
            "layout": "IPY_MODEL_816dc51952a24d67956c8d216a089873",
            "max": 1115590446,
            "min": 0,
            "orientation": "horizontal",
            "style": "IPY_MODEL_a1ed45505f264c2ea3bf649fb3804e69",
            "value": 1115590446
          }
        },
        "a5a4de52a02347afb1b473cce16e5a11": {
          "model_module": "@jupyter-widgets/controls",
          "model_name": "HTMLModel",
          "model_module_version": "1.5.0",
          "state": {
            "_dom_classes": [],
            "_model_module": "@jupyter-widgets/controls",
            "_model_module_version": "1.5.0",
            "_model_name": "HTMLModel",
            "_view_count": null,
            "_view_module": "@jupyter-widgets/controls",
            "_view_module_version": "1.5.0",
            "_view_name": "HTMLView",
            "description": "",
            "description_tooltip": null,
            "layout": "IPY_MODEL_e0baa923f9b649fbbc2e0de7c439200e",
            "placeholder": "​",
            "style": "IPY_MODEL_c184a546a7d540bcb1694b64dd495c1d",
            "value": " 1.12G/1.12G [00:18&lt;00:00, 61.2MB/s]"
          }
        },
        "39067ecff85c43409dbe5fa18dd4160c": {
          "model_module": "@jupyter-widgets/base",
          "model_name": "LayoutModel",
          "model_module_version": "1.2.0",
          "state": {
            "_model_module": "@jupyter-widgets/base",
            "_model_module_version": "1.2.0",
            "_model_name": "LayoutModel",
            "_view_count": null,
            "_view_module": "@jupyter-widgets/base",
            "_view_module_version": "1.2.0",
            "_view_name": "LayoutView",
            "align_content": null,
            "align_items": null,
            "align_self": null,
            "border": null,
            "bottom": null,
            "display": null,
            "flex": null,
            "flex_flow": null,
            "grid_area": null,
            "grid_auto_columns": null,
            "grid_auto_flow": null,
            "grid_auto_rows": null,
            "grid_column": null,
            "grid_gap": null,
            "grid_row": null,
            "grid_template_areas": null,
            "grid_template_columns": null,
            "grid_template_rows": null,
            "height": null,
            "justify_content": null,
            "justify_items": null,
            "left": null,
            "margin": null,
            "max_height": null,
            "max_width": null,
            "min_height": null,
            "min_width": null,
            "object_fit": null,
            "object_position": null,
            "order": null,
            "overflow": null,
            "overflow_x": null,
            "overflow_y": null,
            "padding": null,
            "right": null,
            "top": null,
            "visibility": null,
            "width": null
          }
        },
        "93be6f555ef947f688fe38d207b6fd1f": {
          "model_module": "@jupyter-widgets/base",
          "model_name": "LayoutModel",
          "model_module_version": "1.2.0",
          "state": {
            "_model_module": "@jupyter-widgets/base",
            "_model_module_version": "1.2.0",
            "_model_name": "LayoutModel",
            "_view_count": null,
            "_view_module": "@jupyter-widgets/base",
            "_view_module_version": "1.2.0",
            "_view_name": "LayoutView",
            "align_content": null,
            "align_items": null,
            "align_self": null,
            "border": null,
            "bottom": null,
            "display": null,
            "flex": null,
            "flex_flow": null,
            "grid_area": null,
            "grid_auto_columns": null,
            "grid_auto_flow": null,
            "grid_auto_rows": null,
            "grid_column": null,
            "grid_gap": null,
            "grid_row": null,
            "grid_template_areas": null,
            "grid_template_columns": null,
            "grid_template_rows": null,
            "height": null,
            "justify_content": null,
            "justify_items": null,
            "left": null,
            "margin": null,
            "max_height": null,
            "max_width": null,
            "min_height": null,
            "min_width": null,
            "object_fit": null,
            "object_position": null,
            "order": null,
            "overflow": null,
            "overflow_x": null,
            "overflow_y": null,
            "padding": null,
            "right": null,
            "top": null,
            "visibility": null,
            "width": null
          }
        },
        "e802732610fd4b7980ee1e80bcc698d4": {
          "model_module": "@jupyter-widgets/controls",
          "model_name": "DescriptionStyleModel",
          "model_module_version": "1.5.0",
          "state": {
            "_model_module": "@jupyter-widgets/controls",
            "_model_module_version": "1.5.0",
            "_model_name": "DescriptionStyleModel",
            "_view_count": null,
            "_view_module": "@jupyter-widgets/base",
            "_view_module_version": "1.2.0",
            "_view_name": "StyleView",
            "description_width": ""
          }
        },
        "816dc51952a24d67956c8d216a089873": {
          "model_module": "@jupyter-widgets/base",
          "model_name": "LayoutModel",
          "model_module_version": "1.2.0",
          "state": {
            "_model_module": "@jupyter-widgets/base",
            "_model_module_version": "1.2.0",
            "_model_name": "LayoutModel",
            "_view_count": null,
            "_view_module": "@jupyter-widgets/base",
            "_view_module_version": "1.2.0",
            "_view_name": "LayoutView",
            "align_content": null,
            "align_items": null,
            "align_self": null,
            "border": null,
            "bottom": null,
            "display": null,
            "flex": null,
            "flex_flow": null,
            "grid_area": null,
            "grid_auto_columns": null,
            "grid_auto_flow": null,
            "grid_auto_rows": null,
            "grid_column": null,
            "grid_gap": null,
            "grid_row": null,
            "grid_template_areas": null,
            "grid_template_columns": null,
            "grid_template_rows": null,
            "height": null,
            "justify_content": null,
            "justify_items": null,
            "left": null,
            "margin": null,
            "max_height": null,
            "max_width": null,
            "min_height": null,
            "min_width": null,
            "object_fit": null,
            "object_position": null,
            "order": null,
            "overflow": null,
            "overflow_x": null,
            "overflow_y": null,
            "padding": null,
            "right": null,
            "top": null,
            "visibility": null,
            "width": null
          }
        },
        "a1ed45505f264c2ea3bf649fb3804e69": {
          "model_module": "@jupyter-widgets/controls",
          "model_name": "ProgressStyleModel",
          "model_module_version": "1.5.0",
          "state": {
            "_model_module": "@jupyter-widgets/controls",
            "_model_module_version": "1.5.0",
            "_model_name": "ProgressStyleModel",
            "_view_count": null,
            "_view_module": "@jupyter-widgets/base",
            "_view_module_version": "1.2.0",
            "_view_name": "StyleView",
            "bar_color": null,
            "description_width": ""
          }
        },
        "e0baa923f9b649fbbc2e0de7c439200e": {
          "model_module": "@jupyter-widgets/base",
          "model_name": "LayoutModel",
          "model_module_version": "1.2.0",
          "state": {
            "_model_module": "@jupyter-widgets/base",
            "_model_module_version": "1.2.0",
            "_model_name": "LayoutModel",
            "_view_count": null,
            "_view_module": "@jupyter-widgets/base",
            "_view_module_version": "1.2.0",
            "_view_name": "LayoutView",
            "align_content": null,
            "align_items": null,
            "align_self": null,
            "border": null,
            "bottom": null,
            "display": null,
            "flex": null,
            "flex_flow": null,
            "grid_area": null,
            "grid_auto_columns": null,
            "grid_auto_flow": null,
            "grid_auto_rows": null,
            "grid_column": null,
            "grid_gap": null,
            "grid_row": null,
            "grid_template_areas": null,
            "grid_template_columns": null,
            "grid_template_rows": null,
            "height": null,
            "justify_content": null,
            "justify_items": null,
            "left": null,
            "margin": null,
            "max_height": null,
            "max_width": null,
            "min_height": null,
            "min_width": null,
            "object_fit": null,
            "object_position": null,
            "order": null,
            "overflow": null,
            "overflow_x": null,
            "overflow_y": null,
            "padding": null,
            "right": null,
            "top": null,
            "visibility": null,
            "width": null
          }
        },
        "c184a546a7d540bcb1694b64dd495c1d": {
          "model_module": "@jupyter-widgets/controls",
          "model_name": "DescriptionStyleModel",
          "model_module_version": "1.5.0",
          "state": {
            "_model_module": "@jupyter-widgets/controls",
            "_model_module_version": "1.5.0",
            "_model_name": "DescriptionStyleModel",
            "_view_count": null,
            "_view_module": "@jupyter-widgets/base",
            "_view_module_version": "1.2.0",
            "_view_name": "StyleView",
            "description_width": ""
          }
        }
      }
    }
  },
  "cells": [
    {
      "cell_type": "markdown",
      "metadata": {
        "id": "view-in-github",
        "colab_type": "text"
      },
      "source": [
        "<a href=\"https://colab.research.google.com/github/mavela/Corpus-linguistics-scripts/blob/main/Trankit.ipynb\" target=\"_parent\"><img src=\"https://colab.research.google.com/assets/colab-badge.svg\" alt=\"Open In Colab\"/></a>"
      ]
    },
    {
      "cell_type": "code",
      "execution_count": 2,
      "metadata": {
        "colab": {
          "base_uri": "https://localhost:8080/"
        },
        "id": "w6c4VKthynC2",
        "outputId": "b188197a-6bd6-439d-979c-c8a043747bd0"
      },
      "outputs": [
        {
          "output_type": "stream",
          "name": "stdout",
          "text": [
            "Looking in indexes: https://pypi.org/simple, https://us-python.pkg.dev/colab-wheels/public/simple/\n",
            "Collecting trankit\n",
            "  Downloading trankit-1.1.1-py3-none-any.whl (773 kB)\n",
            "\u001b[K     |████████████████████████████████| 773 kB 9.8 MB/s \n",
            "\u001b[?25hCollecting langid==1.1.6\n",
            "  Downloading langid-1.1.6.tar.gz (1.9 MB)\n",
            "\u001b[K     |████████████████████████████████| 1.9 MB 44.7 MB/s \n",
            "\u001b[?25hRequirement already satisfied: tqdm>=4.27 in /usr/local/lib/python3.7/dist-packages (from trankit) (4.64.1)\n",
            "Requirement already satisfied: filelock in /usr/local/lib/python3.7/dist-packages (from trankit) (3.8.0)\n",
            "Requirement already satisfied: packaging in /usr/local/lib/python3.7/dist-packages (from trankit) (21.3)\n",
            "Requirement already satisfied: torch>=1.6.0 in /usr/local/lib/python3.7/dist-packages (from trankit) (1.12.1+cu113)\n",
            "Requirement already satisfied: protobuf in /usr/local/lib/python3.7/dist-packages (from trankit) (3.17.3)\n",
            "Collecting sacremoses\n",
            "  Downloading sacremoses-0.0.53.tar.gz (880 kB)\n",
            "\u001b[K     |████████████████████████████████| 880 kB 52.8 MB/s \n",
            "\u001b[?25hRequirement already satisfied: numpy in /usr/local/lib/python3.7/dist-packages (from trankit) (1.21.6)\n",
            "Collecting tokenizers>=0.7.0\n",
            "  Downloading tokenizers-0.13.1-cp37-cp37m-manylinux_2_17_x86_64.manylinux2014_x86_64.whl (7.6 MB)\n",
            "\u001b[K     |████████████████████████████████| 7.6 MB 50.3 MB/s \n",
            "\u001b[?25hRequirement already satisfied: requests in /usr/local/lib/python3.7/dist-packages (from trankit) (2.23.0)\n",
            "Requirement already satisfied: regex!=2019.12.17 in /usr/local/lib/python3.7/dist-packages (from trankit) (2022.6.2)\n",
            "Collecting sentencepiece\n",
            "  Downloading sentencepiece-0.1.97-cp37-cp37m-manylinux_2_17_x86_64.manylinux2014_x86_64.whl (1.3 MB)\n",
            "\u001b[K     |████████████████████████████████| 1.3 MB 54.0 MB/s \n",
            "\u001b[?25hRequirement already satisfied: typing-extensions in /usr/local/lib/python3.7/dist-packages (from torch>=1.6.0->trankit) (4.1.1)\n",
            "Requirement already satisfied: pyparsing!=3.0.5,>=2.0.2 in /usr/local/lib/python3.7/dist-packages (from packaging->trankit) (3.0.9)\n",
            "Requirement already satisfied: six>=1.9 in /usr/local/lib/python3.7/dist-packages (from protobuf->trankit) (1.15.0)\n",
            "Requirement already satisfied: urllib3!=1.25.0,!=1.25.1,<1.26,>=1.21.1 in /usr/local/lib/python3.7/dist-packages (from requests->trankit) (1.24.3)\n",
            "Requirement already satisfied: idna<3,>=2.5 in /usr/local/lib/python3.7/dist-packages (from requests->trankit) (2.10)\n",
            "Requirement already satisfied: chardet<4,>=3.0.2 in /usr/local/lib/python3.7/dist-packages (from requests->trankit) (3.0.4)\n",
            "Requirement already satisfied: certifi>=2017.4.17 in /usr/local/lib/python3.7/dist-packages (from requests->trankit) (2022.9.24)\n",
            "Requirement already satisfied: click in /usr/local/lib/python3.7/dist-packages (from sacremoses->trankit) (7.1.2)\n",
            "Requirement already satisfied: joblib in /usr/local/lib/python3.7/dist-packages (from sacremoses->trankit) (1.2.0)\n",
            "Building wheels for collected packages: langid, sacremoses\n",
            "  Building wheel for langid (setup.py) ... \u001b[?25l\u001b[?25hdone\n",
            "  Created wheel for langid: filename=langid-1.1.6-py3-none-any.whl size=1941188 sha256=1e4a5c415175bb752890638130cf9941a4c1836d2915a50fc0ba774e0747169f\n",
            "  Stored in directory: /root/.cache/pip/wheels/2b/bb/7f/11e4db39477278161e882eadc46fb558949a28b13470fc74b8\n",
            "  Building wheel for sacremoses (setup.py) ... \u001b[?25l\u001b[?25hdone\n",
            "  Created wheel for sacremoses: filename=sacremoses-0.0.53-py3-none-any.whl size=895260 sha256=dba3e5f9d7c622f08e0d57963574ad74f2d2594eb80e9c9037dd37f68897a90b\n",
            "  Stored in directory: /root/.cache/pip/wheels/87/39/dd/a83eeef36d0bf98e7a4d1933a4ad2d660295a40613079bafc9\n",
            "Successfully built langid sacremoses\n",
            "Installing collected packages: tokenizers, sentencepiece, sacremoses, langid, trankit\n",
            "Successfully installed langid-1.1.6 sacremoses-0.0.53 sentencepiece-0.1.97 tokenizers-0.13.1 trankit-1.1.1\n"
          ]
        }
      ],
      "source": [
        "! pip install trankit"
      ]
    },
    {
      "cell_type": "code",
      "source": [
        "! git clone https://github.com/nlp-uoregon/trankit\n",
        "%cd trankit\n",
        "! pip install -e ."
      ],
      "metadata": {
        "id": "VAWdWpSey5A7"
      },
      "execution_count": null,
      "outputs": []
    },
    {
      "cell_type": "code",
      "source": [
        "! pip install trankit==1.1.0"
      ],
      "metadata": {
        "id": "ZQUSCHQuzI_U"
      },
      "execution_count": null,
      "outputs": []
    },
    {
      "cell_type": "code",
      "source": [
        "! pip install transformers"
      ],
      "metadata": {
        "id": "Rl_Vpr4T0bdS"
      },
      "execution_count": null,
      "outputs": []
    },
    {
      "cell_type": "code",
      "source": [
        "from google.colab import drive\n",
        "drive.mount('/content/drive')"
      ],
      "metadata": {
        "colab": {
          "base_uri": "https://localhost:8080/"
        },
        "id": "YOLDHxVaaKmK",
        "outputId": "ebf2c984-d555-4499-8099-bf7d11876ac9"
      },
      "execution_count": 3,
      "outputs": [
        {
          "output_type": "stream",
          "name": "stdout",
          "text": [
            "Mounted at /content/drive\n"
          ]
        }
      ]
    },
    {
      "cell_type": "code",
      "source": [
        "! cat '/content/drive/MyDrive/WorkStuff/fre_train.txt' | head -10 > head.txt\n",
        "\n",
        "! cat '/content/drive/MyDrive/WorkStuff/csv.Turkish_random_sample_data.csv' | head -10 | perl -pe 's/\\\"\\\"/\\\"/g' | egrep \"^<\"> tur_head.csv"
      ],
      "metadata": {
        "id": "p_aTkkQAaXx4"
      },
      "execution_count": 4,
      "outputs": []
    },
    {
      "cell_type": "code",
      "source": [
        "! cat tur_head.csv  "
      ],
      "metadata": {
        "colab": {
          "base_uri": "https://localhost:8080/"
        },
        "id": "s60PrA4-maGR",
        "outputId": "483cbc18-db73-48dd-e83f-418363c42228"
      },
      "execution_count": 66,
      "outputs": [
        {
          "output_type": "stream",
          "name": "stdout",
          "text": [
            "<urn:uuid:869730a7-b70f-493c-9f8b-36ea14064b52>,https://www.abelge.com/Detay_ana.asp?ana_id=23&2YJ6YL20RRG6R4DOANCG6ROK520R607FIZ78EMI1CX3HDXBIJHLA5A444FIKE460XDE1CGR5ALB2L09J6I9B2BKFZX,selcen,2021-10-19 13:39:03,reject,,\"<doc sitename=\"A Belge-HALAL FOOD COUNCIL-TR\" title=\"HELAL Belgelendirme, koþer,vegan,fssc22000 belgelendirme,Marka Tescili-Patent-Garanti belgesi\" author=\"Çözüm Ortaðýnýz\" excerpt=\"A Belge, Sistem Belgelendirme-Ürün Belgelendirme-Helal gýda-Üretim Ýzin Belgeleri-Ve Mühendislik Ve Danýþmanlýk Hizmetleri Vermektedir.\" categories=\"\" tags=\"A Belge, HELAL - KOÞER ,VEGAN,FSSC22000,ESMA,SEDEX, Ürün Belgelendirme, Helal gýda, Marka tescili, Garanti belgesi, Mühendislik Ve Danýþmanlýk Hizmetleri, Helal Gýda Baþ Denetçi\" fingerprint=\"aEsqbSft64xDLHRQFrSyaS6EGBM=\">   <div class=\"trafilatura-content\">     <table class=\"trafilatura\">       <tr>         <td>Ana Sayfa</td>         <td>Hakkýmýzda</td>         <td>Bize Ulaþýn</td>       </tr>     </table>     <table class=\"trafilatura\">       <tr>         <td>ESMA BELGESÝ</td>       </tr>     </table>     <table class=\"trafilatura\">       <tr>         <td>VEGAN SERTÝFÝKASI</td>       </tr>     </table>     <table class=\"trafilatura\">       <tr>         <td>SEDEX-SMETA-BELGESÝ</td>       </tr>     </table>     <table class=\"trafilatura\">       <tr>         <td>SÝSTEM BELGELENDÝRME</td>       </tr>     </table>     <table class=\"trafilatura\">       <tr>         <td>ÜRÜN BELGELENDÝRME</td>       </tr>     </table>     <table class=\"trafilatura\">       <tr>         <td>HELAL GIDA BELGELENDÝRME</td>       </tr>     </table>     <table class=\"trafilatura\">       <tr>         <td>KOÞER (KOSHER) BELGELENDÝRME</td>       </tr>     </table>     <table class=\"trafilatura\">       <tr>         <td>TEÞVÝKLER,HÝBELER,KALKINMA AJANSI</td>       </tr>     </table>     <table class=\"trafilatura\">       <tr>         <td>MARKA TESCÝLÝ - PATENT - FAYDALI MODEL</td>       </tr>     </table>     <table class=\"trafilatura\">       <tr>         <td>ÝÞYERÝ RUHSATLARI</td>       </tr>     </table>     <table class=\"trafilatura\">       <tr>         <td>TOPLU YEMEK TAAHHÜDÜ</td>       </tr>     </table>     <table class=\"trafilatura\">       <tr>         <td>EÐÝTÝMLÝ PERSONEL ÝSTÝHDAMI</td>       </tr>     </table>     <table class=\"trafilatura\">       <tr>         <td>EÐÝTÝMLER - SEMÝNERLER</td>       </tr>     </table>     <table class=\"trafilatura\">       <tr>         <td>FAYDALI BÝLGÝLER</td>       </tr>     </table>     <table class=\"trafilatura\">       <tr>         <td>REFERANSLARIMIZ</td>       </tr>     </table>     <table class=\"trafilatura\">       <tr>         <td>HELAL BELGELÝ ÜRÜN YENÝLEBÝLECEKLER</td>       </tr>     </table>     <table class=\"trafilatura\">       <tr>         <td>BÝLGÝ VÝDEOLARI</td>       </tr>     </table>     <table class=\"trafilatura\">       <tr>         <td>FOTO GALERÝ</td>       </tr>     </table>     <table class=\"trafilatura\">       <tr>         <td>TEMSÝLCÝLÝKLERÝMÝZ</td>       </tr>     </table>     <table class=\"trafilatura\">       <tr>         <td>TEMSÝLCÝLERÝMÝZ</td>       </tr>     </table>     <p>...::Belge Sorgula...</p>     <p>...:: Baþvuru Formlarý (Dosya)...</p>     <p>Online Baþvuru Formu Dosyasý</p>     <p>* Denetçi Eðitim Formu</p>     <p>Helal Gýda Baþ Denetçi HELAL GIDA TEMEL EÐÝTÝMÝ ; ADNBELGELENDÝRME(HALALFOODCOUNCIL OF TURKEY)- sýnýrlý sayýda HELAL GIDA temel eðitimi açýlacaktýr.Ýlgilenen arkadaþlarýn lütfen formu doldurmalarý gerekmektedir.Katýlým için : ilahiyatçý,gýda mühendisi,kimya mühendisi,ziraat mühendisi, veteriner, endüstri mühendisi,gýda teknikeri titrine sahip olanlar.tercih edilirler. BÖLGE TEMSÝLCÝLÝKLERÝ VERÝLECEKLER ISO 27001 BGYS BAÞ DENETÇÝ EÐÝTÝMÝ AÇILACAKTIR. HELAL: ALLAHA KARÞI SORUMLULUKTUR ALLAHIN KOYDUÐU KANUNDUR HELAL :FITRATTIR. HELAL :SAÐLIKTIR. HELAL: ALLAHIN EN GÜZEL ÞEKÝLDE YARATTIÐI VE MECCANEN BÝZE HEDÝYE ETTÝÐÝ MÜCEVHERLERDEN DEÐERLÝ VÜCUDUMUZA SAHÝP ÇIKMAKTIR. HELAL ÝLE ÝLGÝSÝ OLMAYAN LAR ,HÝÇBÝR AKREDÝTASYONU OLMAYANLAR HELAL BELGESÝ VERÝYORLAR.BUNLARIN HÝÇBÝR EHLÝYETLERÝ YOK. BU FÝRMALARI VE KÝÞÝLERÝ ÞÝDDETLE KINIYORUM.</p>     <p>HELAL GIDA TEMEL EÐÝTÝMÝ ;</p>     <p>ADNBELGELENDÝRME(HALALFOODCOUNCIL OF TURKEY)- sýnýrlý sayýda HELAL GIDA temel eðitimi açýlacaktýr.Ýlgilenen arkadaþlarýn lütfen formu doldurmalarý gerekmektedir.Katýlým için : ilahiyatçý,gýda mühendisi,kimya mühendisi,ziraat mühendisi, veteriner, endüstri mühendisi,gýda teknikeri titrine sahip olanlar.tercih edilirler.</p>     <p>BÖLGE TEMSÝLCÝLÝKLERÝ VERÝLECEKLER</p>     <p>ISO 27001 BGYS BAÞ DENETÇÝ EÐÝTÝMÝ AÇILACAKTIR.</p>     <p>HELAL: ALLAHA KARÞI SORUMLULUKTUR</p>     <p>ALLAHIN KOYDUÐU KANUNDUR</p>     <p>HELAL :FITRATTIR.</p>     <p>HELAL :SAÐLIKTIR.</p>     <p>HELAL: ALLAHIN EN GÜZEL ÞEKÝLDE YARATTIÐI</p>     <p>VE MECCANEN BÝZE HEDÝYE ETTÝÐÝ MÜCEVHERLERDEN DEÐERLÝ VÜCUDUMUZA</p>     <p>SAHÝP ÇIKMAKTIR.</p>     <p>HELAL ÝLE ÝLGÝSÝ OLMAYAN LAR ,HÝÇBÝR AKREDÝTASYONU OLMAYANLAR</p>     <p>HELAL BELGESÝ VERÝYORLAR.BUNLARIN HÝÇBÝR EHLÝYETLERÝ YOK.</p>     <p>BU FÝRMALARI VE KÝÞÝLERÝ ÞÝDDETLE KINIYORUM.</p>     <table class=\"trafilatura\">       <tr>         <td>VEGAN</td>       </tr>     </table>     <table class=\"trafilatura\">       <tr>         <td>ISO 9001-2015 BAÞDENETÇÝ EÐÝTÝMÝ</td>       </tr>     </table>     <table class=\"trafilatura\">       <tr>         <td>BÝZDEN HABERLER</td>       </tr>     </table>     <table class=\"trafilatura\">       <tr>         <td>Helal Kongresi</td>       </tr>     </table>     <table class=\"trafilatura\">       <tr>         <td>TELEVÝZYON PROGRAMI</td>       </tr>     </table>     <table class=\"trafilatura\">       <tr>         <td>MONOSODYUM GLUTAMAT</td>       </tr>     </table>     <table class=\"trafilatura\">       <tr>         <td>GENETÝK</td>       </tr>     </table>     <table class=\"trafilatura\">       <tr>         <td>GIDALAR</td>       </tr>     </table>     <table class=\"trafilatura\">       <tr>         <td>ÞEYTAN</td>       </tr>     </table>     <table class=\"trafilatura\">       <tr>         <td>PLATONÝK MATEMATÝK VE ALLAH</td>       </tr>     </table>     <table class=\"trafilatura\">       <tr>         <td>AKIL BÝLÝM VE DÝN</td>       </tr>     </table>     <table class=\"trafilatura\">       <tr>         <td>SAÐLIKLI EKMEK</td>       </tr>     </table>     <table class=\"trafilatura\">       <tr>         <td>AKIL BÝLÝM VE DÝN</td>       </tr>     </table>     <table class=\"trafilatura\">       <tr>         <td>EKMEK VE HELAL</td>       </tr>     </table>     <table class=\"trafilatura\">       <tr>         <td>EKMEK</td>       </tr>     </table>     <table class=\"trafilatura\">       <tr>         <td>GDO</td>       </tr>     </table>     <table class=\"trafilatura\">       <tr>         <td>PESTÝSÝTLER</td>       </tr>     </table>     <p>[ GERÝ DÖN ]</p>     <table class=\"trafilatura\">       <tr>         <td>Çözüm Ortaðýnýz</td>       </tr>     </table>     <table class=\"trafilatura\">       <tr>         <td>Belgelendirme Hizmetlerimiz...</td>       </tr>     </table>     <p>SÝSTEM BELGELERÝ</p>     <p>ÜRÜN BELGELERÝ</p>     <p>GIDA BELGELERÝ</p>     <p>HÝZMET BELGELERÝ</p>     <p>EÐÝTÝMLER</p>     <p>ISO 9001 2015<lb />ISO 14001<lb />ISO 18001<lb />SA 8000<lb />AS EN 9100<lb />ISO 27001<lb />ISO 16949</p>     <p>ISO 22301</p>     <p>CE<lb />GOST R<lb />GS<lb />UL<lb />GLOBAL GAP<lb />EUREP GAP<lb />ORGANÝK GIDA</p>     <p>ISO 22000 2018<lb />HACCP<lb />IFS<lb />BRC</p>     <p>HELAL</p>     <p>KOÞER</p>     <p>VEGAN</p>     <p>MARKA TESCÝLÝ<lb />PATENT<lb />FAYDALI MODEL<lb />GARANTÝ BELGESÝ<lb />HYB</p>     <p>TSE</p>     <p>TSEK</p>     <p>ISO 9001 2015<lb />ISO 14001<lb />ISO 18001<lb />ISO 22000 2018<lb />HELAL GIDA<lb />ÝÇ TETKÝK<lb />BAÞ DENETÇÝ</p>     <p>ISO 27001</p>   </div>   <section class=\"comments\" /> </doc>\"\r\n",
            "<urn:uuid:6cba5a14-47b2-4baa-a628-8f74032241f2>,https://www.otocikma.com/ilan/otocikmaparca/rover-rover-216-arka-tampon/rover_216_cabrio_arka_tampon-1011555?s=0,selcen,2021-10-19 13:39:03,accept,IP ds,\"<doc sitename=\"Oto Çıkma\" title=\"ROVER 216 CABRİO ARKA TAMPON otocikma.com da - 1011555\" source=\"https://www.otocikma.com/ilan/otocikmaparca/rover-rover-216-arka-tampon/rover_216_cabrio_arka_tampon-1011555?s=0\" hostname=\"otocikma.com\" excerpt=\"ROVER 216 CABRİO ARKA TAMPON otocikma.com da - 1011555\" categories=\"\" tags=\"oto çıkma, yedek parça, çıkma parça, otoçıkma , Oto Çıkmacılar, çıkma yedek parçacılar Hasarlı Araçlar , Hurda Belgeli Araçlar , çıkma parça fiyatları, yedek parça\" fingerprint=\"hoUQU/NURahYlTO/g1wAETtvZqA=\">   <div class=\"trafilatura-content\">     <h4>ROVER 216 CABRİO ARKA TAMPON</h4>     <h4>Satılık Fiyat Pazarlık</h4>     <ul class=\"trafilatura\">       <li>İlan No 1011555</li>       <li>İl İstanbul (Ana)</li>       <li>İlçe Sancaktepe</li>       <li>Tarih 19/06/2020</li>       <li>Marka Rover</li>       <li>Seri Rover 216</li>       <li>Model Yılı 2020 - 2020</li>       <li>Parça Tipi Tampon</li>       <li>Parça Arka Tampon</li>       <li>Parça Durumu Oto Çıkma Parça</li>       <li>OEM No.</li>       <li>Stok 1</li>       <li>Kargo Alıcı Öder</li>       <li>Satış Şekli Havale</li>     </ul>     <p>Tel: 0 (538) 401 98 76</p>     <p>Tel: 0 (534) 040 52 54</p>     <p>TÜM SIFIR VE ÇIKMA ORJİNAL YEDEK PARÇALAR STOKLARIMIZDA MEVCUTTUR.</p>     <p>KALİTELİ,KURUMSAL HİZMET İÇİN HAYRULLAH OTOMOTİV HİZMETİNİZDE..</p>     <p>''YOLA KAZANÇLI ÇIKIN''</p>     <p>0 850 430 45 69</p>     <p>0 538 401 98 76</p>   </div>   <section class=\"comments\" /> </doc>\"\r\n",
            "<urn:uuid:f57af05b-c7fb-4fd6-a765-49b761c559f4>,http://adamerkelebek.org/MenuDetay.asp?MenuId=15&altMenuId=35,selcen,2021-10-19 13:39:03,reject,,\"<doc title=\"Kelebekler nasýl görür? \" categories=\"\" tags=\"Kelebek, kelebekler, kelebek trleri, kelebek familyalar, kelebek cinsleri, kelebek biyolojisi, kelebek sanat, kelebek kltr, kelebek etkinlikler, kelebek fotoraflar, kelebek gzlemleri, trkiye kelebekleri, adana kelebekleri, mersin kelebekleri, osmaniye kelebekleri, kelebek yetitiricilii, kelebek davranlar, kelebek habitatlar, kelebek yayl alanlar, kelebek zellikleri, kelebek tantm, kelebek arama, kelebek sitesi, kelebek arklar, kelebek iirleri, kelebekleri tanma, butterfly, butterflies, butterfly species, butterfly families, butterfly taxons, butterfly biology, butterfly in art, butterflies in culture, butterflies related events, butterfly photography, butterfly photographs, butterfly observations, butterfly monitoring, butterflies in Turkey, butterflies in Adana, butterflies in Mersin, butterflies in Osmaniye, butterfly farming, butterfly behavior, butterflyhabitats, butterfly distribution areas, features of butterflies, butterfly introduction, searching for butterflies, butterfly sites, butterfly in songs, butterfly in poems,macro photos, macro photography, turkey, makro fotoraflk, makro fotoraflar, trkiye\" fingerprint=\"7pHdbfzUF/RDfx7Er4ghuZ/XAKw=\">   <div class=\"trafilatura-content\">     <table class=\"trafilatura\">       <tr>         <td>AdaMerOs-Butterflies of Turkey</td>       </tr>       <tr>         <td>The Butterflies Monitoring &amp; Photography Society of Turkey</td>       </tr>       <tr>         <td>The Butterflies Monitoring &amp; Photography Society in Turkey</td>       </tr>     </table>     <table class=\"trafilatura\">       <tr>         <td>Users' Articles</td>       </tr>       <tr>         <td>Observation Reports</td>       </tr>       <tr>         <td>Species Identification</td>       </tr>       <tr>         <td>AdaMerOs Forum</td>       </tr>     </table>     <table class=\"trafilatura\">       <tr>         <td>HESPERIIDAE</td>         <td>LYCAENIDAE</td>         <td>NYMPHALIDAE</td>         <td>PAPILIONIDAE</td>         <td>PIERIDAE</td>         <td>RIODINIDAE</td>       </tr>     </table>     <table class=\"trafilatura\">       <tr>         <td>Kelebek Ansiklopedisi</td>       </tr>     </table>     <table class=\"trafilatura\">       <tr>         <td>Kelebekler nasýl görür?</td>       </tr>     </table>     <p>Kelebeklerin küre biçimli bir çift bileþik gözü bulunur. Herbir göz 17.000 küçük gözcükten oluþur. Bu gözcüklerin herbirinin kendi lensleri vardýr ve bunlar ýþýk alýcýsý olarak çalýþýrlar. Bu gözcükler uyum içinde çalýþarak kelebeðe çevresinin mozaik bir görünümünü saðlar. Her küçük gözcük bir lens gibi iþlev gören kornea ve bir koniye sahiptir. Koninin arkasýnda ýþýðý 2-6 duyu hücresinden oluþan küçük bir hücre kümesine taþýyan bir çubuk uzanýr. Bu hücrelerden herbiri görünür spektrumun özel bir bölümüne duyarlýdýr.</p>     <p>Zýpzýplarýn gözleri diðer kelebeklerinkinden farklýlýk gösterir. Zýpzýp gözlerinde koniler ve çubuklar arasýnda bir boþluk vardýr ve bu ýþýðýn bir küçük gözcükten komþusunun çubuða süzülmesine olanak saðlar. Böylece görüntü çözünürlüðü ve duyarlýlýk etkili biçimde artýrýlmýþ olur. Bu durum zýpzýplarýn bir yerden diðerine daha kesin þekilde uçuþlarýný saðlar. Zýpzýplarýn diðer kelebeklerden farklý olarak ayrý bir üst aileye (Hesperioidea) konulmasýnýn nedenlerinden biri de budur.</p>     <p>Herbir gözcük dar açýlýdýr ve bu çevrenin daha ayrýntýlý görülmesine neden olur. Lensler odaklanma yapamazlar. Ancak son derece kýsa odak uzunluðu nedeniyle buna gereksinme duymazlar. Muhtemelen 5mm ile 100 m arasýndaki her þey keskin biçimde görülebilir.</p>     <p>Gözler hareket etmezler. Çünkü hemen hemen 360 derece açýyý görüþe sahiptirler. Bu ayný anda çevredeki her þeyi görmek avantajý demektir. Böylece önünde yer alan çiçekte beslenirken arkadan yaklaþan bir fotoðrafçýyý rahatlýkla görürler.</p>     <p>Kelebeklerin beyni gözcüklerin oluþturduðu görüntünün karanlýk veya aydýnlýk olup olmadýðýný hemen algýlayabilirler. Eðer avcý bir böcek yaklaþýyorsa her bir alýcýnýn gönderdiði ýþýk miktarý bunlarýn dar açýlý olmalarý nedeniyle hemen deðiþir. Bu durum binoküler görme ile birlikte bileþik gözlerin hareketleri son derece etkin biçimde algýlamalarýný saðlar. Kelebeðin en büyük savunma mekanizmalarýndan biri olarak kaçmalarýný saðlar.</p>     <p>Kelebekler polarize ýþýðý görebilirler. Böylece hava parçalý bulutlu bile olsa güneþin konumunu belirleyebilirler. Böylece kendi konumlarýný güneþe göre ayarlayabilirler ve yaþam alanlarýnda gezinirken bir pusula gibi kullanýrlar.Kelebekler renkler ve desenleri insanlar ve kuþlardan farklý görürler. Çünkü ultra-viyole ýþýðý da görebilme kabiliyetleri vardýr. Böylece çiçeklerdeki UV desenler de görülebilmektedir. Bu desenler kelebeklere nektar kaynaðý hakkýnda çiçeðe konuþ sýrasýnda uçuþ kulesinin uçaklara saðladýðý gibi rehberlik saðlarlar.</p>     <p>Kelebeklerin kanatlarýnda görünebilir desenlereden baþka UV desenlerde vardýr ve bu desenler sadece diðer kelebekler tarafýndan görülebilirler. Böylece kendi türlerinden olanlarý veya olmayanlarý hemencecik anlarlar.</p>     <table class=\"trafilatura\">       <tr>         <td>Copyright © 2012 AdaMerOs - Butterflies of Turkey, All rights reserved.</td>       </tr>     </table>   </div>   <section class=\"comments\" /> </doc>\"\r\n",
            "<urn:uuid:279c21f7-753d-4d2f-8b7e-2a6b1751cfe7>,https://www.obilet.com/otobus-bileti/canakkale-cardak,selcen,2021-10-19 13:39:03,accept,IN IP ds fi,\"<doc sitename=\"Obilet\" title=\"Çanakkale - Çardak Otobüs Bileti\" source=\"https://www.obilet.com/otobus-bileti/canakkale-cardak\" hostname=\"obilet.com\" excerpt=\"Çanakkale Çardak Otobüs Bileti, Isparta Petrol Turizm ve Onlarca Otobüs Firmasının Çanakkale Çardak Seferlerine Bilet için Otobüs Saatleri, En Ucuz Çanakkale Çardak Otobüs Bileti Fiyatları ile obilet.com'da! Çanakkale Çardak Arası Otobüs Ara, Hızlı ve Güvenli İşlemlerle Satın Al!\" categories=\"\" tags=\"\" fingerprint=\"2q1+w1/HHgJsZbF0I3bmaBhXrrg=\">   <div class=\"trafilatura-content\">     <h4>Çanakkale - Çardak Otobüs Bileti</h4>     <p>7/24 Müşteri Hizmetleri</p>     <p>Güvenli Ödeme</p>     <p>Komisyon Yok, Ücretsiz</p>     <p>Ayda 16 Milyondan<lb />Fazla Ziyaretçi</p>     <p>Fazla Ziyaretçi</p>     <p>İki Dakikada<lb />Biletini Al</p>     <p>Biletini Al</p>     <p>İptal Edilen Bilete<lb />Kesintisiz İade</p>     <p>Kesintisiz İade</p>     <h4>Çanakkale - Çardak Otobüs Seferi</h4>     <p>En Ucuz Sefer</p>     <p>80,00 TL</p>     <p>Günlük Sefer Sayısı</p>     <p>1</p>     <p>En Uygun Fiyatlı Firma</p>     <p>Çanakkale - Çardak Kaç Saat?</p>     <p>9 Saat</p>     <h4>Ucuz Çanakkale - Çardak Otobüs Seferleri</h4>     <ul class=\"trafilatura\">       <li>2+1Çanakkale<lb />Çanakkale OtogarıÇardak<lb />Çardak Otobüs Kalkış-Varış Noktası80,00 TL18:3003:30</li>     </ul>     <h4>Çanakkale Otogarları</h4>     <table class=\"trafilatura\">       <tr>         <td>Çanakkale Otogarı</td>         <td>+902862171079</td>       </tr>     </table>     <h4>Çardak Otogarları</h4>     <table class=\"trafilatura\">       <tr>         <td>Çardak Otobüs Kalkış-Varış Noktası</td>       </tr>     </table>     <p>Haritada görmek için tıklayınız.<ob-map> </ob-map> </p>     <h4>En Popüler Çanakkale Kalkışlı Otobüs Seferleri</h4>     <ul class=\"trafilatura\">       <li>Çanakkale - İstanbul Otobüs Bileti 75,00 TL</li>       <li>Çanakkale - İzmir Otobüs Bileti 65,00 TL</li>       <li>Çanakkale - Ankara Otobüs Bileti 100,00 TL</li>       <li>Çanakkale - Bursa Otobüs Bileti 50,00 TL</li>       <li>Çanakkale - Balıkesir Otobüs Bileti 59,00 TL</li>       <li>Çanakkale - Konya Otobüs Bileti 130,00 TL</li>       <li>Çanakkale - İzmit (Kocaeli) Otobüs Bileti 110,00 TL</li>       <li>Çanakkale - Antalya Otobüs Bileti 130,00 TL</li>       <li>Çanakkale - Tekirdağ Otobüs Bileti 60,00 TL</li>       <li>Çanakkale - Eskişehir Otobüs Bileti 80,00 TL</li>       <li>Çanakkale - Kayseri Otobüs Bileti 165,00 TL</li>       <li>Çanakkale - Çorlu Otobüs Bileti 80,00 TL</li>     </ul>     <h4>En Popüler Çardak Varışlı Otobüs Seferleri</h4>     <ul class=\"trafilatura\">       <li>Denizli - Çardak Otobüs Bileti 21,00 TL</li>       <li>Aydın - Çardak Otobüs Bileti 38,00 TL</li>       <li>Isparta - Çardak Otobüs Bileti 24,00 TL</li>       <li>Bursa - Çardak Otobüs Bileti 54,00 TL</li>       <li>Konya - Çardak Otobüs Bileti 64,00 TL</li>       <li>İzmir - Çardak Otobüs Bileti 45,00 TL</li>       <li>Adana - Çardak Otobüs Bileti 95,00 TL</li>       <li>Gaziantep - Çardak Otobüs Bileti 125,00 TL</li>       <li>Turgutreis - Çardak Otobüs Bileti 63,00 TL</li>       <li>Antalya - Çardak Otobüs Bileti 35,00 TL</li>       <li>Karaman - Çardak Otobüs Bileti 77,00 TL</li>       <li>Bodrum - Çardak Otobüs Bileti 56,00 TL</li>     </ul>     <h4>Sıkça Sorulan Sorular</h4>     <p>Çanakkale - Çardak arası otobüs yolculuğu ne kadar sürmektedir?</p>     <p>Çanakkale - Çardak arası otobüs yolculuğu ortalama olarak 9 saat sürmektedir.</p>     <p>Çanakkale - Çardak arası hangi otobüs firmaları sefer düzenlemektedir?</p>     <p>Çanakkale - Çardak arası sefer düzenleyen otobüs firmaları: Isparta Petrol Turizm</p>     <p>Çanakkale - Çardak arasında en çok sefer düzenleyen otobüs şirketi hangisidir?</p>     <p>En çok Çanakkale - Çardak otobüs seferi düzenleyen firma: Isparta Petrol Turizm</p>     <p>Çanakkale - Çardak en ucuz otobüs bileti ne kadardır?</p>     <p>En ucuz Çanakkale - Çardak otobüs bileti 80,00 TL’dir.</p>   </div>   <section class=\"comments\" /> </doc>\"\r\n",
            "<urn:uuid:43e5ddc1-81b5-4b29-b14d-8abd6334c182>,https://www.obilet.com/ucak-bileti/phuket-erbil,selcen,2021-10-19 13:39:03,accept,IP ds,\"<doc sitename=\"Obilet\" title=\"Phuket - Erbil (Irak) Uçak Bileti\" date=\"2021-02-01\" source=\"https://www.obilet.com/ucak-bileti/phuket-erbil\" hostname=\"obilet.com\" excerpt=\"Phuket Erbil (Irak) Uçak Bileti fiyatları için obilet.com! Emirates, Qatar ve 500+ Uçak Firmasının Ucuz Phuket Erbil (Irak) Uçak Biletleri için obilet.com'da Bilet Sorgulaması Yap, Uçuşları Karşılaştır, En Uygun Uçak Bileti Al!\" categories=\"\" tags=\"\" fingerprint=\"psgT0FhF1mjoB+/pX68G47OrMNg=\">   <div class=\"trafilatura-content\">     <h4>Phuket - Erbil (Irak) Uçak Bileti</h4>     <p>Fazla Ziyaretçi</p>     <h4>Phuket - Erbil (Irak) Uçuşu</h4>     <h4>En Ucuz Phuket - Erbil (Irak) Uçak Biletleri</h4>     <table class=\"trafilatura\">       <tr>         <td>Bangkok Airways</td>         <td>01 Şubat 2021-Pazartesi</td>       </tr>       <tr>         <td>Phuket Phuket Havalimanı</td>         <td>Erbil (Irak)</td>         <td>7.543,34 TL</td>       </tr>       <tr>         <td>10:25</td>         <td>02:55</td>         <td>SATIN AL</td>       </tr>     </table>     <p>Erbil Havalimanı</p>     <table class=\"trafilatura\">       <tr>         <td>Bangkok Airways</td>         <td>01 Şubat 2021-Pazartesi</td>       </tr>       <tr>         <td>Phuket Phuket Havalimanı</td>         <td>Erbil (Irak)</td>         <td>7.568,07 TL</td>       </tr>       <tr>         <td>19:50</td>         <td>02:55</td>         <td>SATIN AL</td>       </tr>     </table>     <p>Erbil Havalimanı</p>     <table class=\"trafilatura\">       <tr>         <td>Qatar Airways</td>         <td>01 Şubat 2021-Pazartesi</td>       </tr>       <tr>         <td>Phuket Phuket Havalimanı</td>         <td>Erbil (Irak)</td>         <td>7.572,93 TL</td>       </tr>       <tr>         <td>10:25</td>         <td>02:55</td>         <td>SATIN AL</td>       </tr>     </table>     <p>Erbil Havalimanı</p>     <h4>Phuket Erbil (Irak) Seyahat Yazıları</h4>     <ul class=\"trafilatura\">       <li><h4>Tayland’da Gezilecek 7 Yer</h4><p>Avrupa ve Amerika rotalarından sıkıldıysanız ve farklı kültürlere yelken açmak istiyorsanız, Asya ülkelerini ziyaret etmek size çok iyi gelecek. Tarihi, kültürü, doğal güzellikleri, lezzetli ve ilginç mutfağı sayesinde her yıl binlerce turistin akın ettiği Tayland, Asya kıtasındaki en popüler tatil rotalarının başında geliyor. Bangkok gibi büyük bir şehri ve Phi Phi gibi egzotik adaların ev</p>Devamını Gör</li>       <li><h4>Asya’da Görmeniz Gereken 20 Yer</h4><p>Dünya’nın en büyük kıtası olan Asya Kıtası, barındırdığı envai çeşit ülkenin rengarenk kültürleriyle her yıl milyonları ağırlıyor. Uzun yıllar boyunca birçok medeniyete de ev sahipliği yapmış bu kıtada insanı şaşırtacak o kadar çok detay var ki! Bu yazıları okurken belki daha önce gittiğiniz Asya şehirlerini hatırlıyorsunuz, belki de bundan sonra gezmek için can atacağınız yerleri</p>Devamını Gör</li>       <li><h4>Dünyanın En Eski 25 Şehri</h4><p>4.5 milyar yıldır yaşamın kaynağı olan dünyada günümüz insanına en yakın tür olan homo sapienslerin bulunuşu dahi 209 bin yıl öncesine dayanıyor. Bu rakamlardan yola çıkarak dünyanın yeni sakinlerinden olsak dahi geçmişten günümüze kadar ulaşmayı başarmış olan yerleşim yerlerinin tarihi maksimum 12 bin yıl öncesine dayanıyor. Neolitik Çağ’la birlikte toprağı işlemeyi öğrenen insanlar, yerleşik hayata</p>Devamını Gör</li>     </ul>     <h4>Phuket Havalimanları</h4>     <table class=\"trafilatura\">       <tr>         <td>Havalimanı</td>         <td>Telefon</td>         <td>Şehir Merkezine Uzaklık</td>         <td>Ulaşım</td>       </tr>       <tr>         <td>Phuket Havalimanı</td>       </tr>     </table>     <h4>Phuket - Erbil (Irak) Arası Alternatif Seferler</h4>     <h4>Phuket Kalkışlı Popüler Uçak Seferleri</h4>     <h4>Erbil (Irak) Varışlı Popüler Uçak Seferleri</h4>     <ul class=\"trafilatura\">       <li>İstanbul - Erbil (Irak) Uçak Bileti 967,81 TL</li>       <li>Ankara - Erbil (Irak) Uçak Bileti 1.105,00 TL</li>       <li>Diyarbakır - Erbil (Irak) Uçak Bileti 959,75 TL</li>       <li>Gaziantep - Erbil (Irak) Uçak Bileti 977,75 TL</li>       <li>Antalya - Erbil (Irak) Uçak Bileti 942,00 TL</li>       <li>İzmir - Erbil (Irak) Uçak Bileti 1.095,00 TL</li>       <li>Adana - Erbil (Irak) Uçak Bileti 922,75 TL</li>       <li>Van - Erbil (Irak) Uçak Bileti 1.251,75 TL</li>       <li>Kayseri - Erbil (Irak) Uçak Bileti 2.729,93 TL</li>       <li>Şırnak - Erbil (Irak) Uçak Bileti 1.632,21 TL</li>       <li>Tiflis - Erbil (Irak) Uçak Bileti 3.402,30 TL</li>       <li>Samsun - Erbil (Irak) Uçak Bileti 1.247,75 TL</li>     </ul>   </div>   <section class=\"comments\" /> </doc>\"\r\n",
            "<urn:uuid:ac179fe9-0a06-4b3c-b085-8f0fd72599f3>,https://www.kip.com.tr/haki-duz-orme-t-shirt_10120555-46,selcen,2021-10-19 13:39:03,accept,IN lt,\"<doc sitename=\"kip.com.tr - KIP\" title=\"Erkek Haki Düz Örme T - Shirt\" source=\"https://www.kip.com.tr/haki-duz-orme-t-shirt_10120555-46\" hostname=\"kip.com.tr\" excerpt=\"Erkek Haki Düz Örme T - Shirt modelleri ile hem şıksın hem de çok rahat! Hemen tıkla! Beyaz , Haki , Kırmızı , Koyu Yeşil \" categories=\"\" tags=\"erkek Haki Düz Örme T - Shirt modelleri, erkek Haki Düz Örme T - Shirt, erkek Haki T-Shirt modelleri \" fingerprint=\"jVdKs19DJc1W4jwG9xqtXcW7J+8=\">   <div class=\"trafilatura-content\">     <p>Article Kodu : TSH-644</p>     <p>Çekim ortamı, ışık ve gölgelenmelere bağlı olarak görsellerde renk farklılıkları ya da parlamalar oluşabilir.</p>     <p>İade etmek isteğinizi ürünü tüm aksesuarları ile birlikte, etiketi koparılmadan, orijinal faturası ve ambalajları ile birlikte 14 gün içinde faturada bulunan iade kısmını doldurarak gönderebilirsiniz.</p>     <p>Ürününüzün değişimini 14 gün içinde kip.com.tr aracılığı ile ya da Konsept Mağazalarımızdan yapabilirsiniz. kip.com.tr'den yapılacak değişim için iade ile aynı süreç geçerlidir. Konsept Mağazalardan değişimi içinse ürünü tüm aksesuarları ile birlikte eksiksiz, etiketi koparılmadan, orijinal faturası ve ambalajları ile birlikte mağazamıza getirebilirsiniz.</p>     <p>Ürün teslimatı UPS Kargo ile yapılmaktadır. Size e-posta aracılığıyla ulaşan kargo takip numarasıyla, www.ups.com.tr web sitesinden ya da sipariş detayınızda yer alan linkten siparişinizin durumunu kontrol edebilirsiniz.</p>     <table class=\"trafilatura\">       <tr>         <td>BEDEN</td>         <td>A</td>         <td>B</td>         <td>C</td>         <td>D</td>         <td>E</td>       </tr>       <tr>         <td>S</td>         <td>52</td>         <td>54</td>         <td>56</td>         <td>58</td>         <td>60</td>       </tr>       <tr>         <td>M</td>         <td>52</td>         <td>54</td>         <td>56</td>         <td>58</td>         <td>60</td>       </tr>       <tr>         <td>L</td>         <td>52</td>         <td>54</td>         <td>56</td>         <td>58</td>         <td>60</td>       </tr>       <tr>         <td>XL</td>         <td>52</td>         <td>54</td>         <td>56</td>         <td>58</td>         <td>60</td>       </tr>       <tr>         <td>XXL</td>         <td>52</td>         <td>54</td>         <td>56</td>         <td>58</td>         <td>60</td>       </tr>     </table>   </div>   <section class=\"comments\" /> </doc>\"\r\n",
            "<urn:uuid:a1759eed-e66f-4b66-aaa0-4b3967673e2b>,http://pressa.az/10308.html,selcen,2021-10-19 13:39:03,reject,,\"<doc sitename=\"Reyd.az\" title=\" Sabirabadda COVID-19 xəstəsinə cinayət işi açıldı \" source=\"https://www.pressa.az/10308.html\" hostname=\"pressa.az\" excerpt=\" \" categories=\"News\" tags=\" \" fingerprint=\"/pQ9y159+PjXJCNfRq8KVAlKA/Y=\">   <div class=\"trafilatura-content\">     <p>Koronavirusun yayılmasının qarşının alınması məqsədilə ölkəmizdə elan edilən xüsusi karantin rejiminin müxtəlif yollarla pozulması hallarına qarşı prokurorluq orqanları tərəfindən kompleks və ardıcıl tədbirlər davam etdirilir.</p>     <p>Sabirabad Rayon Prokurorluğundan verilən məlumata görə, Sabirabad rayon sakini, 1964-cü il təvəllüdlü Əkbərov Qubad Əkbər oğlunun noyabrın 11-də COVID-19-la bağlı test analizi verməklə testin nəticəsinin pozitiv olmasını bilə-bilə xüsusi karantin rejiminə əməl edərək, həmin müddəti evdə keçirməli olduğu halda, ayın 23-də idarə etdiyi \"QAZ-3110” markalı avtomobillə hərəkətdə olarkən xüsusi karantin rejimi ilə əlaqədar yaradılmış stasionar postda saxlanılaraq, epidemiya əleyhinə, eləcə də, karantin rejimini kobud surətdə pozub yeni növ koronavirus infeksiyasının yayılması üçün real təhlükə yaratması müəyyən edilib.</p>     <p>Faktla bağlı Sabirabad Rayon Prokurorluğunda Cinayət Məcəlləsinin 139-1.1-ci (epidemiya əleyhinə rejimin, sanitariya-gigiyena və ya karantin rejimlərinin pozulması) maddəsi ilə cinayət işi başlanaraq, istintaqın aparılması üçün aidiyyəti üzrə Sabirabad Rayon Polis Şöbəsinə göndərilib.</p>     <p>Hazırda iş üzrə zəruri istintaq hərəkətləri davam etdirilir.</p>   </div>   <section class=\"comments\" /> </doc>\"\r\n",
            "<urn:uuid:0637641e-c1d4-410e-858f-793fa32ecfd4>,https://highschoolprograms.ku.edu.tr/kis-kampi/secenekler/hukuk/,selcen,2021-10-19 13:39:03,accept,IN,\"<doc sitename=\"Lise Öğrencileri için Programlar\" title=\"Hukuk Kampı\" source=\"https://highschoolprograms.ku.edu.tr/kis-kampi/secenekler/hukuk/\" hostname=\"ku.edu.tr\" categories=\"\" tags=\"\" fingerprint=\"asS6TGXSc8+tz5NrBI83IOV/eDU=\">   <div class=\"trafilatura-content\">     <div>       <h4>Dil: Türkçe</h4>       <h4>1. Hafta: Özel Hukuk Modülü</h4>       <h4>Ders Tanımı</h4>       <p>Hukuk Kış Kampı lise öğrencilerinde hukuk konusunda bir farkındalık yaratma amacını taşımaktadır. Bu kapsamda öncelikle hukuka giriş bağlamında Türk hukukunun kaynakları ve hukuk kurallarının çeşitleri üzerinde durulacaktır. Özel hukuk modülü, sözleşme hazırlanırken veya incelenirken dikkat edilmesi gereken hususlar ve muhtemel uyuşmazlık konularının tespitini, daha sonra da sözleşmeden kaynaklanan sorunların çözümüne yönelik somut çözüm önerilerini, bilgi ve deneyimlerin paylaşılmasını içermektedir. Örnek vaka incelemeleri ile desteklenecek olan eğitimin sonunda öğrenciler uygulamada karşılaşacakları temel hukuki sorunlar konusunda bilgi sahibi olacaklardır.</p>       <h4>Ders Hedefleri</h4>       <p>Dersin hedefleri öğrencilerin</p>       <ul class=\"trafilatura\">         <li>özel hukuk ve kamu hukukunun çeşitli alanlarında temel bilgi edinmeleri,</li>         <li>sözleşmeler hukuku ve uyuşmazlık çözümü konusunda farkındalık kazanmaları ve</li>         <li>vatandaşlık ve yabancılar hukuku hakkında temel ilkeleri öğrenmeleridir.</li>       </ul>       <h4>Ders Çıktıları</h4>       <p>Bu dersi alan öğrenciler,</p>       <ul class=\"trafilatura\">         <li>bir sözleşmenin ne zaman kurulduğu; bir sözleşmenin ne kadar süre ile bağlayıcı olduğu; sözleşmeye aykırılığın sonuçlarının neler olduğu,</li>         <li>uyuşmazlıkların nasıl çözümleneceği ve</li>         <li>yabancıların Türkiye’de tabi oldukları hukuki rejimin kaynakları konusunda temel bilgilere sahip olacaklardır.</li>       </ul>       <h4>Ders Materyalleri</h4>       <p>Derste kullanılacak materyaller, örnek vaka çalışmaları, sözleşme örnekleri ve temel hukuki metinler öğrenciler ile paylaşılacaktır.</p>     </div>   </div>   <section class=\"comments\" /> </doc>\"\r\n",
            "<urn:uuid:63fb828c-caed-4ab0-a9de-bc0462e9e09d>,https://www.sohbetci.com.tr/gay-sohbet/,selcen,2021-10-19 13:39:03,accept,IP ds,\"<doc sitename=\"Sohbet Odaları\" title=\"Gay Sohbet\" author=\"İsim\" date=\"2020-12-20\" source=\"https://www.sohbetci.com.tr/gay-sohbet/\" hostname=\"sohbetci.com.tr\" categories=\"Sohbet\" tags=\"\" fingerprint=\"xALEeSiiWYGzpaCI3+96waQ59io=\">   <div class=\"trafilatura-content\">     <p>Gay Sohbet; sanal ortamın en güzel ve en eğlenceli alanlarından bir tanesidir. Bunun sebebi de şudur ki gerçek yaşantıda kendi iç dünyasındaki arayışları kimi insanlar karşıya yansıtamaz. Sadece karşıya ilgi duyduğu hisle kalırlar. Burada ise yapmanız gereken gizlilik ilkesi gereğince karşıdaki insanlara olan isteğini dile getirebilmenizdir. Burada yazarak herşeyi kolayca dile getirebileceksiniz. Bu gibi durumlar birer utanç değil birer ihtiyaçtır diyebiliriz. Bizde burada sizlerin hislerinin gerçekleşmesini sağlıyoruz. Cinselliği farklı şekilde yaşamak için tam yerindesiniz. Kendinize yeni heyecanlar arıyor iseniz ayrıca çok bunaldı iseniz, sıkıldınız ve biraz nefes alıp keyifli vakit geçirmeye mi ihtiyacınız var e o zaman tam yerine geldiniz hoş sohbetler.</p>   </div>   <section class=\"comments\" /> </doc>\"\r\n"
          ]
        }
      ]
    },
    {
      "cell_type": "code",
      "source": [
        "from trankit import Pipeline\n",
        "\n",
        "p = Pipeline('english')\n",
        "fre = Pipeline('french')\n"
      ],
      "metadata": {
        "id": "PDBCPhM-zVcx"
      },
      "execution_count": null,
      "outputs": []
    },
    {
      "cell_type": "code",
      "source": [],
      "metadata": {
        "id": "A_SYom3xmcrE"
      },
      "execution_count": null,
      "outputs": []
    },
    {
      "cell_type": "code",
      "source": [
        "from trankit import Pipeline\n",
        "\n",
        "t = Pipeline('turkish')"
      ],
      "metadata": {
        "colab": {
          "base_uri": "https://localhost:8080/",
          "height": 287,
          "referenced_widgets": [
            "6dc1a217bdd7461aa2677d805e1b03af",
            "410ee970448c48b38f4acbb79a019087",
            "6650a68336704346b7238fa39c3f13a6",
            "4ecae277e3224f4199bf4355404a6115",
            "1dfed9c2a0f44c95978b96099ec088af",
            "f8db4e318d6e454182668f8013d806c5",
            "b64d132096744542a6a0e5747bad9e71",
            "25a430d1ccc24cfeb7b3ac032844d402",
            "25785d05be91464e87a9198467bc4671",
            "c8f85051ccd54102820f75dc29d2b83d",
            "a33c87fa0d95495984db3ba89bd5ad44",
            "b10d1cae7a4941cc93ac651cb78752c4",
            "dce2af00db9a4021b4f413178de04d3d",
            "4d2b6cbd901a4c548dabceb9df6b9c40",
            "b5608b72614d40aa924d105288a06d35",
            "6b9eeb29f80a4ae788b1af5f729f6495",
            "5ddbe082e9ab4accbf905908c601c535",
            "56bd8aa20ffb4cb98ba1511f1fcc6af3",
            "10c4b9e50db64c00965629c25b6ee52f",
            "7b9ac1f2bcb14034834ec377fb2bc113",
            "6c045ffeb28d4d72863fe55c1df99bfe",
            "827651154a2c4ff683f0533b11a440af",
            "452da7b838074f7b84a10db440048a2b",
            "38e51b97348f41faa30d0c17ca119172",
            "982c7b79e55a43c78510956b4cd38f54",
            "a5a4de52a02347afb1b473cce16e5a11",
            "39067ecff85c43409dbe5fa18dd4160c",
            "93be6f555ef947f688fe38d207b6fd1f",
            "e802732610fd4b7980ee1e80bcc698d4",
            "816dc51952a24d67956c8d216a089873",
            "a1ed45505f264c2ea3bf649fb3804e69",
            "e0baa923f9b649fbbc2e0de7c439200e",
            "c184a546a7d540bcb1694b64dd495c1d"
          ]
        },
        "id": "AlcJF6pV2D3k",
        "outputId": "8b909dc8-7c58-4668-cfa9-391d26ad07d7"
      },
      "execution_count": 7,
      "outputs": [
        {
          "output_type": "display_data",
          "data": {
            "text/plain": [
              "Downloading:   0%|          | 0.00/5.07M [00:00<?, ?B/s]"
            ],
            "application/vnd.jupyter.widget-view+json": {
              "version_major": 2,
              "version_minor": 0,
              "model_id": "6dc1a217bdd7461aa2677d805e1b03af"
            }
          },
          "metadata": {}
        },
        {
          "output_type": "stream",
          "name": "stdout",
          "text": [
            "http://nlp.uoregon.edu/download/trankit/v1.0.0/xlm-roberta-base/turkish.zip\n"
          ]
        },
        {
          "output_type": "stream",
          "name": "stderr",
          "text": [
            "Downloading: 100%|██████████| 28.7M/28.7M [00:01<00:00, 22.9MiB/s]\n"
          ]
        },
        {
          "output_type": "stream",
          "name": "stdout",
          "text": [
            "Loading pretrained XLM-Roberta, this may take a while...\n"
          ]
        },
        {
          "output_type": "display_data",
          "data": {
            "text/plain": [
              "Downloading:   0%|          | 0.00/512 [00:00<?, ?B/s]"
            ],
            "application/vnd.jupyter.widget-view+json": {
              "version_major": 2,
              "version_minor": 0,
              "model_id": "b10d1cae7a4941cc93ac651cb78752c4"
            }
          },
          "metadata": {}
        },
        {
          "output_type": "display_data",
          "data": {
            "text/plain": [
              "Downloading:   0%|          | 0.00/1.12G [00:00<?, ?B/s]"
            ],
            "application/vnd.jupyter.widget-view+json": {
              "version_major": 2,
              "version_minor": 0,
              "model_id": "452da7b838074f7b84a10db440048a2b"
            }
          },
          "metadata": {}
        },
        {
          "output_type": "stream",
          "name": "stdout",
          "text": [
            "Loading tokenizer for turkish\n",
            "Loading tagger for turkish\n",
            "Loading multi-word expander for turkish\n",
            "Loading lemmatizer for turkish\n",
            "==================================================\n",
            "Active language: turkish\n",
            "==================================================\n"
          ]
        }
      ]
    },
    {
      "cell_type": "code",
      "source": [
        "# a non-empty string to process, which can be a document or a paragraph with multiple sentences\n",
        "doc_text = '''Hello! This is Trankit.'''\n",
        "\n",
        "# perform all tasks on the input\n",
        "all = p(doc_text)\n",
        "print(all)"
      ],
      "metadata": {
        "colab": {
          "base_uri": "https://localhost:8080/",
          "height": 217
        },
        "id": "rtuVzH_cz_9a",
        "outputId": "34c714f3-e884-4889-c0d6-d2f261c10e43"
      },
      "execution_count": 55,
      "outputs": [
        {
          "output_type": "error",
          "ename": "NameError",
          "evalue": "ignored",
          "traceback": [
            "\u001b[0;31m---------------------------------------------------------------------------\u001b[0m",
            "\u001b[0;31mNameError\u001b[0m                                 Traceback (most recent call last)",
            "\u001b[0;32m<ipython-input-55-91302c124af0>\u001b[0m in \u001b[0;36m<module>\u001b[0;34m\u001b[0m\n\u001b[1;32m      3\u001b[0m \u001b[0;34m\u001b[0m\u001b[0m\n\u001b[1;32m      4\u001b[0m \u001b[0;31m# perform all tasks on the input\u001b[0m\u001b[0;34m\u001b[0m\u001b[0;34m\u001b[0m\u001b[0;34m\u001b[0m\u001b[0m\n\u001b[0;32m----> 5\u001b[0;31m \u001b[0mall\u001b[0m \u001b[0;34m=\u001b[0m \u001b[0mp\u001b[0m\u001b[0;34m(\u001b[0m\u001b[0mdoc_text\u001b[0m\u001b[0;34m)\u001b[0m\u001b[0;34m\u001b[0m\u001b[0;34m\u001b[0m\u001b[0m\n\u001b[0m\u001b[1;32m      6\u001b[0m \u001b[0mprint\u001b[0m\u001b[0;34m(\u001b[0m\u001b[0mall\u001b[0m\u001b[0;34m)\u001b[0m\u001b[0;34m\u001b[0m\u001b[0;34m\u001b[0m\u001b[0m\n",
            "\u001b[0;31mNameError\u001b[0m: name 'p' is not defined"
          ]
        }
      ]
    },
    {
      "cell_type": "code",
      "source": [
        "from trankit import trankit2conllu\n",
        "\n",
        "def parse(doc):\n",
        "  out = doc.split(\".\")[0]\n",
        "  delme = open(doc, \"r\")\n",
        "  outf = open(out+\".conllu\", \"w\")\n",
        "  delme2 = list(delme)\n",
        "  for item in delme2:\n",
        "    if not item.startswith(\"##C:\"):\n",
        "      all_tu = t(item)\n",
        "      tu_conllu = trankit2conllu(all_tu)\n",
        "      outf.write(tu_conllu)\n",
        "      #print(tu_conllu)\n",
        "      outf.write(\"\\n\")\n",
        "    else:\n",
        "      outf.write(item)\n",
        "      #print(item)\n",
        "      outf.write(\"\\n\")"
      ],
      "metadata": {
        "id": "eQVmANh22KHk"
      },
      "execution_count": null,
      "outputs": []
    },
    {
      "cell_type": "code",
      "source": [
        "from trankit import trankit2conllu\n",
        "\n",
        "def parse_fre(doc):\n",
        "  out = doc.split(\".\")[0]\n",
        "  delme = open(doc, \"r\")\n",
        "  outf = open(out+\".conllu\", \"w\")\n",
        "  #delme2 = list(delme)\n",
        "  for line in delme:\n",
        "    line=line.strip().split(\"\\t\")\n",
        "    outf.write(\"###C: DOCSTART \")\n",
        "    for ix, item in enumerate(line):\n",
        "      if ix == int(3):\n",
        "        all_tu = fre(item)\n",
        "        tu_conllu = trankit2conllu(all_tu)\n",
        "        outf.write(tu_conllu)\n",
        "        #print(tu_conllu)\n",
        "        outf.write(\"\\n\")\n",
        "      else:\n",
        "        outf.write(\"###C: \")\n",
        "        outf.write(item)\n",
        "        #print(item)\n",
        "        outf.write(\"\\n\")"
      ],
      "metadata": {
        "id": "Mg1vn91HbQuV"
      },
      "execution_count": 79,
      "outputs": []
    },
    {
      "cell_type": "code",
      "source": [
        "parse_fre(\"head.txt\")"
      ],
      "metadata": {
        "id": "iHZ9dnaIDaX_"
      },
      "execution_count": 76,
      "outputs": []
    },
    {
      "cell_type": "code",
      "source": [
        "! cat head.conllu | head"
      ],
      "metadata": {
        "colab": {
          "base_uri": "https://localhost:8080/"
        },
        "id": "BzaPUI-YE_wl",
        "outputId": "3a74ecce-8ef3-478f-a9e2-6f08c54edebd"
      },
      "execution_count": 78,
      "outputs": [
        {
          "output_type": "stream",
          "name": "stdout",
          "text": [
            "###C: DOCSTART###C: FR_4777905\n",
            "###C: http://www.hostels.com/fr/auberges-de-jeunesse/prague/chili-hostel/12463#anchor=map\n",
            "###C: IP HI DS\n",
            "1-2\tAu\t_\t_\t_\t_\t_\t_\t_\t_\n",
            "1\tà\tà\tADP\t_\t_\t3\tcase\t_\t_\n",
            "2\tle\tle\tDET\t_\tDefinite=Def|Gender=Masc|Number=Sing|PronType=Art\t3\tdet\t_\t_\n",
            "3\tChili\tChili\tPROPN\t_\t_\t7\tobl:mod\t_\t_\n",
            "4\tHostel\tHostel\tPROPN\t_\t_\t3\tflat:name\t_\t_\n",
            "5\t,\t,\tPUNCT\t_\t_\t3\tpunct\t_\t_\n",
            "6\tnous\til\tPRON\t_\tNumber=Plur|Person=1|PronType=Prs\t7\tnsubj\t_\t_\n"
          ]
        }
      ]
    },
    {
      "cell_type": "code",
      "source": [
        "from trankit import trankit2conllu\n",
        "\n",
        "conllu = trankit2conllu(all)\n",
        "print(conllu)"
      ],
      "metadata": {
        "id": "k0amhaM707cU"
      },
      "execution_count": null,
      "outputs": []
    }
  ]
}