{
  "nbformat": 4,
  "nbformat_minor": 0,
  "metadata": {
    "colab": {
      "provenance": [],
      "authorship_tag": "ABX9TyPMG+HbeMebPrg05oWwxDwx",
      "include_colab_link": true
    },
    "kernelspec": {
      "name": "python3",
      "display_name": "Python 3"
    },
    "language_info": {
      "name": "python"
    },
    "accelerator": "GPU"
  },
  "cells": [
    {
      "cell_type": "markdown",
      "metadata": {
        "id": "view-in-github",
        "colab_type": "text"
      },
      "source": [
        "<a href=\"https://colab.research.google.com/github/mavela/Corpus-linguistics-scripts/blob/main/Turkish_data_cleaner.ipynb\" target=\"_parent\"><img src=\"https://colab.research.google.com/assets/colab-badge.svg\" alt=\"Open In Colab\"/></a>"
      ]
    },
    {
      "cell_type": "code",
      "source": [
        "from google.colab import drive # change to your own! \n",
        "drive.mount('/content/drive')"
      ],
      "metadata": {
        "colab": {
          "base_uri": "https://localhost:8080/"
        },
        "id": "YOLDHxVaaKmK",
        "outputId": "dd822c36-7b79-4c62-ef5b-388bd0e0e3f8"
      },
      "execution_count": 2,
      "outputs": [
        {
          "output_type": "stream",
          "name": "stdout",
          "text": [
            "Mounted at /content/drive\n"
          ]
        }
      ]
    },
    {
      "cell_type": "code",
      "source": [
        "! cat '/content/drive/MyDrive/WorkStuff/csv.Turkish_random_sample_data.csv' | head -10 | perl -pe 's/\\\"\\\"/\\\"/g' | egrep \"^<\"> tur_head.csv # if you dont want to take a sample, skip the head part, but the others are needed"
      ],
      "metadata": {
        "id": "p_aTkkQAaXx4"
      },
      "execution_count": 8,
      "outputs": []
    },
    {
      "cell_type": "code",
      "source": [
        "! cat '/content/drive/MyDrive/WorkStuff/csv.Turkish_random_sample_data.csv' | head -2 "
      ],
      "metadata": {
        "colab": {
          "base_uri": "https://localhost:8080/"
        },
        "id": "W4Oc435mGhXe",
        "outputId": "01007823-f376-4ee4-d5a6-bb5a0c350391"
      },
      "execution_count": 5,
      "outputs": [
        {
          "output_type": "stream",
          "name": "stdout",
          "text": [
            "id,source,annotator,date,label,tags,text\r\n",
            "<urn:uuid:869730a7-b70f-493c-9f8b-36ea14064b52>,https://www.abelge.com/Detay_ana.asp?ana_id=23&2YJ6YL20RRG6R4DOANCG6ROK520R607FIZ78EMI1CX3HDXBIJHLA5A444FIKE460XDE1CGR5ALB2L09J6I9B2BKFZX,selcen,2021-10-19 13:39:03,reject,,\"<doc sitename=\"\"A Belge-HALAL FOOD COUNCIL-TR\"\" title=\"\"HELAL Belgelendirme, koþer,vegan,fssc22000 belgelendirme,Marka Tescili-Patent-Garanti belgesi\"\" author=\"\"Çözüm Ortaðýnýz\"\" excerpt=\"\"A Belge, Sistem Belgelendirme-Ürün Belgelendirme-Helal gýda-Üretim Ýzin Belgeleri-Ve Mühendislik Ve Danýþmanlýk Hizmetleri Vermektedir.\"\" categories=\"\"\"\" tags=\"\"A Belge, HELAL - KOÞER ,VEGAN,FSSC22000,ESMA,SEDEX, Ürün Belgelendirme, Helal gýda, Marka tescili, Garanti belgesi, Mühendislik Ve Danýþmanlýk Hizmetleri, Helal Gýda Baþ Denetçi\"\" fingerprint=\"\"aEsqbSft64xDLHRQFrSyaS6EGBM=\"\">   <div class=\"\"trafilatura-content\"\">     <table class=\"\"trafilatura\"\">       <tr>         <td>Ana Sayfa</td>         <td>Hakkýmýzda</td>         <td>Bize Ulaþýn</td>       </tr>     </table>     <table class=\"\"trafilatura\"\">       <tr>         <td>ESMA BELGESÝ</td>       </tr>     </table>     <table class=\"\"trafilatura\"\">       <tr>         <td>VEGAN SERTÝFÝKASI</td>       </tr>     </table>     <table class=\"\"trafilatura\"\">       <tr>         <td>SEDEX-SMETA-BELGESÝ</td>       </tr>     </table>     <table class=\"\"trafilatura\"\">       <tr>         <td>SÝSTEM BELGELENDÝRME</td>       </tr>     </table>     <table class=\"\"trafilatura\"\">       <tr>         <td>ÜRÜN BELGELENDÝRME</td>       </tr>     </table>     <table class=\"\"trafilatura\"\">       <tr>         <td>HELAL GIDA BELGELENDÝRME</td>       </tr>     </table>     <table class=\"\"trafilatura\"\">       <tr>         <td>KOÞER (KOSHER) BELGELENDÝRME</td>       </tr>     </table>     <table class=\"\"trafilatura\"\">       <tr>         <td>TEÞVÝKLER,HÝBELER,KALKINMA AJANSI</td>       </tr>     </table>     <table class=\"\"trafilatura\"\">       <tr>         <td>MARKA TESCÝLÝ - PATENT - FAYDALI MODEL</td>       </tr>     </table>     <table class=\"\"trafilatura\"\">       <tr>         <td>ÝÞYERÝ RUHSATLARI</td>       </tr>     </table>     <table class=\"\"trafilatura\"\">       <tr>         <td>TOPLU YEMEK TAAHHÜDÜ</td>       </tr>     </table>     <table class=\"\"trafilatura\"\">       <tr>         <td>EÐÝTÝMLÝ PERSONEL ÝSTÝHDAMI</td>       </tr>     </table>     <table class=\"\"trafilatura\"\">       <tr>         <td>EÐÝTÝMLER - SEMÝNERLER</td>       </tr>     </table>     <table class=\"\"trafilatura\"\">       <tr>         <td>FAYDALI BÝLGÝLER</td>       </tr>     </table>     <table class=\"\"trafilatura\"\">       <tr>         <td>REFERANSLARIMIZ</td>       </tr>     </table>     <table class=\"\"trafilatura\"\">       <tr>         <td>HELAL BELGELÝ ÜRÜN YENÝLEBÝLECEKLER</td>       </tr>     </table>     <table class=\"\"trafilatura\"\">       <tr>         <td>BÝLGÝ VÝDEOLARI</td>       </tr>     </table>     <table class=\"\"trafilatura\"\">       <tr>         <td>FOTO GALERÝ</td>       </tr>     </table>     <table class=\"\"trafilatura\"\">       <tr>         <td>TEMSÝLCÝLÝKLERÝMÝZ</td>       </tr>     </table>     <table class=\"\"trafilatura\"\">       <tr>         <td>TEMSÝLCÝLERÝMÝZ</td>       </tr>     </table>     <p>...::Belge Sorgula...</p>     <p>...:: Baþvuru Formlarý (Dosya)...</p>     <p>Online Baþvuru Formu Dosyasý</p>     <p>* Denetçi Eðitim Formu</p>     <p>Helal Gýda Baþ Denetçi HELAL GIDA TEMEL EÐÝTÝMÝ ; ADNBELGELENDÝRME(HALALFOODCOUNCIL OF TURKEY)- sýnýrlý sayýda HELAL GIDA temel eðitimi açýlacaktýr.Ýlgilenen arkadaþlarýn lütfen formu doldurmalarý gerekmektedir.Katýlým için : ilahiyatçý,gýda mühendisi,kimya mühendisi,ziraat mühendisi, veteriner, endüstri mühendisi,gýda teknikeri titrine sahip olanlar.tercih edilirler. BÖLGE TEMSÝLCÝLÝKLERÝ VERÝLECEKLER ISO 27001 BGYS BAÞ DENETÇÝ EÐÝTÝMÝ AÇILACAKTIR. HELAL: ALLAHA KARÞI SORUMLULUKTUR ALLAHIN KOYDUÐU KANUNDUR HELAL :FITRATTIR. HELAL :SAÐLIKTIR. HELAL: ALLAHIN EN GÜZEL ÞEKÝLDE YARATTIÐI VE MECCANEN BÝZE HEDÝYE ETTÝÐÝ MÜCEVHERLERDEN DEÐERLÝ VÜCUDUMUZA SAHÝP ÇIKMAKTIR. HELAL ÝLE ÝLGÝSÝ OLMAYAN LAR ,HÝÇBÝR AKREDÝTASYONU OLMAYANLAR HELAL BELGESÝ VERÝYORLAR.BUNLARIN HÝÇBÝR EHLÝYETLERÝ YOK. BU FÝRMALARI VE KÝÞÝLERÝ ÞÝDDETLE KINIYORUM.</p>     <p>HELAL GIDA TEMEL EÐÝTÝMÝ ;</p>     <p>ADNBELGELENDÝRME(HALALFOODCOUNCIL OF TURKEY)- sýnýrlý sayýda HELAL GIDA temel eðitimi açýlacaktýr.Ýlgilenen arkadaþlarýn lütfen formu doldurmalarý gerekmektedir.Katýlým için : ilahiyatçý,gýda mühendisi,kimya mühendisi,ziraat mühendisi, veteriner, endüstri mühendisi,gýda teknikeri titrine sahip olanlar.tercih edilirler.</p>     <p>BÖLGE TEMSÝLCÝLÝKLERÝ VERÝLECEKLER</p>     <p>ISO 27001 BGYS BAÞ DENETÇÝ EÐÝTÝMÝ AÇILACAKTIR.</p>     <p>HELAL: ALLAHA KARÞI SORUMLULUKTUR</p>     <p>ALLAHIN KOYDUÐU KANUNDUR</p>     <p>HELAL :FITRATTIR.</p>     <p>HELAL :SAÐLIKTIR.</p>     <p>HELAL: ALLAHIN EN GÜZEL ÞEKÝLDE YARATTIÐI</p>     <p>VE MECCANEN BÝZE HEDÝYE ETTÝÐÝ MÜCEVHERLERDEN DEÐERLÝ VÜCUDUMUZA</p>     <p>SAHÝP ÇIKMAKTIR.</p>     <p>HELAL ÝLE ÝLGÝSÝ OLMAYAN LAR ,HÝÇBÝR AKREDÝTASYONU OLMAYANLAR</p>     <p>HELAL BELGESÝ VERÝYORLAR.BUNLARIN HÝÇBÝR EHLÝYETLERÝ YOK.</p>     <p>BU FÝRMALARI VE KÝÞÝLERÝ ÞÝDDETLE KINIYORUM.</p>     <table class=\"\"trafilatura\"\">       <tr>         <td>VEGAN</td>       </tr>     </table>     <table class=\"\"trafilatura\"\">       <tr>         <td>ISO 9001-2015 BAÞDENETÇÝ EÐÝTÝMÝ</td>       </tr>     </table>     <table class=\"\"trafilatura\"\">       <tr>         <td>BÝZDEN HABERLER</td>       </tr>     </table>     <table class=\"\"trafilatura\"\">       <tr>         <td>Helal Kongresi</td>       </tr>     </table>     <table class=\"\"trafilatura\"\">       <tr>         <td>TELEVÝZYON PROGRAMI</td>       </tr>     </table>     <table class=\"\"trafilatura\"\">       <tr>         <td>MONOSODYUM GLUTAMAT</td>       </tr>     </table>     <table class=\"\"trafilatura\"\">       <tr>         <td>GENETÝK</td>       </tr>     </table>     <table class=\"\"trafilatura\"\">       <tr>         <td>GIDALAR</td>       </tr>     </table>     <table class=\"\"trafilatura\"\">       <tr>         <td>ÞEYTAN</td>       </tr>     </table>     <table class=\"\"trafilatura\"\">       <tr>         <td>PLATONÝK MATEMATÝK VE ALLAH</td>       </tr>     </table>     <table class=\"\"trafilatura\"\">       <tr>         <td>AKIL BÝLÝM VE DÝN</td>       </tr>     </table>     <table class=\"\"trafilatura\"\">       <tr>         <td>SAÐLIKLI EKMEK</td>       </tr>     </table>     <table class=\"\"trafilatura\"\">       <tr>         <td>AKIL BÝLÝM VE DÝN</td>       </tr>     </table>     <table class=\"\"trafilatura\"\">       <tr>         <td>EKMEK VE HELAL</td>       </tr>     </table>     <table class=\"\"trafilatura\"\">       <tr>         <td>EKMEK</td>       </tr>     </table>     <table class=\"\"trafilatura\"\">       <tr>         <td>GDO</td>       </tr>     </table>     <table class=\"\"trafilatura\"\">       <tr>         <td>PESTÝSÝTLER</td>       </tr>     </table>     <p>[ GERÝ DÖN ]</p>     <table class=\"\"trafilatura\"\">       <tr>         <td>Çözüm Ortaðýnýz</td>       </tr>     </table>     <table class=\"\"trafilatura\"\">       <tr>         <td>Belgelendirme Hizmetlerimiz...</td>       </tr>     </table>     <p>SÝSTEM BELGELERÝ</p>     <p>ÜRÜN BELGELERÝ</p>     <p>GIDA BELGELERÝ</p>     <p>HÝZMET BELGELERÝ</p>     <p>EÐÝTÝMLER</p>     <p>ISO 9001 2015<lb />ISO 14001<lb />ISO 18001<lb />SA 8000<lb />AS EN 9100<lb />ISO 27001<lb />ISO 16949</p>     <p>ISO 22301</p>     <p>CE<lb />GOST R<lb />GS<lb />UL<lb />GLOBAL GAP<lb />EUREP GAP<lb />ORGANÝK GIDA</p>     <p>ISO 22000 2018<lb />HACCP<lb />IFS<lb />BRC</p>     <p>HELAL</p>     <p>KOÞER</p>     <p>VEGAN</p>     <p>MARKA TESCÝLÝ<lb />PATENT<lb />FAYDALI MODEL<lb />GARANTÝ BELGESÝ<lb />HYB</p>     <p>TSE</p>     <p>TSEK</p>     <p>ISO 9001 2015<lb />ISO 14001<lb />ISO 18001<lb />ISO 22000 2018<lb />HELAL GIDA<lb />ÝÇ TETKÝK<lb />BAÞ DENETÇÝ</p>     <p>ISO 27001</p>   </div>   <section class=\"\"comments\"\" /> </doc>\"\r\n"
          ]
        }
      ]
    },
    {
      "cell_type": "code",
      "source": [
        "from bs4 import BeautifulSoup\n",
        "\n",
        "fin = open('tur_head.csv', \"r\") # important: no headers, no double quotation marks\n",
        "fout = open('tur_head_cleaned.txt', \"w\")\n",
        "for line in fin:\n",
        "    line= line.strip().split(\",\", 6) \n",
        " #   print(\"L\", line)\n",
        "  #  if line[4]==\"reject\":\n",
        "  #    continue\n",
        "    headers = [\"id\",\t\"source\",\t\"annotator\", \"date\",\t\"label\",\t\"tags\", \"text\"]\n",
        "    fout.write(\"###C:DOCSTART\")\n",
        "    fout.write(\"\\n\")\n",
        "    for ix, item in enumerate(line):\n",
        "      if ix != 6:\n",
        "#        print(item)\n",
        "        fout.write(\"###C:\" + headers[ix] + \"=\" + item)\n",
        "        fout.write(\"\\n\")\n",
        "      else:\n",
        "        soup = BeautifulSoup(item, 'html.parser')\n",
        "        fout.write(soup.doc['title'])\n",
        "        fout.write(\"\\n\")\n",
        "        for it in soup.find_all('p'):\n",
        "          if it.string != None:\n",
        "            fout.write(it.string)\n",
        "            fout.write(\"\\n\")\n",
        "    fout.write(\"\\n\")"
      ],
      "metadata": {
        "id": "kaY1wPQ2Xk2Q"
      },
      "execution_count": 9,
      "outputs": []
    },
    {
      "cell_type": "code",
      "source": [
        "! cat tur_head_cleaned.txt"
      ],
      "metadata": {
        "colab": {
          "base_uri": "https://localhost:8080/"
        },
        "id": "kLJbz65OCxGd",
        "outputId": "7cd26e67-fd1f-43fe-de20-e74a75f9da0b"
      },
      "execution_count": 10,
      "outputs": [
        {
          "output_type": "stream",
          "name": "stdout",
          "text": [
            "###C:DOCSTART\n",
            "###C:id=<urn:uuid:869730a7-b70f-493c-9f8b-36ea14064b52>\n",
            "###C:source=https://www.abelge.com/Detay_ana.asp?ana_id=23&2YJ6YL20RRG6R4DOANCG6ROK520R607FIZ78EMI1CX3HDXBIJHLA5A444FIKE460XDE1CGR5ALB2L09J6I9B2BKFZX\n",
            "###C:annotator=selcen\n",
            "###C:date=2021-10-19 13:39:03\n",
            "###C:label=reject\n",
            "###C:tags=\n",
            "HELAL Belgelendirme, koþer,vegan,fssc22000 belgelendirme,Marka Tescili-Patent-Garanti belgesi\n",
            "...::Belge Sorgula...\n",
            "...:: Baþvuru Formlarý (Dosya)...\n",
            "Online Baþvuru Formu Dosyasý\n",
            "* Denetçi Eðitim Formu\n",
            "Helal Gýda Baþ Denetçi HELAL GIDA TEMEL EÐÝTÝMÝ ; ADNBELGELENDÝRME(HALALFOODCOUNCIL OF TURKEY)- sýnýrlý sayýda HELAL GIDA temel eðitimi açýlacaktýr.Ýlgilenen arkadaþlarýn lütfen formu doldurmalarý gerekmektedir.Katýlým için : ilahiyatçý,gýda mühendisi,kimya mühendisi,ziraat mühendisi, veteriner, endüstri mühendisi,gýda teknikeri titrine sahip olanlar.tercih edilirler. BÖLGE TEMSÝLCÝLÝKLERÝ VERÝLECEKLER ISO 27001 BGYS BAÞ DENETÇÝ EÐÝTÝMÝ AÇILACAKTIR. HELAL: ALLAHA KARÞI SORUMLULUKTUR ALLAHIN KOYDUÐU KANUNDUR HELAL :FITRATTIR. HELAL :SAÐLIKTIR. HELAL: ALLAHIN EN GÜZEL ÞEKÝLDE YARATTIÐI VE MECCANEN BÝZE HEDÝYE ETTÝÐÝ MÜCEVHERLERDEN DEÐERLÝ VÜCUDUMUZA SAHÝP ÇIKMAKTIR. HELAL ÝLE ÝLGÝSÝ OLMAYAN LAR ,HÝÇBÝR AKREDÝTASYONU OLMAYANLAR HELAL BELGESÝ VERÝYORLAR.BUNLARIN HÝÇBÝR EHLÝYETLERÝ YOK. BU FÝRMALARI VE KÝÞÝLERÝ ÞÝDDETLE KINIYORUM.\n",
            "HELAL GIDA TEMEL EÐÝTÝMÝ ;\n",
            "ADNBELGELENDÝRME(HALALFOODCOUNCIL OF TURKEY)- sýnýrlý sayýda HELAL GIDA temel eðitimi açýlacaktýr.Ýlgilenen arkadaþlarýn lütfen formu doldurmalarý gerekmektedir.Katýlým için : ilahiyatçý,gýda mühendisi,kimya mühendisi,ziraat mühendisi, veteriner, endüstri mühendisi,gýda teknikeri titrine sahip olanlar.tercih edilirler.\n",
            "BÖLGE TEMSÝLCÝLÝKLERÝ VERÝLECEKLER\n",
            "ISO 27001 BGYS BAÞ DENETÇÝ EÐÝTÝMÝ AÇILACAKTIR.\n",
            "HELAL: ALLAHA KARÞI SORUMLULUKTUR\n",
            "ALLAHIN KOYDUÐU KANUNDUR\n",
            "HELAL :FITRATTIR.\n",
            "HELAL :SAÐLIKTIR.\n",
            "HELAL: ALLAHIN EN GÜZEL ÞEKÝLDE YARATTIÐI\n",
            "VE MECCANEN BÝZE HEDÝYE ETTÝÐÝ MÜCEVHERLERDEN DEÐERLÝ VÜCUDUMUZA\n",
            "SAHÝP ÇIKMAKTIR.\n",
            "HELAL ÝLE ÝLGÝSÝ OLMAYAN LAR ,HÝÇBÝR AKREDÝTASYONU OLMAYANLAR\n",
            "HELAL BELGESÝ VERÝYORLAR.BUNLARIN HÝÇBÝR EHLÝYETLERÝ YOK.\n",
            "BU FÝRMALARI VE KÝÞÝLERÝ ÞÝDDETLE KINIYORUM.\n",
            "[ GERÝ DÖN ]\n",
            "SÝSTEM BELGELERÝ\n",
            "ÜRÜN BELGELERÝ\n",
            "GIDA BELGELERÝ\n",
            "HÝZMET BELGELERÝ\n",
            "EÐÝTÝMLER\n",
            "ISO 22301\n",
            "HELAL\n",
            "KOÞER\n",
            "VEGAN\n",
            "TSE\n",
            "TSEK\n",
            "ISO 27001\n",
            "\n",
            "###C:DOCSTART\n",
            "###C:id=<urn:uuid:6cba5a14-47b2-4baa-a628-8f74032241f2>\n",
            "###C:source=https://www.otocikma.com/ilan/otocikmaparca/rover-rover-216-arka-tampon/rover_216_cabrio_arka_tampon-1011555?s=0\n",
            "###C:annotator=selcen\n",
            "###C:date=2021-10-19 13:39:03\n",
            "###C:label=accept\n",
            "###C:tags=IP ds\n",
            "ROVER 216 CABRİO ARKA TAMPON otocikma.com da - 1011555\n",
            "Tel: 0 (538) 401 98 76\n",
            "Tel: 0 (534) 040 52 54\n",
            "TÜM SIFIR VE ÇIKMA ORJİNAL YEDEK PARÇALAR STOKLARIMIZDA MEVCUTTUR.\n",
            "KALİTELİ,KURUMSAL HİZMET İÇİN HAYRULLAH OTOMOTİV HİZMETİNİZDE..\n",
            "''YOLA KAZANÇLI ÇIKIN''\n",
            "0 850 430 45 69\n",
            "0 538 401 98 76\n",
            "\n",
            "###C:DOCSTART\n",
            "###C:id=<urn:uuid:f57af05b-c7fb-4fd6-a765-49b761c559f4>\n",
            "###C:source=http://adamerkelebek.org/MenuDetay.asp?MenuId=15&altMenuId=35\n",
            "###C:annotator=selcen\n",
            "###C:date=2021-10-19 13:39:03\n",
            "###C:label=reject\n",
            "###C:tags=\n",
            "Kelebekler nasýl görür? \n",
            "Kelebeklerin küre biçimli bir çift bileþik gözü bulunur. Herbir göz 17.000 küçük gözcükten oluþur. Bu gözcüklerin herbirinin kendi lensleri vardýr ve bunlar ýþýk alýcýsý olarak çalýþýrlar. Bu gözcükler uyum içinde çalýþarak kelebeðe çevresinin mozaik bir görünümünü saðlar. Her küçük gözcük bir lens gibi iþlev gören kornea ve bir koniye sahiptir. Koninin arkasýnda ýþýðý 2-6 duyu hücresinden oluþan küçük bir hücre kümesine taþýyan bir çubuk uzanýr. Bu hücrelerden herbiri görünür spektrumun özel bir bölümüne duyarlýdýr.\n",
            "Zýpzýplarýn gözleri diðer kelebeklerinkinden farklýlýk gösterir. Zýpzýp gözlerinde koniler ve çubuklar arasýnda bir boþluk vardýr ve bu ýþýðýn bir küçük gözcükten komþusunun çubuða süzülmesine olanak saðlar. Böylece görüntü çözünürlüðü ve duyarlýlýk etkili biçimde artýrýlmýþ olur. Bu durum zýpzýplarýn bir yerden diðerine daha kesin þekilde uçuþlarýný saðlar. Zýpzýplarýn diðer kelebeklerden farklý olarak ayrý bir üst aileye (Hesperioidea) konulmasýnýn nedenlerinden biri de budur.\n",
            "Herbir gözcük dar açýlýdýr ve bu çevrenin daha ayrýntýlý görülmesine neden olur. Lensler odaklanma yapamazlar. Ancak son derece kýsa odak uzunluðu nedeniyle buna gereksinme duymazlar. Muhtemelen 5mm ile 100 m arasýndaki her þey keskin biçimde görülebilir.\n",
            "Gözler hareket etmezler. Çünkü hemen hemen 360 derece açýyý görüþe sahiptirler. Bu ayný anda çevredeki her þeyi görmek avantajý demektir. Böylece önünde yer alan çiçekte beslenirken arkadan yaklaþan bir fotoðrafçýyý rahatlýkla görürler.\n",
            "Kelebeklerin beyni gözcüklerin oluþturduðu görüntünün karanlýk veya aydýnlýk olup olmadýðýný hemen algýlayabilirler. Eðer avcý bir böcek yaklaþýyorsa her bir alýcýnýn gönderdiði ýþýk miktarý bunlarýn dar açýlý olmalarý nedeniyle hemen deðiþir. Bu durum binoküler görme ile birlikte bileþik gözlerin hareketleri son derece etkin biçimde algýlamalarýný saðlar. Kelebeðin en büyük savunma mekanizmalarýndan biri olarak kaçmalarýný saðlar.\n",
            "Kelebekler polarize ýþýðý görebilirler. Böylece hava parçalý bulutlu bile olsa güneþin konumunu belirleyebilirler. Böylece kendi konumlarýný güneþe göre ayarlayabilirler ve yaþam alanlarýnda gezinirken bir pusula gibi kullanýrlar.Kelebekler renkler ve desenleri insanlar ve kuþlardan farklý görürler. Çünkü ultra-viyole ýþýðý da görebilme kabiliyetleri vardýr. Böylece çiçeklerdeki UV desenler de görülebilmektedir. Bu desenler kelebeklere nektar kaynaðý hakkýnda çiçeðe konuþ sýrasýnda uçuþ kulesinin uçaklara saðladýðý gibi rehberlik saðlarlar.\n",
            "Kelebeklerin kanatlarýnda görünebilir desenlereden baþka UV desenlerde vardýr ve bu desenler sadece diðer kelebekler tarafýndan görülebilirler. Böylece kendi türlerinden olanlarý veya olmayanlarý hemencecik anlarlar.\n",
            "\n",
            "###C:DOCSTART\n",
            "###C:id=<urn:uuid:279c21f7-753d-4d2f-8b7e-2a6b1751cfe7>\n",
            "###C:source=https://www.obilet.com/otobus-bileti/canakkale-cardak\n",
            "###C:annotator=selcen\n",
            "###C:date=2021-10-19 13:39:03\n",
            "###C:label=accept\n",
            "###C:tags=IN IP ds fi\n",
            "Çanakkale - Çardak Otobüs Bileti\n",
            "7/24 Müşteri Hizmetleri\n",
            "Güvenli Ödeme\n",
            "Komisyon Yok, Ücretsiz\n",
            "Fazla Ziyaretçi\n",
            "Biletini Al\n",
            "Kesintisiz İade\n",
            "En Ucuz Sefer\n",
            "80,00 TL\n",
            "Günlük Sefer Sayısı\n",
            "1\n",
            "En Uygun Fiyatlı Firma\n",
            "Çanakkale - Çardak Kaç Saat?\n",
            "9 Saat\n",
            "Çanakkale - Çardak arası otobüs yolculuğu ne kadar sürmektedir?\n",
            "Çanakkale - Çardak arası otobüs yolculuğu ortalama olarak 9 saat sürmektedir.\n",
            "Çanakkale - Çardak arası hangi otobüs firmaları sefer düzenlemektedir?\n",
            "Çanakkale - Çardak arası sefer düzenleyen otobüs firmaları: Isparta Petrol Turizm\n",
            "Çanakkale - Çardak arasında en çok sefer düzenleyen otobüs şirketi hangisidir?\n",
            "En çok Çanakkale - Çardak otobüs seferi düzenleyen firma: Isparta Petrol Turizm\n",
            "Çanakkale - Çardak en ucuz otobüs bileti ne kadardır?\n",
            "En ucuz Çanakkale - Çardak otobüs bileti 80,00 TL’dir.\n",
            "\n",
            "###C:DOCSTART\n",
            "###C:id=<urn:uuid:43e5ddc1-81b5-4b29-b14d-8abd6334c182>\n",
            "###C:source=https://www.obilet.com/ucak-bileti/phuket-erbil\n",
            "###C:annotator=selcen\n",
            "###C:date=2021-10-19 13:39:03\n",
            "###C:label=accept\n",
            "###C:tags=IP ds\n",
            "Phuket - Erbil (Irak) Uçak Bileti\n",
            "Fazla Ziyaretçi\n",
            "Erbil Havalimanı\n",
            "Erbil Havalimanı\n",
            "Erbil Havalimanı\n",
            "Avrupa ve Amerika rotalarından sıkıldıysanız ve farklı kültürlere yelken açmak istiyorsanız, Asya ülkelerini ziyaret etmek size çok iyi gelecek. Tarihi, kültürü, doğal güzellikleri, lezzetli ve ilginç mutfağı sayesinde her yıl binlerce turistin akın ettiği Tayland, Asya kıtasındaki en popüler tatil rotalarının başında geliyor. Bangkok gibi büyük bir şehri ve Phi Phi gibi egzotik adaların ev\n",
            "Dünya’nın en büyük kıtası olan Asya Kıtası, barındırdığı envai çeşit ülkenin rengarenk kültürleriyle her yıl milyonları ağırlıyor. Uzun yıllar boyunca birçok medeniyete de ev sahipliği yapmış bu kıtada insanı şaşırtacak o kadar çok detay var ki! Bu yazıları okurken belki daha önce gittiğiniz Asya şehirlerini hatırlıyorsunuz, belki de bundan sonra gezmek için can atacağınız yerleri"
          ]
        }
      ]
    }
  ]
}