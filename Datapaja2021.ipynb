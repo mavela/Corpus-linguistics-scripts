{
  "nbformat": 4,
  "nbformat_minor": 0,
  "metadata": {
    "colab": {
      "name": "Datapaja2021.ipynb",
      "provenance": [],
      "authorship_tag": "ABX9TyP9uMUlCPLK3wt3Opw0F3Be",
      "include_colab_link": true
    },
    "kernelspec": {
      "name": "python3",
      "display_name": "Python 3"
    },
    "language_info": {
      "name": "python"
    }
  },
  "cells": [
    {
      "cell_type": "markdown",
      "metadata": {
        "id": "view-in-github",
        "colab_type": "text"
      },
      "source": [
        "<a href=\"https://colab.research.google.com/github/mavela/Corpus-linguistics-scripts/blob/main/Datapaja2021.ipynb\" target=\"_parent\"><img src=\"https://colab.research.google.com/assets/colab-badge.svg\" alt=\"Open In Colab\"/></a>"
      ]
    },
    {
      "cell_type": "markdown",
      "metadata": {
        "id": "25ctYkeXsxiH"
      },
      "source": [
        "Tarkastellaan syntaksijäsennettyä tiedostoa head-komennolla"
      ]
    },
    {
      "cell_type": "code",
      "metadata": {
        "id": "CO1qDyKusTy3"
      },
      "source": [
        "! head -20 result.conllu"
      ],
      "execution_count": null,
      "outputs": []
    },
    {
      "cell_type": "markdown",
      "metadata": {
        "id": "b341MlmOsTFV"
      },
      "source": [
        "Haetaan skriptit, joilla voidaan tarkastella conll-muotoista dataa"
      ]
    },
    {
      "cell_type": "code",
      "metadata": {
        "id": "3lOByUItnqSx"
      },
      "source": [
        "! git clone https://github.com/mavela/Corpus-linguistics-scripts.git"
      ],
      "execution_count": null,
      "outputs": []
    },
    {
      "cell_type": "markdown",
      "metadata": {
        "id": "Aq1S-Smmst8A"
      },
      "source": [
        "Listataan hakemistossa olevat tiedostot ls-komennolla"
      ]
    },
    {
      "cell_type": "code",
      "metadata": {
        "id": "9ZJNfh9_sRvz"
      },
      "source": [
        "! ls"
      ],
      "execution_count": null,
      "outputs": []
    },
    {
      "cell_type": "markdown",
      "metadata": {
        "id": "SuwAjldtuUk6"
      },
      "source": [
        "Sitten listataan Corpus-linguistics-scripts-hakemiston sisältö"
      ]
    },
    {
      "cell_type": "code",
      "metadata": {
        "id": "3Q2MdcU_tTjt"
      },
      "source": [
        "! ls Corpus-linguistics-scripts/"
      ],
      "execution_count": null,
      "outputs": []
    },
    {
      "cell_type": "code",
      "metadata": {
        "id": "7_TO4DOluchn"
      },
      "source": [
        "! cp Corpus-linguistics-scripts/*sh .\n",
        "! ls"
      ],
      "execution_count": null,
      "outputs": []
    },
    {
      "cell_type": "markdown",
      "metadata": {
        "id": "TYp1bIbOzL1Y"
      },
      "source": [
        "read_conllu-skriptillä voidaan printata virkkeistä vain lemmat"
      ]
    },
    {
      "cell_type": "code",
      "metadata": {
        "id": "OSGhYCz0vqJc"
      },
      "source": [
        "! cat result.conllu | python3 Corpus-linguistics-scripts/read_conllu.py | head -10\n"
      ],
      "execution_count": null,
      "outputs": []
    },
    {
      "cell_type": "markdown",
      "metadata": {
        "id": "VqWhxIMb-ETo"
      },
      "source": [
        "Ohjataan lemmaistettu aineisto tiedostoon"
      ]
    },
    {
      "cell_type": "code",
      "metadata": {
        "id": "SCYF1kqe99JL"
      },
      "source": [
        "! cat result.conllu | python3 Corpus-linguistics-scripts/read_conllu.py > aineisto_lemmoina.txt"
      ],
      "execution_count": null,
      "outputs": []
    },
    {
      "cell_type": "markdown",
      "metadata": {
        "id": "5c7CaOtsvkRw"
      },
      "source": [
        "Tehdään frekvenssilista lemmoista"
      ]
    },
    {
      "cell_type": "code",
      "metadata": {
        "id": "pV_zjr_6unlz"
      },
      "source": [
        "! cat result.conllu | ./kaunis-lemmalista.sh | head -10"
      ],
      "execution_count": null,
      "outputs": []
    },
    {
      "cell_type": "markdown",
      "metadata": {
        "id": "kL4wdpKd9gSy"
      },
      "source": [
        "Voidaan myös etsiä yleisimmät tietyn sanaluokan lemmat"
      ]
    },
    {
      "cell_type": "code",
      "metadata": {
        "id": "umYJe5PKzspg"
      },
      "source": [
        "! ./etsi-sanaluokka.sh result.conllu ADJ | head -10"
      ],
      "execution_count": null,
      "outputs": []
    }
  ]
}