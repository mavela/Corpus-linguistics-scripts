{
  "nbformat": 4,
  "nbformat_minor": 0,
  "metadata": {
    "colab": {
      "name": "Datapaja2021.ipynb",
      "provenance": [],
      "authorship_tag": "ABX9TyOAh4CoC11VkyiU/WNrV2bF",
      "include_colab_link": true
    },
    "kernelspec": {
      "name": "python3",
      "display_name": "Python 3"
    },
    "language_info": {
      "name": "python"
    }
  },
  "cells": [
    {
      "cell_type": "markdown",
      "metadata": {
        "id": "view-in-github",
        "colab_type": "text"
      },
      "source": [
        "<a href=\"https://colab.research.google.com/github/mavela/Corpus-linguistics-scripts/blob/main/Datapaja2021.ipynb\" target=\"_parent\"><img src=\"https://colab.research.google.com/assets/colab-badge.svg\" alt=\"Open In Colab\"/></a>"
      ]
    },
    {
      "cell_type": "markdown",
      "metadata": {
        "id": "25ctYkeXsxiH"
      },
      "source": [
        "Tarkastellaan syntaksijäsennettyä tiedostoa head-komennolla"
      ]
    },
    {
      "cell_type": "code",
      "metadata": {
        "colab": {
          "base_uri": "https://localhost:8080/"
        },
        "id": "CO1qDyKusTy3",
        "outputId": "25de0950-2944-4915-e206-b607afeeeca6"
      },
      "source": [
        "! head -20 result.conllu"
      ],
      "execution_count": 1,
      "outputs": [
        {
          "output_type": "stream",
          "text": [
            "# newdoc\n",
            "# newpar\n",
            "# sent_id = 1\n",
            "# text = OB OP Käsittelemme ensi vuoden valtion talousarviota poikkeuksellisen epävarmassa taloustilanteessa .\n",
            "1\tOB\tOB\tPROPN\tN\tCase=Nom|Number=Sing\t2\tcompound:nn\t_\t_\n",
            "2\tOP\topinto#piste\tNOUN\tN\tCase=Par|Number=Sing\t3\tobj\t_\tSpacesAfter=\\t\n",
            "3\tKäsittelemme\tkäsitellä\tVERB\tV\tMood=Ind|Number=Plur|Person=1|Tense=Pres|VerbForm=Fin|Voice=Act\t0\troot\t_\t_\n",
            "4\tensi\tensi\tADJ\tA\t_\t5\tamod\t_\t_\n",
            "5\tvuoden\tvuosi\tNOUN\tN\tCase=Gen|Number=Sing\t6\tnmod:poss\t_\t_\n",
            "6\tvaltion\tvaltio\tNOUN\tN\tCase=Gen|Number=Sing\t7\tnmod:poss\t_\t_\n",
            "7\ttalousarviota\ttalous#arvio\tNOUN\tN\tCase=Par|Number=Sing\t3\tobj\t_\t_\n",
            "8\tpoikkeuksellisen\tpoikkeuksellinen\tADJ\tA\tCase=Gen|Degree=Pos|Derivation=Llinen|Number=Sing\t9\tamod\t_\t_\n",
            "9\tepävarmassa\tepä#varma\tADJ\tA\tCase=Ine|Degree=Pos|Number=Sing\t10\tamod\t_\t_\n",
            "10\ttaloustilanteessa\ttalous#tilanne\tNOUN\tN\tCase=Ine|Number=Sing\t3\tobl\t_\t_\n",
            "11\t.\t.\tPUNCT\tPunct\t_\t3\tpunct\t_\t_\n",
            "\n",
            "# sent_id = 2\n",
            "# text = Talouden vakauttaminen on kuuden hallituspuolueen voimin haastavaa , mutta täysin välttämätöntä .\n",
            "1\tTalouden\ttalous\tNOUN\tN\tCase=Gen|Number=Sing\t2\tnmod:gsubj\t_\t_\n",
            "2\tvakauttaminen\tvakauttaminen\tNOUN\tN\tCase=Nom|Derivation=Minen|Number=Sing\t7\tnsubj:cop\t_\t_\n"
          ],
          "name": "stdout"
        }
      ]
    },
    {
      "cell_type": "markdown",
      "metadata": {
        "id": "b341MlmOsTFV"
      },
      "source": [
        "Haetaan skriptit, joilla voidaan tarkastella conll-muotoista dataa"
      ]
    },
    {
      "cell_type": "code",
      "metadata": {
        "colab": {
          "base_uri": "https://localhost:8080/"
        },
        "id": "3lOByUItnqSx",
        "outputId": "fe03c191-6e51-424d-e023-ee603643bcea"
      },
      "source": [
        "! git clone https://github.com/mavela/Corpus-linguistics-scripts.git\n",
        "#%cd Corpus-linguistics-scripts/\n",
        "#! git pull"
      ],
      "execution_count": 10,
      "outputs": [
        {
          "output_type": "stream",
          "text": [
            "[Errno 2] No such file or directory: 'Corpus-linguistics-scripts/'\n",
            "/content/Corpus-linguistics-scripts\n",
            "remote: Enumerating objects: 5, done.\u001b[K\n",
            "remote: Counting objects: 100% (5/5), done.\u001b[K\n",
            "remote: Compressing objects: 100% (1/1), done.\u001b[K\n",
            "remote: Total 3 (delta 2), reused 3 (delta 2), pack-reused 0\u001b[K\n",
            "Unpacking objects: 100% (3/3), done.\n",
            "From https://github.com/mavela/Corpus-linguistics-scripts\n",
            "   c4c3611..554ae07  main       -> origin/main\n",
            "Updating c4c3611..554ae07\n",
            "Fast-forward\n",
            " read_conllu.py | 2 \u001b[32m+\u001b[m\u001b[31m-\u001b[m\n",
            " 1 file changed, 1 insertion(+), 1 deletion(-)\n"
          ],
          "name": "stdout"
        }
      ]
    },
    {
      "cell_type": "markdown",
      "metadata": {
        "id": "Aq1S-Smmst8A"
      },
      "source": [
        "Listataan hakemistossa olevat tiedostot ls-komennolla"
      ]
    },
    {
      "cell_type": "code",
      "metadata": {
        "colab": {
          "base_uri": "https://localhost:8080/"
        },
        "id": "9ZJNfh9_sRvz",
        "outputId": "8c4b4f8e-8092-48f9-8d40-c958af2a2190"
      },
      "source": [
        "%cd ..\n",
        "! ls"
      ],
      "execution_count": 15,
      "outputs": [
        {
          "output_type": "stream",
          "text": [
            "/content\n",
            "Corpus-linguistics-scripts  frekvenssilista.sh\t  result.conllu  sample_data\n",
            "etsi-sanaluokka.sh\t    kaunis-lemmalista.sh  run_parser.sh\n"
          ],
          "name": "stdout"
        }
      ]
    },
    {
      "cell_type": "markdown",
      "metadata": {
        "id": "SuwAjldtuUk6"
      },
      "source": [
        "Sitten listataan Corpus-linguistics-scripts-hakemiston sisältö"
      ]
    },
    {
      "cell_type": "code",
      "metadata": {
        "colab": {
          "base_uri": "https://localhost:8080/"
        },
        "id": "3Q2MdcU_tTjt",
        "outputId": "8c3c5761-5ca1-4aed-ba3d-cb0acc3d0644"
      },
      "source": [
        "! ls Corpus-linguistics-scripts/"
      ],
      "execution_count": 4,
      "outputs": [
        {
          "output_type": "stream",
          "text": [
            "etsi-sanaluokka.sh  kaunis-lemmalista.sh  read_conllu.py\t  run_parser.sh\n",
            "frekvenssilista.sh  parsing_fin.ipynb\t  read_docs_ymparisto.py\n"
          ],
          "name": "stdout"
        }
      ]
    },
    {
      "cell_type": "code",
      "metadata": {
        "colab": {
          "base_uri": "https://localhost:8080/"
        },
        "id": "7_TO4DOluchn",
        "outputId": "4fc3883b-769e-4d8a-f845-3151bdef4202"
      },
      "source": [
        "! cp Corpus-linguistics-scripts/*sh .\n",
        "! ls"
      ],
      "execution_count": 5,
      "outputs": [
        {
          "output_type": "stream",
          "text": [
            "Corpus-linguistics-scripts  frekvenssilista.sh\t  result.conllu  sample_data\n",
            "etsi-sanaluokka.sh\t    kaunis-lemmalista.sh  run_parser.sh\n"
          ],
          "name": "stdout"
        }
      ]
    },
    {
      "cell_type": "markdown",
      "metadata": {
        "id": "TYp1bIbOzL1Y"
      },
      "source": [
        "read_conllu-skriptillä voidaan printata virkkeistä vain lemmat"
      ]
    },
    {
      "cell_type": "code",
      "metadata": {
        "colab": {
          "base_uri": "https://localhost:8080/"
        },
        "id": "OSGhYCz0vqJc",
        "outputId": "24ef69a8-4929-47c5-eb06-a76185f1c615"
      },
      "source": [
        "! cat result.conllu | python3 Corpus-linguistics-scripts/read_conllu.py | head -10\n"
      ],
      "execution_count": 16,
      "outputs": [
        {
          "output_type": "stream",
          "text": [
            "ob opintopiste käsitellä ensi vuosi valtio talousarvio poikkeuksellinen epävarma taloustilanne \n",
            "talous vakauttaminen olla kuusi hallituspuolue voima haastava mutta täysin välttämätön \n",
            "sopeuttaatoimi olla varota toimenpide joka leikata yritys kilpailukyky ja viedä mahdollisuus kasvu \n",
            "kaikkein tärkeä olla luoda edellytys uusi työpaikka syntyminen ja olla olla työ säilyminen \n",
            "lapsi budjettisopu yksi painopiste saada viime perjantai sopu eduskunta valtiovarainvaliokunta hallituspuolue ryhmä kesken ensi vuosi talousarvioesitys eduskunta tekeminen muutos \n",
            "olla tyytyväinen että johtaa kunta ja terveysjaosto tavoite toteutua budjettisopu hyvin \n",
            "lastensuojelu pelastaaohjelma toimi joka tehdä lapsi ja perhe hyvinvointi turvaaminen olla kullanarvoinen \n",
            "lapsi huostaanotto määrä olla lisääntyä \n",
            "terveys ja hyvinvointi laitos thl tilasto puhua karu kiki evuosi 2011 kiireellisesti sijoittaa lapsi olla 13 prosentti enempi kuin edellinen vuosi \n",
            "olla aivan välttämätön sopia lisäresurssi kohdentaminen lapsiperhe ennaltaehkäisevä ja varhainen tuki palvelu sekä lastensuojelu kehittäminen \n",
            "Traceback (most recent call last):\n",
            "  File \"Corpus-linguistics-scripts/read_conllu.py\", line 42, in <module>\n",
            "    print(sentence_text)\n",
            "BrokenPipeError: [Errno 32] Broken pipe\n"
          ],
          "name": "stdout"
        }
      ]
    },
    {
      "cell_type": "markdown",
      "metadata": {
        "id": "VqWhxIMb-ETo"
      },
      "source": [
        "Ohjataan lemmaistettu aineisto tiedostoon"
      ]
    },
    {
      "cell_type": "code",
      "metadata": {
        "id": "SCYF1kqe99JL"
      },
      "source": [
        "! cat result.conllu | python3 Corpus-linguistics-scripts/read_conllu.py > aineisto_lemmoina.txt"
      ],
      "execution_count": 19,
      "outputs": []
    },
    {
      "cell_type": "markdown",
      "metadata": {
        "id": "5c7CaOtsvkRw"
      },
      "source": [
        "Tehdään frekvenssilista lemmoista"
      ]
    },
    {
      "cell_type": "code",
      "metadata": {
        "colab": {
          "base_uri": "https://localhost:8080/"
        },
        "id": "pV_zjr_6unlz",
        "outputId": "f4435365-5e27-4a25-98d9-1a922d5cca09"
      },
      "source": [
        "! cat result.conllu | ./kaunis-lemmalista.sh | head -10"
      ],
      "execution_count": 7,
      "outputs": [
        {
          "output_type": "stream",
          "text": [
            "    707 olla\n",
            "    327 ja\n",
            "    253 se\n",
            "    203 ei\n",
            "    183 että\n",
            "    110 tämä\n",
            "     90 joka\n",
            "     80 jos\n",
            "     79 voida\n",
            "     64 niin\n"
          ],
          "name": "stdout"
        }
      ]
    },
    {
      "cell_type": "markdown",
      "metadata": {
        "id": "kL4wdpKd9gSy"
      },
      "source": [
        "Voidaan myös etsiä yleisimmät tietyn sanaluokan lemmat"
      ]
    },
    {
      "cell_type": "code",
      "metadata": {
        "colab": {
          "base_uri": "https://localhost:8080/"
        },
        "id": "umYJe5PKzspg",
        "outputId": "71aeeb86-3172-446a-bf46-c9cefbb51ae1"
      },
      "source": [
        "! ./etsi-sanaluokka.sh result.conllu ADJ | head -10"
      ],
      "execution_count": 18,
      "outputs": [
        {
          "output_type": "stream",
          "text": [
            "     39 hyvä\n",
            "     30 uusi\n",
            "     30 oma\n",
            "     18 tärkeä\n",
            "     17 pieni\n",
            "     16 ruotsin#kielinen\n",
            "     15 suuri\n",
            "     13 nykyinen\n",
            "     13 koko\n",
            "     12 pitkä\n"
          ],
          "name": "stdout"
        }
      ]
    }
  ]
}