{
  "cells": [
    {
      "cell_type": "markdown",
      "metadata": {
        "id": "view-in-github",
        "colab_type": "text"
      },
      "source": [
        "<a href=\"https://colab.research.google.com/github/mavela/Corpus-linguistics-scripts/blob/main/01_multilingual_nlp.ipynb\" target=\"_parent\"><img src=\"https://colab.research.google.com/assets/colab-badge.svg\" alt=\"Open In Colab\"/></a>"
      ]
    },
    {
      "cell_type": "markdown",
      "metadata": {
        "id": "-80zY8VzvehH"
      },
      "source": [
        "# Processing diverse languages\n",
        "\n",
        "After reading this section, you should:\n",
        "\n",
        " - know how to download and use language models in Stanza, a Python library for processing many languages\n",
        " - how to interface Stanza with the spaCy natural language processing library\n",
        " - know how to access linguistic annotations produced by Stanza language models via spaCy\n",
        "\n",
        "## Introduction\n",
        "\n",
        "Part II introduced basic natural language processing tasks using examples written in the English language.\n",
        "\n",
        "As a global *lingua franca*, English is a highly-resourced language in terms of natural language processing. Compared to many other languages, the amount of data – especially human-annotated data – available for English is greater and covers a wider range of domains (Del Gratta et al. [2021](https://doi.org/10.1007/s10579-020-09520-6)).\n",
        "\n",
        "Unfortunately, the imbalance in resources and research effort has led to a situation where the advances in processing the English language are occasionally claimed to hold for natural language in general.\n",
        "\n",
        "However, as Bender ([2019](https://thegradient.pub/the-benderrule-on-naming-the-languages-we-study-and-why-it-matters/)) has shown, *English is not a synonym for natural language*: even if one demonstrates that computers can achieve or surpass human-level performance in some natural language processing task for the English language, this does not mean that one has solved this task or problem for *natural language as a whole*.\n",
        "\n",
        "To measure progress in the field of natural language processing and to ensure that as many languages as possible can benefit from advances in language technology, it is highly desirable to conduct research on processing languages used across the world."
      ]
    },
    {
      "cell_type": "markdown",
      "metadata": {
        "id": "5RprIZTavehK"
      },
      "source": [
        "## Stanza – a Python library for processing many languages"
      ]
    },
    {
      "cell_type": "code",
      "execution_count": null,
      "metadata": {
        "tags": [
          "remove-input"
        ],
        "id": "omxmPViavehK"
      },
      "outputs": [],
      "source": [
        "# Run this cell to view a YouTube video related to this topic\n",
        "#from IPython.display import YouTubeVideo\n",
        "#YouTubeVideo('41aN-_NNY8g', height=350, width=600)"
      ]
    },
    {
      "cell_type": "markdown",
      "metadata": {
        "id": "KJd_c8AjvehL"
      },
      "source": [
        "To get started with working languages other than English, we can use a library named Stanza.\n",
        "\n",
        "[Stanza](https://stanfordnlp.github.io/stanza/) is a Python library for natural language processing that provides pre-trained language models for [many languages](https://stanfordnlp.github.io/stanza/available_models.html) (Qi et al. [2020](https://www.aclweb.org/anthology/2020.acl-demos.14/)).\n",
        "\n",
        "Stanza language models are trained on corpora annotated using the [Universal Dependencies](https://universaldependencies.org/) formalism, which means that these models can perform tasks such as tokenization, part-of-speech tagging, morphological tagging and dependency parsing.\n",
        "\n",
        "These are essentially the same tasks that we explored using the spaCy natural language processing library in [Part II](../part_ii/03_basic_nlp.ipynb).\n",
        "\n",
        "Let's start exploring Stanza by importing the library."
      ]
    },
    {
      "cell_type": "code",
      "source": [
        "!pip install torch==2.0.1 stanza==1.4.2 spacy==3.7.2 spacy-stanza==1.0.2"
      ],
      "metadata": {
        "colab": {
          "base_uri": "https://localhost:8080/"
        },
        "id": "VTf6q8J-vmGV",
        "outputId": "e97eb0ca-c737-4fb4-8568-fd3e3215ace3",
        "collapsed": true
      },
      "execution_count": null,
      "outputs": [
        {
          "output_type": "stream",
          "name": "stdout",
          "text": [
            "Requirement already satisfied: torch==2.0.1 in /usr/local/lib/python3.11/dist-packages (2.0.1)\n",
            "Requirement already satisfied: stanza==1.4.2 in /usr/local/lib/python3.11/dist-packages (1.4.2)\n",
            "Requirement already satisfied: spacy==3.7.2 in /usr/local/lib/python3.11/dist-packages (3.7.2)\n",
            "Requirement already satisfied: spacy-stanza==1.0.2 in /usr/local/lib/python3.11/dist-packages (1.0.2)\n",
            "Requirement already satisfied: filelock in /usr/local/lib/python3.11/dist-packages (from torch==2.0.1) (3.18.0)\n",
            "Requirement already satisfied: typing-extensions in /usr/local/lib/python3.11/dist-packages (from torch==2.0.1) (4.12.2)\n",
            "Requirement already satisfied: sympy in /usr/local/lib/python3.11/dist-packages (from torch==2.0.1) (1.13.1)\n",
            "Requirement already satisfied: networkx in /usr/local/lib/python3.11/dist-packages (from torch==2.0.1) (3.4.2)\n",
            "Requirement already satisfied: jinja2 in /usr/local/lib/python3.11/dist-packages (from torch==2.0.1) (3.1.6)\n",
            "Requirement already satisfied: nvidia-cuda-nvrtc-cu11==11.7.99 in /usr/local/lib/python3.11/dist-packages (from torch==2.0.1) (11.7.99)\n",
            "Requirement already satisfied: nvidia-cuda-runtime-cu11==11.7.99 in /usr/local/lib/python3.11/dist-packages (from torch==2.0.1) (11.7.99)\n",
            "Requirement already satisfied: nvidia-cuda-cupti-cu11==11.7.101 in /usr/local/lib/python3.11/dist-packages (from torch==2.0.1) (11.7.101)\n",
            "Requirement already satisfied: nvidia-cudnn-cu11==8.5.0.96 in /usr/local/lib/python3.11/dist-packages (from torch==2.0.1) (8.5.0.96)\n",
            "Requirement already satisfied: nvidia-cublas-cu11==11.10.3.66 in /usr/local/lib/python3.11/dist-packages (from torch==2.0.1) (11.10.3.66)\n",
            "Requirement already satisfied: nvidia-cufft-cu11==10.9.0.58 in /usr/local/lib/python3.11/dist-packages (from torch==2.0.1) (10.9.0.58)\n",
            "Requirement already satisfied: nvidia-curand-cu11==10.2.10.91 in /usr/local/lib/python3.11/dist-packages (from torch==2.0.1) (10.2.10.91)\n",
            "Requirement already satisfied: nvidia-cusolver-cu11==11.4.0.1 in /usr/local/lib/python3.11/dist-packages (from torch==2.0.1) (11.4.0.1)\n",
            "Requirement already satisfied: nvidia-cusparse-cu11==11.7.4.91 in /usr/local/lib/python3.11/dist-packages (from torch==2.0.1) (11.7.4.91)\n",
            "Requirement already satisfied: nvidia-nccl-cu11==2.14.3 in /usr/local/lib/python3.11/dist-packages (from torch==2.0.1) (2.14.3)\n",
            "Requirement already satisfied: nvidia-nvtx-cu11==11.7.91 in /usr/local/lib/python3.11/dist-packages (from torch==2.0.1) (11.7.91)\n",
            "Requirement already satisfied: triton==2.0.0 in /usr/local/lib/python3.11/dist-packages (from torch==2.0.1) (2.0.0)\n",
            "Requirement already satisfied: emoji in /usr/local/lib/python3.11/dist-packages (from stanza==1.4.2) (2.14.1)\n",
            "Requirement already satisfied: numpy in /usr/local/lib/python3.11/dist-packages (from stanza==1.4.2) (1.26.4)\n",
            "Requirement already satisfied: protobuf in /usr/local/lib/python3.11/dist-packages (from stanza==1.4.2) (5.29.4)\n",
            "Requirement already satisfied: requests in /usr/local/lib/python3.11/dist-packages (from stanza==1.4.2) (2.32.3)\n",
            "Requirement already satisfied: six in /usr/local/lib/python3.11/dist-packages (from stanza==1.4.2) (1.17.0)\n",
            "Requirement already satisfied: tqdm in /usr/local/lib/python3.11/dist-packages (from stanza==1.4.2) (4.67.1)\n",
            "Requirement already satisfied: spacy-legacy<3.1.0,>=3.0.11 in /usr/local/lib/python3.11/dist-packages (from spacy==3.7.2) (3.0.12)\n",
            "Requirement already satisfied: spacy-loggers<2.0.0,>=1.0.0 in /usr/local/lib/python3.11/dist-packages (from spacy==3.7.2) (1.0.5)\n",
            "Requirement already satisfied: murmurhash<1.1.0,>=0.28.0 in /usr/local/lib/python3.11/dist-packages (from spacy==3.7.2) (1.0.12)\n",
            "Requirement already satisfied: cymem<2.1.0,>=2.0.2 in /usr/local/lib/python3.11/dist-packages (from spacy==3.7.2) (2.0.11)\n",
            "Requirement already satisfied: preshed<3.1.0,>=3.0.2 in /usr/local/lib/python3.11/dist-packages (from spacy==3.7.2) (3.0.9)\n",
            "Requirement already satisfied: thinc<8.3.0,>=8.1.8 in /usr/local/lib/python3.11/dist-packages (from spacy==3.7.2) (8.2.5)\n",
            "Requirement already satisfied: wasabi<1.2.0,>=0.9.1 in /usr/local/lib/python3.11/dist-packages (from spacy==3.7.2) (1.1.3)\n",
            "Requirement already satisfied: srsly<3.0.0,>=2.4.3 in /usr/local/lib/python3.11/dist-packages (from spacy==3.7.2) (2.5.1)\n",
            "Requirement already satisfied: catalogue<2.1.0,>=2.0.6 in /usr/local/lib/python3.11/dist-packages (from spacy==3.7.2) (2.0.10)\n",
            "Requirement already satisfied: weasel<0.4.0,>=0.1.0 in /usr/local/lib/python3.11/dist-packages (from spacy==3.7.2) (0.3.4)\n",
            "Requirement already satisfied: typer<0.10.0,>=0.3.0 in /usr/local/lib/python3.11/dist-packages (from spacy==3.7.2) (0.9.4)\n",
            "Requirement already satisfied: smart-open<7.0.0,>=5.2.1 in /usr/local/lib/python3.11/dist-packages (from spacy==3.7.2) (6.4.0)\n",
            "Requirement already satisfied: pydantic!=1.8,!=1.8.1,<3.0.0,>=1.7.4 in /usr/local/lib/python3.11/dist-packages (from spacy==3.7.2) (2.10.6)\n",
            "Requirement already satisfied: setuptools in /usr/local/lib/python3.11/dist-packages (from spacy==3.7.2) (75.1.0)\n",
            "Requirement already satisfied: packaging>=20.0 in /usr/local/lib/python3.11/dist-packages (from spacy==3.7.2) (24.2)\n",
            "Requirement already satisfied: langcodes<4.0.0,>=3.2.0 in /usr/local/lib/python3.11/dist-packages (from spacy==3.7.2) (3.5.0)\n",
            "Requirement already satisfied: wheel in /usr/local/lib/python3.11/dist-packages (from nvidia-cublas-cu11==11.10.3.66->torch==2.0.1) (0.45.1)\n",
            "Requirement already satisfied: cmake in /usr/local/lib/python3.11/dist-packages (from triton==2.0.0->torch==2.0.1) (3.31.6)\n",
            "Requirement already satisfied: lit in /usr/local/lib/python3.11/dist-packages (from triton==2.0.0->torch==2.0.1) (18.1.8)\n",
            "Requirement already satisfied: language-data>=1.2 in /usr/local/lib/python3.11/dist-packages (from langcodes<4.0.0,>=3.2.0->spacy==3.7.2) (1.3.0)\n",
            "Requirement already satisfied: annotated-types>=0.6.0 in /usr/local/lib/python3.11/dist-packages (from pydantic!=1.8,!=1.8.1,<3.0.0,>=1.7.4->spacy==3.7.2) (0.7.0)\n",
            "Requirement already satisfied: pydantic-core==2.27.2 in /usr/local/lib/python3.11/dist-packages (from pydantic!=1.8,!=1.8.1,<3.0.0,>=1.7.4->spacy==3.7.2) (2.27.2)\n",
            "Requirement already satisfied: charset-normalizer<4,>=2 in /usr/local/lib/python3.11/dist-packages (from requests->stanza==1.4.2) (3.4.1)\n",
            "Requirement already satisfied: idna<4,>=2.5 in /usr/local/lib/python3.11/dist-packages (from requests->stanza==1.4.2) (3.10)\n",
            "Requirement already satisfied: urllib3<3,>=1.21.1 in /usr/local/lib/python3.11/dist-packages (from requests->stanza==1.4.2) (2.3.0)\n",
            "Requirement already satisfied: certifi>=2017.4.17 in /usr/local/lib/python3.11/dist-packages (from requests->stanza==1.4.2) (2025.1.31)\n",
            "Requirement already satisfied: blis<0.8.0,>=0.7.8 in /usr/local/lib/python3.11/dist-packages (from thinc<8.3.0,>=8.1.8->spacy==3.7.2) (0.7.11)\n",
            "Requirement already satisfied: confection<1.0.0,>=0.0.1 in /usr/local/lib/python3.11/dist-packages (from thinc<8.3.0,>=8.1.8->spacy==3.7.2) (0.1.5)\n",
            "Requirement already satisfied: click<9.0.0,>=7.1.1 in /usr/local/lib/python3.11/dist-packages (from typer<0.10.0,>=0.3.0->spacy==3.7.2) (8.1.8)\n",
            "Requirement already satisfied: cloudpathlib<0.17.0,>=0.7.0 in /usr/local/lib/python3.11/dist-packages (from weasel<0.4.0,>=0.1.0->spacy==3.7.2) (0.16.0)\n",
            "Requirement already satisfied: MarkupSafe>=2.0 in /usr/local/lib/python3.11/dist-packages (from jinja2->torch==2.0.1) (3.0.2)\n",
            "Requirement already satisfied: mpmath<1.4,>=1.1.0 in /usr/local/lib/python3.11/dist-packages (from sympy->torch==2.0.1) (1.3.0)\n",
            "Requirement already satisfied: marisa-trie>=1.1.0 in /usr/local/lib/python3.11/dist-packages (from language-data>=1.2->langcodes<4.0.0,>=3.2.0->spacy==3.7.2) (1.2.1)\n"
          ]
        }
      ]
    },
    {
      "cell_type": "code",
      "source": [
        "#! pip install spacy-stanza"
      ],
      "metadata": {
        "collapsed": true,
        "id": "bgv08K-s1uBh"
      },
      "execution_count": null,
      "outputs": []
    },
    {
      "cell_type": "code",
      "execution_count": null,
      "metadata": {
        "id": "hezYZ6QmvehM"
      },
      "outputs": [],
      "source": [
        "# Import the Stanza library\n",
        "import stanza"
      ]
    },
    {
      "cell_type": "markdown",
      "metadata": {
        "id": "_cnad1SmvehM"
      },
      "source": [
        "To process a given language, we must first download a Stanza language model using the `download()` function.\n",
        "\n",
        "The `download()` function requires a single argument, `lang`, which defines the language model to be downloaded.\n",
        "\n",
        "To download a language model for a given language, retrieve the two-letter language code (e.g. `wo`) for the language from [the list of available language models](https://stanfordnlp.github.io/stanza/available_models.html) and pass the language code as a string object to the `lang` argument.\n",
        "\n",
        "For example, the following code would download a model for Wolof, a language spoken in West Africa that belongs to the family of Niger-Congo languages. This model has been trained using the Wolof treebank (Dione [2019](https://www.aclweb.org/anthology/W19-8003/)).\n",
        "\n",
        "```python\n",
        "# Download Stanza language model for Wolof\n",
        "stanza.download(lang='wo')\n",
        "```\n",
        "\n",
        "For some languages, Stanza provides models that have been trained on different datasets. Stanza refers to models trained on different datasets as *packages*. By default, Stanza automatically downloads the package with model trained on the largest dataset available for the language in question.\n",
        "\n",
        "To select a model trained on a specific dataset, pass the name of its package as a string object to the `package` argument.\n",
        "\n",
        "To exemplify, the following command would download a model for Finnish trained on the [*FinnTreeBank*](https://universaldependencies.org/treebanks/fi_ftb/index.html) (package: `ftb`) dataset instead of the default model, which is trained on the [*Turku Dependency Treebank*](https://universaldependencies.org/treebanks/fi_tdt/index.html) dataset (package: `tbt`).\n",
        "\n",
        "```python\n",
        "# Download a Stanza language model for Finnish trained using the FinnTreeBank (package 'ftb')\n",
        "stanza.download(lang='fi', package='ftb')\n",
        "```\n",
        "\n",
        "The package names are provided in [the list of language models](https://stanfordnlp.github.io/stanza/available_models.html) available for Stanza."
      ]
    },
    {
      "cell_type": "code",
      "source": [
        "stanza.download(lang='wo')"
      ],
      "metadata": {
        "colab": {
          "base_uri": "https://localhost:8080/",
          "height": 117,
          "referenced_widgets": [
            "6481d22b8e0646cf8ff12c9bcd854d01",
            "f01c18ecfb914d9fb0f0b2cb637c9025",
            "0d9db40d31f54a45a922565d8663e5af",
            "70b1f8b5e6d4409fa0d89b95c4048b46",
            "12394f809e5848fda80af433006fd76c",
            "060bb01b92fa40b98d9ff93ffb52ebca",
            "e8d053594b204a5d8274d90c3b8ef8c9",
            "e0f45ef619de4d079a571669e0ab158e",
            "51adb199f2f94d919cd9ce090b5b035a",
            "f106e0eabb5b4c62bd019899890f9008",
            "3cc3611f5c4444b4b564d56b27919ad7",
            "f098812dcbab4c26b7e44fd2f7e09f63",
            "c4a49edb527d488cb10dca0b970c8771",
            "949ac27394c94f97aff3fef7783853e3",
            "f42a3d22c2d54c68af90ac2b6f5c11b0",
            "5b4b4f49695e4c4bb791414a558386ca",
            "f9756a0423ad4b03921f59dcdfe20a44",
            "f00429b6ad354bc1af7750f9144a6119",
            "00f62a61a8a84ad189acfedb5db1fde5",
            "1cb1dd7d23184357b04a7d0bf0cf6bff",
            "9336e581fb9440c5bbf350dcb71b83c1",
            "4c57d29604724010a556ed2c71259b99"
          ]
        },
        "id": "kvgqKSy84WtT",
        "outputId": "c9e0ede0-220a-4f97-8bdc-98ab9771fa8a"
      },
      "execution_count": null,
      "outputs": [
        {
          "output_type": "display_data",
          "data": {
            "text/plain": [
              "Downloading https://raw.githubusercontent.com/stanfordnlp/stanza-resources/main/resources_1.4.1.json:   0%|   …"
            ],
            "application/vnd.jupyter.widget-view+json": {
              "version_major": 2,
              "version_minor": 0,
              "model_id": "6481d22b8e0646cf8ff12c9bcd854d01"
            }
          },
          "metadata": {}
        },
        {
          "output_type": "stream",
          "name": "stderr",
          "text": [
            "INFO:stanza:Downloading default packages for language: wo (Wolof) ...\n"
          ]
        },
        {
          "output_type": "display_data",
          "data": {
            "text/plain": [
              "Downloading https://huggingface.co/stanfordnlp/stanza-wo/resolve/v1.4.1/models/default.zip:   0%|          | 0…"
            ],
            "application/vnd.jupyter.widget-view+json": {
              "version_major": 2,
              "version_minor": 0,
              "model_id": "f098812dcbab4c26b7e44fd2f7e09f63"
            }
          },
          "metadata": {}
        },
        {
          "output_type": "stream",
          "name": "stderr",
          "text": [
            "INFO:stanza:Finished downloading models and saved to /root/stanza_resources.\n"
          ]
        }
      ]
    },
    {
      "cell_type": "markdown",
      "metadata": {
        "tags": [
          "remove-cell"
        ],
        "id": "0SFaqNPDvehN"
      },
      "source": [
        "To install the language model into the permanent storage on [CSC Notebooks](https://notebooks.csc.fi/), we must also pass the optional `model_dir` argument to the `download()` function, which contains a string that points towards a directory in the permanent storage, namely `/home/jovyan/work`.\n",
        "\n",
        "If the models are not placed in the permanent storage, they will be deleted when the server is shut down.\n",
        "\n",
        "Run the cell below to download the Stanza language model for Wolof into the directory `../stanza_models`.\n",
        "\n",
        "Note that `..` moves up one step in the directory structure relative to this notebook, which places the model into the directory `stanza_models` under the directory `notebooks`."
      ]
    },
    {
      "cell_type": "code",
      "execution_count": null,
      "metadata": {
        "tags": [
          "remove-cell"
        ],
        "id": "8tEZvEnhvehN",
        "colab": {
          "base_uri": "https://localhost:8080/",
          "height": 104,
          "referenced_widgets": [
            "5b3c81a44d6a414facb499e719da6767",
            "f4e512291c194895a33ababb6bf466a7",
            "fe9c3cc47cb24e0cb9384470be47f1fb",
            "24c5a33058004d9d9d47f405c877a3b8",
            "5ff08c6feb654124bedbfede8d75b5f0",
            "ea96e054d64c43e986a58250377409b6",
            "54733f2fb18b4e3980f2ee9a2a2fe086",
            "ff6291e6974c4bc1af2046b58e0254a9",
            "223d268340fa441894703e7563655e92",
            "8485eca7284f4b45afddbe91899ec925",
            "be691074f1934b689cc72c99ea22ef90"
          ]
        },
        "outputId": "612bba7d-0618-4f91-f4c2-4b89a936f66f"
      },
      "outputs": [
        {
          "output_type": "display_data",
          "data": {
            "text/plain": [
              "Downloading https://raw.githubusercontent.com/stanfordnlp/stanza-resources/main/resources_1.4.1.json:   0%|   …"
            ],
            "application/vnd.jupyter.widget-view+json": {
              "version_major": 2,
              "version_minor": 0,
              "model_id": "5b3c81a44d6a414facb499e719da6767"
            }
          },
          "metadata": {}
        },
        {
          "output_type": "stream",
          "name": "stderr",
          "text": [
            "INFO:stanza:Downloading default packages for language: wo (Wolof) ...\n",
            "INFO:stanza:File exists: /root/stanza_resources/wo/default.zip\n",
            "INFO:stanza:Finished downloading models and saved to /root/stanza_resources.\n"
          ]
        }
      ],
      "source": [
        "# Download a Stanza language model for Wolof into the directory \"../stanza_models\"\n",
        "stanza.download(lang='wo')#, model_dir='../stanza_models')"
      ]
    },
    {
      "cell_type": "markdown",
      "metadata": {
        "tags": [
          "remove-cell"
        ],
        "id": "b4XyYlk2vehN"
      },
      "source": [
        "### Quick exercise\n",
        "\n",
        "Check [the list of language models](https://stanfordnlp.github.io/stanza/available_models.html) available for Stanza and download a model for a language that you would like to work with.\n",
        "\n",
        "Use the code below: remember to replace the input to the `lang` argument with the code corresponding to your language of interest.\n",
        "\n",
        "```python\n",
        "stanza.download(lang='XX', model_dir='../stanza_models')\n",
        "```"
      ]
    },
    {
      "cell_type": "markdown",
      "metadata": {
        "id": "BMiP4SIBvehO"
      },
      "source": [
        "### Loading a language model into Stanza\n",
        "\n",
        "To load a Stanza language model into Python, we must first create a *Pipeline* object by initialising an instance of the `Pipeline()` class from the `stanza` module.\n",
        "\n",
        "To exemplify this procedure, let's initialise a pipeline with a language model for Wolof.\n",
        "\n",
        "To load a language model for Wolof into the pipeline, we must provide the string `wo` to the `lang` argument of the `Pipeline()` function.\n",
        "\n",
        "```python\n",
        "# Initialise a Stanza pipeline with a language model for Wolof;\n",
        "# assign model to variable 'nlp_wo'.\n",
        "nlp_wo = stanza.Pipeline(lang='wo')\n",
        "```"
      ]
    },
    {
      "cell_type": "code",
      "source": [
        "nlp_wo = stanza.Pipeline(lang='wo', processors='tokenize,lemma,pos,depparse', verbose=False, use_gpu=False)"
      ],
      "metadata": {
        "id": "X3QAQorm4RZd"
      },
      "execution_count": null,
      "outputs": []
    },
    {
      "cell_type": "markdown",
      "metadata": {
        "tags": [
          "remove-cell"
        ],
        "id": "ztKKmMTXvehP"
      },
      "source": [
        "Because we did **not** place the language model into the default directory, we must also provide a string containing the path to the directory with Stanza language models to the `dir` argument.\n",
        "\n",
        "We then store the resulting pipeline under the variable `nlp_wo`."
      ]
    },
    {
      "cell_type": "code",
      "execution_count": null,
      "metadata": {
        "tags": [
          "remove-cell"
        ],
        "id": "yn22yGrUvehP"
      },
      "outputs": [],
      "source": [
        "# Use the Pipeline() class to initialise a Stanza pipeline with a language model for Wolof, which\n",
        "# is assigned to the variable 'nlp_wo'.\n",
        "# we do this above nlp_wo = stanza.Pipeline(lang='wo',use_gpu=False)#, dir='../stanza_models')\n"
      ]
    },
    {
      "cell_type": "code",
      "execution_count": null,
      "metadata": {
        "id": "6hP4c1LAvehP",
        "colab": {
          "base_uri": "https://localhost:8080/"
        },
        "outputId": "0dac2ea7-6c71-450b-83ec-56e86cd45a31"
      },
      "outputs": [
        {
          "output_type": "execute_result",
          "data": {
            "text/plain": [
              "<stanza.pipeline.core.Pipeline at 0x7d72c802d310>"
            ]
          },
          "metadata": {},
          "execution_count": 9
        }
      ],
      "source": [
        "# Call the variable to examine the output\n",
        "nlp_wo"
      ]
    },
    {
      "cell_type": "markdown",
      "metadata": {
        "id": "N22G99KtvehP"
      },
      "source": [
        "Loading a language model into Stanza returns *Pipeline* object, which consists of a number of *processors* that perform various natural language processing tasks.\n",
        "\n",
        "The output above lists the processors under the heading of the same name, together with the names of the packages used to train these processors.\n",
        "\n",
        "As we learned in [Part II](http://localhost:8888/notebooks/part_ii/04_basic_nlp_continued.ipynb#Modifying-spaCy-pipelines), one might not always need all linguistic annotations created by a model, which always come with a computational cost.\n",
        "\n",
        "To speed up processing, you can define the processors to be included in the *Pipeline* object by providing the argument `processors` with a string object that contains the [processor names](https://stanfordnlp.github.io/stanza/pipeline.html#processors) to be included in the pipeline, which must be separated by commas.\n",
        "\n",
        "For example, creating a *Pipeline* using the command below would only include the processors for tokenization and part-of-speech tagging into the pipeline.\n",
        "\n",
        "```python\n",
        "# Initialise a Stanza pipeline with a language model for Wolof;\n",
        "# assign model to variable 'nlp_wo'. Only include tokenizer\n",
        "# and part-of-speech tagger.\n",
        "nlp_wo = stanza.Pipeline(lang='wo', processors='tokenize, pos')\n",
        "```"
      ]
    },
    {
      "cell_type": "markdown",
      "metadata": {
        "id": "Rn261jbAvehQ"
      },
      "source": [
        "### Processing text using Stanza"
      ]
    },
    {
      "cell_type": "code",
      "execution_count": null,
      "metadata": {
        "tags": [
          "remove-input"
        ],
        "id": "3CCgB-fwvehQ",
        "colab": {
          "base_uri": "https://localhost:8080/",
          "height": 371
        },
        "outputId": "f98ee1f1-e67a-4b99-fc21-5c6319e8a94f"
      },
      "outputs": [
        {
          "output_type": "execute_result",
          "data": {
            "text/plain": [
              "<IPython.lib.display.YouTubeVideo at 0x7d72c7fe0190>"
            ],
            "text/html": [
              "\n",
              "        <iframe\n",
              "            width=\"600\"\n",
              "            height=\"350\"\n",
              "            src=\"https://www.youtube.com/embed/w8vvgP4dQTU\"\n",
              "            frameborder=\"0\"\n",
              "            allowfullscreen\n",
              "            \n",
              "        ></iframe>\n",
              "        "
            ],
            "image/jpeg": "[encoded data removed]"
          },
          "metadata": {},
          "execution_count": 10
        }
      ],
      "source": [
        "# Run this cell to view a YouTube video related to this topic\n",
        "from IPython.display import YouTubeVideo\n",
        "YouTubeVideo('w8vvgP4dQTU', height=350, width=600)"
      ]
    },
    {
      "cell_type": "markdown",
      "metadata": {
        "id": "PZx0N8IpvehQ"
      },
      "source": [
        "Now that we have initialised a Stanza *Pipeline* with a language model, we can feed some text in Wolof to the model under `nlp_wo` as a string object.\n",
        "\n",
        "We store the result under the variable `doc_wo`."
      ]
    },
    {
      "cell_type": "code",
      "execution_count": null,
      "metadata": {
        "id": "aJxF6ZX4vehQ",
        "colab": {
          "base_uri": "https://localhost:8080/",
          "height": 138
        },
        "outputId": "31e61f56-248f-4af4-d3c9-97796ea0315c"
      },
      "outputs": [
        {
          "output_type": "execute_result",
          "data": {
            "text/plain": [
              "stanza.models.common.doc.Document"
            ],
            "text/html": [
              "<div style=\"max-width:800px; border: 1px solid var(--colab-border-color);\"><style>\n",
              "      pre.function-repr-contents {\n",
              "        overflow-x: auto;\n",
              "        padding: 8px 12px;\n",
              "        max-height: 500px;\n",
              "      }\n",
              "\n",
              "      pre.function-repr-contents.function-repr-contents-collapsed {\n",
              "        cursor: pointer;\n",
              "        max-height: 100px;\n",
              "      }\n",
              "    </style>\n",
              "    <pre style=\"white-space: initial; background:\n",
              "         var(--colab-secondary-surface-color); padding: 8px 12px;\n",
              "         border-bottom: 1px solid var(--colab-border-color);\"><b>stanza.models.common.doc.Document</b><br/>def __init__(sentences, text=None, comments=None)</pre><pre class=\"function-repr-contents function-repr-contents-collapsed\" style=\"\"><a class=\"filepath\" style=\"display:none\" href=\"#\">/usr/local/lib/python3.11/dist-packages/stanza/models/common/doc.py</a>A document class that stores attributes of a document and carries a list of sentences.\n",
              "    </pre>\n",
              "      <script>\n",
              "      if (google.colab.kernel.accessAllowed && google.colab.files && google.colab.files.view) {\n",
              "        for (const element of document.querySelectorAll('.filepath')) {\n",
              "          element.style.display = 'block'\n",
              "          element.onclick = (event) => {\n",
              "            event.preventDefault();\n",
              "            event.stopPropagation();\n",
              "            google.colab.files.view(element.textContent, 64);\n",
              "          };\n",
              "        }\n",
              "      }\n",
              "      for (const element of document.querySelectorAll('.function-repr-contents')) {\n",
              "        element.onclick = (event) => {\n",
              "          event.preventDefault();\n",
              "          event.stopPropagation();\n",
              "          element.classList.toggle('function-repr-contents-collapsed');\n",
              "        };\n",
              "      }\n",
              "      </script>\n",
              "      </div>"
            ]
          },
          "metadata": {},
          "execution_count": 11
        }
      ],
      "source": [
        "# Feed text to the model under 'nlp_wo'; store result under the variable 'doc'\n",
        "doc_wo = nlp_wo(\"Réew maa ngi lebe turam wi ci dex gi ko peek ci penku ak bëj-gànnaar, te ab balluwaayam bawoo ca Fuuta Jallon ca Ginne, di Dexug Senegaal. Ab kilimaam bu gëwéel la te di bu fendi te yor ñaari jamono: jamonoy nawet (jamonoy taw) ak ju noor (jamonoy fendi).\")\n",
        "\n",
        "# Check the type of the output\n",
        "type(doc_wo)"
      ]
    },
    {
      "cell_type": "markdown",
      "metadata": {
        "id": "67wfjcpJvehR"
      },
      "source": [
        "This returns a Stanza [*Document*](https://stanfordnlp.github.io/stanza/data_objects.html#document) object, which contains the linguistic annotations created by passing the text through the pipeline.\n",
        "\n",
        "The attribute `sentences` of a Stanza *Document* object contains a list, where each item contains a single sentence.\n",
        "\n",
        "Thus we can use brackets to access the first item `[0]` in the list."
      ]
    },
    {
      "cell_type": "code",
      "execution_count": null,
      "metadata": {
        "tags": [
          "output_scroll"
        ],
        "id": "Py9IeS64vehR",
        "colab": {
          "base_uri": "https://localhost:8080/"
        },
        "outputId": "6c90cf2d-3ba6-4503-c8f8-9e0716ea97e1"
      },
      "outputs": [
        {
          "output_type": "execute_result",
          "data": {
            "text/plain": [
              "[\n",
              "  {\n",
              "    \"id\": 1,\n",
              "    \"text\": \"Réew\",\n",
              "    \"lemma\": \"réew\",\n",
              "    \"upos\": \"NOUN\",\n",
              "    \"xpos\": \"NOUN\",\n",
              "    \"head\": 4,\n",
              "    \"deprel\": \"nsubj\",\n",
              "    \"start_char\": 0,\n",
              "    \"end_char\": 4\n",
              "  },\n",
              "  {\n",
              "    \"id\": 2,\n",
              "    \"text\": \"maa\",\n",
              "    \"lemma\": \"a\",\n",
              "    \"upos\": \"AUX\",\n",
              "    \"xpos\": \"AUX\",\n",
              "    \"feats\": \"PronType=Prs\",\n",
              "    \"head\": 4,\n",
              "    \"deprel\": \"aux\",\n",
              "    \"start_char\": 5,\n",
              "    \"end_char\": 8\n",
              "  },\n",
              "  {\n",
              "    \"id\": 3,\n",
              "    \"text\": \"ngi\",\n",
              "    \"lemma\": \"ngi\",\n",
              "    \"upos\": \"AUX\",\n",
              "    \"xpos\": \"AUX\",\n",
              "    \"feats\": \"Aspect=Prog\",\n",
              "    \"head\": 4,\n",
              "    \"deprel\": \"aux\",\n",
              "    \"start_char\": 9,\n",
              "    \"end_char\": 12\n",
              "  },\n",
              "  {\n",
              "    \"id\": 4,\n",
              "    \"text\": \"lebe\",\n",
              "    \"lemma\": \"lebe\",\n",
              "    \"upos\": \"VERB\",\n",
              "    \"xpos\": \"VERB\",\n",
              "    \"feats\": \"Mood=Ind|VerbForm=Fin\",\n",
              "    \"head\": 0,\n",
              "    \"deprel\": \"root\",\n",
              "    \"start_char\": 13,\n",
              "    \"end_char\": 17\n",
              "  },\n",
              "  {\n",
              "    \"id\": 5,\n",
              "    \"text\": \"turam\",\n",
              "    \"lemma\": \"tur\",\n",
              "    \"upos\": \"NOUN\",\n",
              "    \"xpos\": \"NOUN\",\n",
              "    \"feats\": \"Number=Sing|Poss=Yes\",\n",
              "    \"head\": 4,\n",
              "    \"deprel\": \"obj\",\n",
              "    \"start_char\": 18,\n",
              "    \"end_char\": 23\n",
              "  },\n",
              "  {\n",
              "    \"id\": 6,\n",
              "    \"text\": \"wi\",\n",
              "    \"lemma\": \"bi\",\n",
              "    \"upos\": \"DET\",\n",
              "    \"xpos\": \"DET\",\n",
              "    \"feats\": \"Definite=Def|Deixis=Prox|NounClass=Wol10|Number=Sing|PronType=Art\",\n",
              "    \"head\": 5,\n",
              "    \"deprel\": \"det\",\n",
              "    \"start_char\": 24,\n",
              "    \"end_char\": 26\n",
              "  },\n",
              "  {\n",
              "    \"id\": 7,\n",
              "    \"text\": \"ci\",\n",
              "    \"lemma\": \"ci\",\n",
              "    \"upos\": \"ADP\",\n",
              "    \"xpos\": \"PREP\",\n",
              "    \"head\": 8,\n",
              "    \"deprel\": \"case\",\n",
              "    \"start_char\": 27,\n",
              "    \"end_char\": 29\n",
              "  },\n",
              "  {\n",
              "    \"id\": 8,\n",
              "    \"text\": \"dex\",\n",
              "    \"lemma\": \"dex\",\n",
              "    \"upos\": \"NOUN\",\n",
              "    \"xpos\": \"NOUN\",\n",
              "    \"head\": 4,\n",
              "    \"deprel\": \"obl\",\n",
              "    \"start_char\": 30,\n",
              "    \"end_char\": 33\n",
              "  },\n",
              "  {\n",
              "    \"id\": 9,\n",
              "    \"text\": \"gi\",\n",
              "    \"lemma\": \"bi\",\n",
              "    \"upos\": \"PRON\",\n",
              "    \"xpos\": \"PRON\",\n",
              "    \"feats\": \"Definite=Def|Deixis=Prox|NounClass=Wol3|Number=Sing|Person=3|PronType=Rel\",\n",
              "    \"head\": 11,\n",
              "    \"deprel\": \"nsubj\",\n",
              "    \"start_char\": 34,\n",
              "    \"end_char\": 36\n",
              "  },\n",
              "  {\n",
              "    \"id\": 10,\n",
              "    \"text\": \"ko\",\n",
              "    \"lemma\": \"ko\",\n",
              "    \"upos\": \"PRON\",\n",
              "    \"xpos\": \"CL\",\n",
              "    \"feats\": \"Case=Acc|Number=Sing|Person=3|PronType=Prs\",\n",
              "    \"head\": 11,\n",
              "    \"deprel\": \"obj\",\n",
              "    \"start_char\": 37,\n",
              "    \"end_char\": 39\n",
              "  },\n",
              "  {\n",
              "    \"id\": 11,\n",
              "    \"text\": \"peek\",\n",
              "    \"lemma\": \"peek\",\n",
              "    \"upos\": \"VERB\",\n",
              "    \"xpos\": \"VERB\",\n",
              "    \"feats\": \"Mood=Ind|VerbForm=Fin\",\n",
              "    \"head\": 8,\n",
              "    \"deprel\": \"acl:relcl\",\n",
              "    \"start_char\": 40,\n",
              "    \"end_char\": 44\n",
              "  },\n",
              "  {\n",
              "    \"id\": 12,\n",
              "    \"text\": \"ci\",\n",
              "    \"lemma\": \"ci\",\n",
              "    \"upos\": \"ADP\",\n",
              "    \"xpos\": \"PREP\",\n",
              "    \"head\": 13,\n",
              "    \"deprel\": \"case\",\n",
              "    \"start_char\": 45,\n",
              "    \"end_char\": 47\n",
              "  },\n",
              "  {\n",
              "    \"id\": 13,\n",
              "    \"text\": \"penku\",\n",
              "    \"lemma\": \"penku\",\n",
              "    \"upos\": \"NOUN\",\n",
              "    \"xpos\": \"NOUN\",\n",
              "    \"head\": 11,\n",
              "    \"deprel\": \"obl\",\n",
              "    \"start_char\": 48,\n",
              "    \"end_char\": 53\n",
              "  },\n",
              "  {\n",
              "    \"id\": 14,\n",
              "    \"text\": \"ak\",\n",
              "    \"lemma\": \"ak\",\n",
              "    \"upos\": \"CCONJ\",\n",
              "    \"xpos\": \"CONJ\",\n",
              "    \"head\": 15,\n",
              "    \"deprel\": \"cc\",\n",
              "    \"start_char\": 54,\n",
              "    \"end_char\": 56\n",
              "  },\n",
              "  {\n",
              "    \"id\": 15,\n",
              "    \"text\": \"bëj-gànnaar\",\n",
              "    \"lemma\": \"bëj-gànnaar\",\n",
              "    \"upos\": \"NOUN\",\n",
              "    \"xpos\": \"NOUN\",\n",
              "    \"head\": 13,\n",
              "    \"deprel\": \"conj\",\n",
              "    \"start_char\": 57,\n",
              "    \"end_char\": 68\n",
              "  },\n",
              "  {\n",
              "    \"id\": 16,\n",
              "    \"text\": \",\",\n",
              "    \"lemma\": \",\",\n",
              "    \"upos\": \"PUNCT\",\n",
              "    \"xpos\": \"COMMA\",\n",
              "    \"head\": 20,\n",
              "    \"deprel\": \"punct\",\n",
              "    \"start_char\": 68,\n",
              "    \"end_char\": 69\n",
              "  },\n",
              "  {\n",
              "    \"id\": 17,\n",
              "    \"text\": \"te\",\n",
              "    \"lemma\": \"te\",\n",
              "    \"upos\": \"CCONJ\",\n",
              "    \"xpos\": \"CONJ\",\n",
              "    \"head\": 20,\n",
              "    \"deprel\": \"cc\",\n",
              "    \"start_char\": 70,\n",
              "    \"end_char\": 72\n",
              "  },\n",
              "  {\n",
              "    \"id\": 18,\n",
              "    \"text\": \"ab\",\n",
              "    \"lemma\": \"ab\",\n",
              "    \"upos\": \"DET\",\n",
              "    \"xpos\": \"DET\",\n",
              "    \"feats\": \"Definite=Ind|NounClass=Wol5|Number=Sing|PronType=Art\",\n",
              "    \"head\": 19,\n",
              "    \"deprel\": \"det\",\n",
              "    \"start_char\": 73,\n",
              "    \"end_char\": 75\n",
              "  },\n",
              "  {\n",
              "    \"id\": 19,\n",
              "    \"text\": \"balluwaayam\",\n",
              "    \"lemma\": \"balluwaay\",\n",
              "    \"upos\": \"NOUN\",\n",
              "    \"xpos\": \"NOUN\",\n",
              "    \"feats\": \"Number=Sing|Poss=Yes\",\n",
              "    \"head\": 20,\n",
              "    \"deprel\": \"nsubj\",\n",
              "    \"start_char\": 76,\n",
              "    \"end_char\": 87\n",
              "  },\n",
              "  {\n",
              "    \"id\": 20,\n",
              "    \"text\": \"bawoo\",\n",
              "    \"lemma\": \"bawoo\",\n",
              "    \"upos\": \"VERB\",\n",
              "    \"xpos\": \"VERB\",\n",
              "    \"feats\": \"Mood=Ind|VerbForm=Fin\",\n",
              "    \"head\": 4,\n",
              "    \"deprel\": \"conj\",\n",
              "    \"start_char\": 88,\n",
              "    \"end_char\": 93\n",
              "  },\n",
              "  {\n",
              "    \"id\": 21,\n",
              "    \"text\": \"ca\",\n",
              "    \"lemma\": \"ca\",\n",
              "    \"upos\": \"ADP\",\n",
              "    \"xpos\": \"PREP\",\n",
              "    \"head\": 22,\n",
              "    \"deprel\": \"case\",\n",
              "    \"start_char\": 94,\n",
              "    \"end_char\": 96\n",
              "  },\n",
              "  {\n",
              "    \"id\": 22,\n",
              "    \"text\": \"Fuuta\",\n",
              "    \"lemma\": \"Fuuta\",\n",
              "    \"upos\": \"PROPN\",\n",
              "    \"xpos\": \"NAME\",\n",
              "    \"head\": 20,\n",
              "    \"deprel\": \"obl\",\n",
              "    \"start_char\": 97,\n",
              "    \"end_char\": 102\n",
              "  },\n",
              "  {\n",
              "    \"id\": 23,\n",
              "    \"text\": \"Jallon\",\n",
              "    \"lemma\": \"Jallon\",\n",
              "    \"upos\": \"PROPN\",\n",
              "    \"xpos\": \"NAME\",\n",
              "    \"head\": 22,\n",
              "    \"deprel\": \"flat\",\n",
              "    \"start_char\": 103,\n",
              "    \"end_char\": 109\n",
              "  },\n",
              "  {\n",
              "    \"id\": 24,\n",
              "    \"text\": \"ca\",\n",
              "    \"lemma\": \"ca\",\n",
              "    \"upos\": \"ADP\",\n",
              "    \"xpos\": \"PREP\",\n",
              "    \"head\": 25,\n",
              "    \"deprel\": \"case\",\n",
              "    \"start_char\": 110,\n",
              "    \"end_char\": 112\n",
              "  },\n",
              "  {\n",
              "    \"id\": 25,\n",
              "    \"text\": \"Ginne\",\n",
              "    \"lemma\": \"Ginne\",\n",
              "    \"upos\": \"PROPN\",\n",
              "    \"xpos\": \"NAME\",\n",
              "    \"head\": 20,\n",
              "    \"deprel\": \"obl\",\n",
              "    \"start_char\": 113,\n",
              "    \"end_char\": 118\n",
              "  },\n",
              "  {\n",
              "    \"id\": 26,\n",
              "    \"text\": \",\",\n",
              "    \"lemma\": \",\",\n",
              "    \"upos\": \"PUNCT\",\n",
              "    \"xpos\": \"COMMA\",\n",
              "    \"head\": 28,\n",
              "    \"deprel\": \"punct\",\n",
              "    \"start_char\": 118,\n",
              "    \"end_char\": 119\n",
              "  },\n",
              "  {\n",
              "    \"id\": 27,\n",
              "    \"text\": \"di\",\n",
              "    \"lemma\": \"di\",\n",
              "    \"upos\": \"AUX\",\n",
              "    \"xpos\": \"COP\",\n",
              "    \"feats\": \"Aspect=Imp|Mood=Ind|Tense=Pres|VerbForm=Fin\",\n",
              "    \"head\": 28,\n",
              "    \"deprel\": \"cop\",\n",
              "    \"start_char\": 120,\n",
              "    \"end_char\": 122\n",
              "  },\n",
              "  {\n",
              "    \"id\": 28,\n",
              "    \"text\": \"Dexug\",\n",
              "    \"lemma\": \"dex\",\n",
              "    \"upos\": \"NOUN\",\n",
              "    \"xpos\": \"NOUN\",\n",
              "    \"feats\": \"Case=Gen|Number=Sing\",\n",
              "    \"head\": 22,\n",
              "    \"deprel\": \"appos\",\n",
              "    \"start_char\": 123,\n",
              "    \"end_char\": 128\n",
              "  },\n",
              "  {\n",
              "    \"id\": 29,\n",
              "    \"text\": \"Senegaal\",\n",
              "    \"lemma\": \"Senegaal\",\n",
              "    \"upos\": \"PROPN\",\n",
              "    \"xpos\": \"NAME\",\n",
              "    \"head\": 28,\n",
              "    \"deprel\": \"nmod\",\n",
              "    \"start_char\": 129,\n",
              "    \"end_char\": 137\n",
              "  },\n",
              "  {\n",
              "    \"id\": 30,\n",
              "    \"text\": \".\",\n",
              "    \"lemma\": \".\",\n",
              "    \"upos\": \"PUNCT\",\n",
              "    \"xpos\": \"PERIOD\",\n",
              "    \"head\": 4,\n",
              "    \"deprel\": \"punct\",\n",
              "    \"start_char\": 137,\n",
              "    \"end_char\": 138\n",
              "  }\n",
              "]"
            ]
          },
          "metadata": {},
          "execution_count": 12
        }
      ],
      "source": [
        "# Get the first item in the list of sentences\n",
        "doc_wo.sentences[0]"
      ]
    },
    {
      "cell_type": "markdown",
      "metadata": {
        "id": "78txlyOZvehR"
      },
      "source": [
        "Although the output contains both brackets `[]` and curly braces `{}`, which Python typically uses for marking lists and dictionaries, respectively, the output is not a list with nested dictionaries, but a Stanza [*Sentence*](https://stanfordnlp.github.io/stanza/data_objects.html#sentence) object."
      ]
    },
    {
      "cell_type": "code",
      "execution_count": null,
      "metadata": {
        "id": "xx-M2pCivehR",
        "colab": {
          "base_uri": "https://localhost:8080/",
          "height": 138
        },
        "outputId": "ea9263fc-584c-4ed0-86e4-a5ae0610707a"
      },
      "outputs": [
        {
          "output_type": "execute_result",
          "data": {
            "text/plain": [
              "stanza.models.common.doc.Sentence"
            ],
            "text/html": [
              "<div style=\"max-width:800px; border: 1px solid var(--colab-border-color);\"><style>\n",
              "      pre.function-repr-contents {\n",
              "        overflow-x: auto;\n",
              "        padding: 8px 12px;\n",
              "        max-height: 500px;\n",
              "      }\n",
              "\n",
              "      pre.function-repr-contents.function-repr-contents-collapsed {\n",
              "        cursor: pointer;\n",
              "        max-height: 100px;\n",
              "      }\n",
              "    </style>\n",
              "    <pre style=\"white-space: initial; background:\n",
              "         var(--colab-secondary-surface-color); padding: 8px 12px;\n",
              "         border-bottom: 1px solid var(--colab-border-color);\"><b>stanza.models.common.doc.Sentence</b><br/>def __init__(tokens, doc=None)</pre><pre class=\"function-repr-contents function-repr-contents-collapsed\" style=\"\"><a class=\"filepath\" style=\"display:none\" href=\"#\">/usr/local/lib/python3.11/dist-packages/stanza/models/common/doc.py</a>A sentence class that stores attributes of a sentence and carries a list of tokens.\n",
              "    </pre>\n",
              "      <script>\n",
              "      if (google.colab.kernel.accessAllowed && google.colab.files && google.colab.files.view) {\n",
              "        for (const element of document.querySelectorAll('.filepath')) {\n",
              "          element.style.display = 'block'\n",
              "          element.onclick = (event) => {\n",
              "            event.preventDefault();\n",
              "            event.stopPropagation();\n",
              "            google.colab.files.view(element.textContent, 394);\n",
              "          };\n",
              "        }\n",
              "      }\n",
              "      for (const element of document.querySelectorAll('.function-repr-contents')) {\n",
              "        element.onclick = (event) => {\n",
              "          event.preventDefault();\n",
              "          event.stopPropagation();\n",
              "          element.classList.toggle('function-repr-contents-collapsed');\n",
              "        };\n",
              "      }\n",
              "      </script>\n",
              "      </div>"
            ]
          },
          "metadata": {},
          "execution_count": 13
        }
      ],
      "source": [
        "# Check the type of the first item in the Document object\n",
        "type(doc_wo.sentences[0])"
      ]
    },
    {
      "cell_type": "markdown",
      "metadata": {
        "id": "vnLz1S1qvehR"
      },
      "source": [
        "The *Sentence* object contains [various attributes and methods](https://stanfordnlp.github.io/stanza/data_objects.html#sentence) for accessing the linguistic annotations created by the language model.\n",
        "\n",
        "If we wish to interact with the annotations using data structures native to Python, we can use the `to_dict()` method to cast the annotations into a list of dictionaries, in which each dictionary stands for a single Stanza [*Token*](https://stanfordnlp.github.io/stanza/data_objects.html#token) object.\n",
        "\n",
        "The *key* and *value* pairs in these dictionaries contain the linguistic annotations for each *Token*."
      ]
    },
    {
      "cell_type": "code",
      "execution_count": null,
      "metadata": {
        "id": "wQFqVLJJvehS",
        "colab": {
          "base_uri": "https://localhost:8080/"
        },
        "outputId": "ec059795-af1e-4752-fc4f-891e7ecee829"
      },
      "outputs": [
        {
          "output_type": "execute_result",
          "data": {
            "text/plain": [
              "{'id': 1,\n",
              " 'text': 'Réew',\n",
              " 'lemma': 'réew',\n",
              " 'upos': 'NOUN',\n",
              " 'xpos': 'NOUN',\n",
              " 'head': 4,\n",
              " 'deprel': 'nsubj',\n",
              " 'start_char': 0,\n",
              " 'end_char': 4}"
            ]
          },
          "metadata": {},
          "execution_count": 14
        }
      ],
      "source": [
        "# Cast the first Sentence object into a Python dictionary; store under variable 'doc_dict'\n",
        "doc_dict = doc_wo.sentences[0].to_dict()\n",
        "\n",
        "# Get the dictionary for the first Token\n",
        "doc_dict[0]"
      ]
    },
    {
      "cell_type": "markdown",
      "metadata": {
        "id": "uGJf3x1hvehS"
      },
      "source": [
        "As you can see, the dictionary consists of key and value pairs, which hold the linguistic annotations.\n",
        "\n",
        "We can retrieve a list of keys available for a Python dictionary using the `keys()` method."
      ]
    },
    {
      "cell_type": "code",
      "execution_count": null,
      "metadata": {
        "id": "bQxBXo2wvehS",
        "colab": {
          "base_uri": "https://localhost:8080/"
        },
        "outputId": "21667fef-cf98-42b9-fcdc-63d6adeca05e"
      },
      "outputs": [
        {
          "output_type": "execute_result",
          "data": {
            "text/plain": [
              "dict_keys(['id', 'text', 'lemma', 'upos', 'xpos', 'head', 'deprel', 'start_char', 'end_char'])"
            ]
          },
          "metadata": {},
          "execution_count": 15
        }
      ],
      "source": [
        "# Get a list of keys for the first Token in the dictionary 'doc_dict'\n",
        "doc_dict[0].keys()"
      ]
    },
    {
      "cell_type": "markdown",
      "metadata": {
        "id": "e0ViPjzdvehS"
      },
      "source": [
        "Now that we have listed the keys, let's retrieve the value under the key `lemma`."
      ]
    },
    {
      "cell_type": "code",
      "execution_count": null,
      "metadata": {
        "id": "m-7-0eKRvehS",
        "colab": {
          "base_uri": "https://localhost:8080/",
          "height": 36
        },
        "outputId": "5c50224b-5119-4038-daa0-b3fb4ca2eaa3"
      },
      "outputs": [
        {
          "output_type": "execute_result",
          "data": {
            "text/plain": [
              "'réew'"
            ],
            "application/vnd.google.colaboratory.intrinsic+json": {
              "type": "string"
            }
          },
          "metadata": {},
          "execution_count": 16
        }
      ],
      "source": [
        "# Get the value under key 'lemma' for the first item [0] in the dictionary 'doc_dict'\n",
        "doc_dict[0]['lemma']"
      ]
    },
    {
      "cell_type": "markdown",
      "metadata": {
        "id": "BIEz6vO8vehS"
      },
      "source": [
        "This returns the lemma of the word \"réew\", which stands for \"country\"."
      ]
    },
    {
      "cell_type": "markdown",
      "metadata": {
        "id": "4LIpz0LTvehT"
      },
      "source": [
        "### Processing multiple texts using Stanza"
      ]
    },
    {
      "cell_type": "code",
      "execution_count": null,
      "metadata": {
        "tags": [
          "remove-input"
        ],
        "id": "pQwIBhb3vehT",
        "colab": {
          "base_uri": "https://localhost:8080/",
          "height": 371
        },
        "outputId": "69664502-7f8a-4e2e-9034-32ec7de78395"
      },
      "outputs": [
        {
          "output_type": "execute_result",
          "data": {
            "text/plain": [
              "<IPython.lib.display.YouTubeVideo at 0x7d72c7a979d0>"
            ],
            "text/html": [
              "\n",
              "        <iframe\n",
              "            width=\"600\"\n",
              "            height=\"350\"\n",
              "            src=\"https://www.youtube.com/embed/L2MmfJ3x5Jk\"\n",
              "            frameborder=\"0\"\n",
              "            allowfullscreen\n",
              "            \n",
              "        ></iframe>\n",
              "        "
            ],
            "image/jpeg": "[encoded data removed]"
          },
          "metadata": {},
          "execution_count": 17
        }
      ],
      "source": [
        "# Run this cell to view a YouTube video related to this topic\n",
        "from IPython.display import YouTubeVideo\n",
        "YouTubeVideo('L2MmfJ3x5Jk', height=350, width=600)"
      ]
    },
    {
      "cell_type": "markdown",
      "metadata": {
        "id": "c8MPTOWIvehT"
      },
      "source": [
        "To process multiple documents with Stanza, the most efficent way is to first collect the documents as string objects into a Python list.\n",
        "\n",
        "Let's define a toy example with a couple of example documents in Wolof and store them as string objects into a list under the variable `str_docs`."
      ]
    },
    {
      "cell_type": "code",
      "execution_count": null,
      "metadata": {
        "id": "AEr66wK4vehT"
      },
      "outputs": [],
      "source": [
        "# Define a Python list consisting of two strings\n",
        "str_docs = ['Lislaam a ngi njëkk a tàbbi ci Senegaal ci diggante VIIIeelu xarnu ak IXeelu xarnu, ña ko fa dugal di ay yaxantukat yu araab-yu-berber.',\n",
        "            'Li ëpp ci gëstu yi ñu def ci wàllug Gëstu-askan (walla demogaraafi) ci Senegaal dafa sukkandiku ci Waññ (recensement) yi ñu jotoon a def ci 1976, 1988 rawati na 2002.']"
      ]
    },
    {
      "cell_type": "markdown",
      "metadata": {
        "id": "6wFkf-XhvehT"
      },
      "source": [
        "Next, we create a list of Stanza *Document* objects using a Python list comprehension. These *Document* objects are annotated for their linguistic features when they are passed through a *Pipeline* object.\n",
        "\n",
        "At this stage, we simply cast each string in the list `str_docs` to a Stanza *Document* object. We store the result into a list named `docs_wo_in`.\n",
        "\n",
        "Before proceeding to create the *Document* objects, let's examine how the list comprehension is structured by taking apart its syntax step by step.\n",
        "\n",
        "The list comprehension is like a `for` loop, which was introduced in [Part II](../part_ii/01_basic_text_processing.html#manipulating-text), which uses the contents of an existing list to create a new list.\n",
        "\n",
        "To begin with, just like lists, list comprehensions are marked using surrounding brackets `[]`.\n",
        "\n",
        "```python\n",
        "docs_wo_in = []\n",
        "```\n",
        "\n",
        "Next, on the right-hand side of the `for` statement, we use the variable `doc` to refer to items in the list `str_docs` that we are looping over.\n",
        "\n",
        "```python\n",
        "docs_wo_in = [... for doc in str_docs]\n",
        "```\n",
        "\n",
        "Now that we can refer to list items using the variable `doc`, we can define what we do to each item on the left-hand side of the `for` statement.\n",
        "\n",
        "```python\n",
        "docs_wo_in = [stanza.Document([], text=doc) for doc in str_docs]\n",
        "```\n",
        "\n",
        "For each item in the list `str_docs`, we initialise an empty `Document` object and pass two inputs to this object:\n",
        "\n",
        " 1. an empty list `[]` that will be populated with linguistic annotations,\n",
        " 2. the contents of the string variable under `doc` to the argument `text`."
      ]
    },
    {
      "cell_type": "code",
      "execution_count": null,
      "metadata": {
        "id": "lz2py8p5vehU",
        "colab": {
          "base_uri": "https://localhost:8080/"
        },
        "outputId": "91da54a4-7751-4931-e314-03cd6368e10a"
      },
      "outputs": [
        {
          "output_type": "execute_result",
          "data": {
            "text/plain": [
              "[[], []]"
            ]
          },
          "metadata": {},
          "execution_count": 19
        }
      ],
      "source": [
        "# Use a list comprehension to create a Python list with Stanza Document objects.\n",
        "docs_wo_in = [stanza.Document([], text=doc) for doc in str_docs]\n",
        "\n",
        "# Call the variable to check the output\n",
        "docs_wo_in"
      ]
    },
    {
      "cell_type": "markdown",
      "metadata": {
        "id": "OgNOYSgavehU"
      },
      "source": [
        "Don't let the output fool you here: what looks like two empty Python lists nested within a list are actually Stanza *Document* objects.\n",
        "\n",
        "Let's use the brackets to access and examine the first *Document* object in the list `docs_wo_in`."
      ]
    },
    {
      "cell_type": "code",
      "execution_count": null,
      "metadata": {
        "id": "2UTHOfEevehU",
        "colab": {
          "base_uri": "https://localhost:8080/",
          "height": 138
        },
        "outputId": "d6538e94-1139-4d97-958b-01ad7fd5a7ed"
      },
      "outputs": [
        {
          "output_type": "execute_result",
          "data": {
            "text/plain": [
              "stanza.models.common.doc.Document"
            ],
            "text/html": [
              "<div style=\"max-width:800px; border: 1px solid var(--colab-border-color);\"><style>\n",
              "      pre.function-repr-contents {\n",
              "        overflow-x: auto;\n",
              "        padding: 8px 12px;\n",
              "        max-height: 500px;\n",
              "      }\n",
              "\n",
              "      pre.function-repr-contents.function-repr-contents-collapsed {\n",
              "        cursor: pointer;\n",
              "        max-height: 100px;\n",
              "      }\n",
              "    </style>\n",
              "    <pre style=\"white-space: initial; background:\n",
              "         var(--colab-secondary-surface-color); padding: 8px 12px;\n",
              "         border-bottom: 1px solid var(--colab-border-color);\"><b>stanza.models.common.doc.Document</b><br/>def __init__(sentences, text=None, comments=None)</pre><pre class=\"function-repr-contents function-repr-contents-collapsed\" style=\"\"><a class=\"filepath\" style=\"display:none\" href=\"#\">/usr/local/lib/python3.11/dist-packages/stanza/models/common/doc.py</a>A document class that stores attributes of a document and carries a list of sentences.\n",
              "    </pre>\n",
              "      <script>\n",
              "      if (google.colab.kernel.accessAllowed && google.colab.files && google.colab.files.view) {\n",
              "        for (const element of document.querySelectorAll('.filepath')) {\n",
              "          element.style.display = 'block'\n",
              "          element.onclick = (event) => {\n",
              "            event.preventDefault();\n",
              "            event.stopPropagation();\n",
              "            google.colab.files.view(element.textContent, 64);\n",
              "          };\n",
              "        }\n",
              "      }\n",
              "      for (const element of document.querySelectorAll('.function-repr-contents')) {\n",
              "        element.onclick = (event) => {\n",
              "          event.preventDefault();\n",
              "          event.stopPropagation();\n",
              "          element.classList.toggle('function-repr-contents-collapsed');\n",
              "        };\n",
              "      }\n",
              "      </script>\n",
              "      </div>"
            ]
          },
          "metadata": {},
          "execution_count": 20
        }
      ],
      "source": [
        "# Check the type of the first item in the list 'docs_wo_in'\n",
        "type(docs_wo_in[0])"
      ]
    },
    {
      "cell_type": "markdown",
      "metadata": {
        "id": "CkcqlN9zvehU"
      },
      "source": [
        "As you can see, the object is indeed a Stanza *Document* object.\n",
        "\n",
        "We can verify that our input texts made it into this document by examining the `text` attribute."
      ]
    },
    {
      "cell_type": "code",
      "execution_count": null,
      "metadata": {
        "id": "gXYcsm34vehh",
        "colab": {
          "base_uri": "https://localhost:8080/",
          "height": 36
        },
        "outputId": "d2ea5688-2735-464e-c53a-1a5f99c3b53e"
      },
      "outputs": [
        {
          "output_type": "execute_result",
          "data": {
            "text/plain": [
              "'Lislaam a ngi njëkk a tàbbi ci Senegaal ci diggante VIIIeelu xarnu ak IXeelu xarnu, ña ko fa dugal di ay yaxantukat yu araab-yu-berber.'"
            ],
            "application/vnd.google.colaboratory.intrinsic+json": {
              "type": "string"
            }
          },
          "metadata": {},
          "execution_count": 21
        }
      ],
      "source": [
        "# Check the contents of the 'text' attribute under the\n",
        "# first Sentence in the list 'docs_wo_in'\n",
        "docs_wo_in[0].text"
      ]
    },
    {
      "cell_type": "markdown",
      "metadata": {
        "id": "kwKR9ETIvehh"
      },
      "source": [
        "Now that we have a list of Stanza *Document* objects, we can pass them all at once to the language model for annotation.\n",
        "\n",
        "This can be achieved by simply providing the list as input to the Wolof language model stored under `nlp_wo`.\n",
        "\n",
        "We then store the annotated Stanza *Document* objects under the variable `docs_wo_out`."
      ]
    },
    {
      "cell_type": "code",
      "execution_count": null,
      "metadata": {
        "tags": [
          "output_scroll"
        ],
        "id": "vh7rbdnTvehh",
        "colab": {
          "base_uri": "https://localhost:8080/"
        },
        "outputId": "bc58a2af-b506-4adf-e03d-b38d03c101b8"
      },
      "outputs": [
        {
          "output_type": "execute_result",
          "data": {
            "text/plain": [
              "[[\n",
              "   [\n",
              "     {\n",
              "       \"id\": 1,\n",
              "       \"text\": \"Lislaam\",\n",
              "       \"lemma\": \"Lislaam\",\n",
              "       \"upos\": \"PROPN\",\n",
              "       \"xpos\": \"NAME\",\n",
              "       \"head\": 4,\n",
              "       \"deprel\": \"nsubj\",\n",
              "       \"start_char\": 0,\n",
              "       \"end_char\": 7\n",
              "     },\n",
              "     {\n",
              "       \"id\": 2,\n",
              "       \"text\": \"a\",\n",
              "       \"lemma\": \"a\",\n",
              "       \"upos\": \"AUX\",\n",
              "       \"xpos\": \"AUX\",\n",
              "       \"feats\": \"PronType=Prs\",\n",
              "       \"head\": 4,\n",
              "       \"deprel\": \"aux\",\n",
              "       \"start_char\": 8,\n",
              "       \"end_char\": 9\n",
              "     },\n",
              "     {\n",
              "       \"id\": 3,\n",
              "       \"text\": \"ngi\",\n",
              "       \"lemma\": \"ngi\",\n",
              "       \"upos\": \"AUX\",\n",
              "       \"xpos\": \"AUX\",\n",
              "       \"feats\": \"Aspect=Prog\",\n",
              "       \"head\": 4,\n",
              "       \"deprel\": \"aux\",\n",
              "       \"start_char\": 10,\n",
              "       \"end_char\": 13\n",
              "     },\n",
              "     {\n",
              "       \"id\": 4,\n",
              "       \"text\": \"njëkk\",\n",
              "       \"lemma\": \"njëkk\",\n",
              "       \"upos\": \"VERB\",\n",
              "       \"xpos\": \"VERB\",\n",
              "       \"feats\": \"Mood=Ind|VerbForm=Fin\",\n",
              "       \"head\": 0,\n",
              "       \"deprel\": \"root\",\n",
              "       \"start_char\": 14,\n",
              "       \"end_char\": 19\n",
              "     },\n",
              "     {\n",
              "       \"id\": 5,\n",
              "       \"text\": \"a\",\n",
              "       \"lemma\": \"a\",\n",
              "       \"upos\": \"PART\",\n",
              "       \"xpos\": \"PART\",\n",
              "       \"head\": 6,\n",
              "       \"deprel\": \"mark\",\n",
              "       \"start_char\": 20,\n",
              "       \"end_char\": 21\n",
              "     },\n",
              "     {\n",
              "       \"id\": 6,\n",
              "       \"text\": \"tàbbi\",\n",
              "       \"lemma\": \"tàbbi\",\n",
              "       \"upos\": \"VERB\",\n",
              "       \"xpos\": \"VERB\",\n",
              "       \"feats\": \"VerbForm=Inf\",\n",
              "       \"head\": 4,\n",
              "       \"deprel\": \"xcomp\",\n",
              "       \"start_char\": 22,\n",
              "       \"end_char\": 27\n",
              "     },\n",
              "     {\n",
              "       \"id\": 7,\n",
              "       \"text\": \"ci\",\n",
              "       \"lemma\": \"ci\",\n",
              "       \"upos\": \"ADP\",\n",
              "       \"xpos\": \"PREP\",\n",
              "       \"head\": 8,\n",
              "       \"deprel\": \"case\",\n",
              "       \"start_char\": 28,\n",
              "       \"end_char\": 30\n",
              "     },\n",
              "     {\n",
              "       \"id\": 8,\n",
              "       \"text\": \"Senegaal\",\n",
              "       \"lemma\": \"Senegaal\",\n",
              "       \"upos\": \"PROPN\",\n",
              "       \"xpos\": \"NAME\",\n",
              "       \"head\": 6,\n",
              "       \"deprel\": \"obl\",\n",
              "       \"start_char\": 31,\n",
              "       \"end_char\": 39\n",
              "     },\n",
              "     {\n",
              "       \"id\": 9,\n",
              "       \"text\": \"ci\",\n",
              "       \"lemma\": \"ci\",\n",
              "       \"upos\": \"ADP\",\n",
              "       \"xpos\": \"PREP\",\n",
              "       \"head\": 12,\n",
              "       \"deprel\": \"case\",\n",
              "       \"start_char\": 40,\n",
              "       \"end_char\": 42\n",
              "     },\n",
              "     {\n",
              "       \"id\": 10,\n",
              "       \"text\": \"diggante\",\n",
              "       \"lemma\": \"diggante\",\n",
              "       \"upos\": \"NOUN\",\n",
              "       \"xpos\": \"NOUN\",\n",
              "       \"head\": 9,\n",
              "       \"deprel\": \"fixed\",\n",
              "       \"start_char\": 43,\n",
              "       \"end_char\": 51\n",
              "     },\n",
              "     {\n",
              "       \"id\": 11,\n",
              "       \"text\": \"VIIIeelu\",\n",
              "       \"lemma\": \"VIII\",\n",
              "       \"upos\": \"NUM\",\n",
              "       \"xpos\": \"NUMBER\",\n",
              "       \"feats\": \"NumType=Ord\",\n",
              "       \"head\": 12,\n",
              "       \"deprel\": \"nummod\",\n",
              "       \"start_char\": 52,\n",
              "       \"end_char\": 60\n",
              "     },\n",
              "     {\n",
              "       \"id\": 12,\n",
              "       \"text\": \"xarnu\",\n",
              "       \"lemma\": \"xarnu\",\n",
              "       \"upos\": \"NOUN\",\n",
              "       \"xpos\": \"NOUN\",\n",
              "       \"head\": 6,\n",
              "       \"deprel\": \"obl\",\n",
              "       \"start_char\": 61,\n",
              "       \"end_char\": 66\n",
              "     },\n",
              "     {\n",
              "       \"id\": 13,\n",
              "       \"text\": \"ak\",\n",
              "       \"lemma\": \"ak\",\n",
              "       \"upos\": \"CCONJ\",\n",
              "       \"xpos\": \"CONJ\",\n",
              "       \"head\": 14,\n",
              "       \"deprel\": \"cc\",\n",
              "       \"start_char\": 67,\n",
              "       \"end_char\": 69\n",
              "     },\n",
              "     {\n",
              "       \"id\": 14,\n",
              "       \"text\": \"IXeelu\",\n",
              "       \"lemma\": \"IX\",\n",
              "       \"upos\": \"NUM\",\n",
              "       \"xpos\": \"NUMBER\",\n",
              "       \"feats\": \"NumType=Ord\",\n",
              "       \"head\": 15,\n",
              "       \"deprel\": \"nummod\",\n",
              "       \"start_char\": 70,\n",
              "       \"end_char\": 76\n",
              "     },\n",
              "     {\n",
              "       \"id\": 15,\n",
              "       \"text\": \"xarnu\",\n",
              "       \"lemma\": \"xarnu\",\n",
              "       \"upos\": \"NOUN\",\n",
              "       \"xpos\": \"NOUN\",\n",
              "       \"head\": 12,\n",
              "       \"deprel\": \"conj\",\n",
              "       \"start_char\": 77,\n",
              "       \"end_char\": 82\n",
              "     },\n",
              "     {\n",
              "       \"id\": 16,\n",
              "       \"text\": \",\",\n",
              "       \"lemma\": \",\",\n",
              "       \"upos\": \"PUNCT\",\n",
              "       \"xpos\": \"COMMA\",\n",
              "       \"head\": 23,\n",
              "       \"deprel\": \"punct\",\n",
              "       \"start_char\": 82,\n",
              "       \"end_char\": 83\n",
              "     },\n",
              "     {\n",
              "       \"id\": 17,\n",
              "       \"text\": \"ña\",\n",
              "       \"lemma\": \"ba\",\n",
              "       \"upos\": \"PRON\",\n",
              "       \"xpos\": \"PRON\",\n",
              "       \"feats\": \"Definite=Def|Deixis=Remt|NounClass=Wol2|Number=Plur|Person=3|PronType=Rel\",\n",
              "       \"head\": 23,\n",
              "       \"deprel\": \"nsubj\",\n",
              "       \"start_char\": 84,\n",
              "       \"end_char\": 86\n",
              "     },\n",
              "     {\n",
              "       \"id\": 18,\n",
              "       \"text\": \"ko\",\n",
              "       \"lemma\": \"ko\",\n",
              "       \"upos\": \"PRON\",\n",
              "       \"xpos\": \"CL\",\n",
              "       \"feats\": \"Case=Acc|Number=Sing|Person=3|PronType=Prs\",\n",
              "       \"head\": 20,\n",
              "       \"deprel\": \"obj\",\n",
              "       \"start_char\": 87,\n",
              "       \"end_char\": 89\n",
              "     },\n",
              "     {\n",
              "       \"id\": 19,\n",
              "       \"text\": \"fa\",\n",
              "       \"lemma\": \"fa\",\n",
              "       \"upos\": \"ADV\",\n",
              "       \"xpos\": \"ADV\",\n",
              "       \"feats\": \"Deixis=Remt|NounClass=Wol11|PronType=Dem\",\n",
              "       \"head\": 20,\n",
              "       \"deprel\": \"advmod\",\n",
              "       \"start_char\": 90,\n",
              "       \"end_char\": 92\n",
              "     },\n",
              "     {\n",
              "       \"id\": 20,\n",
              "       \"text\": \"dugal\",\n",
              "       \"lemma\": \"dugal\",\n",
              "       \"upos\": \"VERB\",\n",
              "       \"xpos\": \"VERB\",\n",
              "       \"feats\": \"Mood=Ind|VerbForm=Fin\",\n",
              "       \"head\": 17,\n",
              "       \"deprel\": \"acl:relcl\",\n",
              "       \"start_char\": 93,\n",
              "       \"end_char\": 98\n",
              "     },\n",
              "     {\n",
              "       \"id\": 21,\n",
              "       \"text\": \"di\",\n",
              "       \"lemma\": \"di\",\n",
              "       \"upos\": \"AUX\",\n",
              "       \"xpos\": \"COP\",\n",
              "       \"feats\": \"Aspect=Imp|Mood=Ind|Tense=Pres|VerbForm=Fin\",\n",
              "       \"head\": 23,\n",
              "       \"deprel\": \"cop\",\n",
              "       \"start_char\": 99,\n",
              "       \"end_char\": 101\n",
              "     },\n",
              "     {\n",
              "       \"id\": 22,\n",
              "       \"text\": \"ay\",\n",
              "       \"lemma\": \"ab\",\n",
              "       \"upos\": \"DET\",\n",
              "       \"xpos\": \"DET\",\n",
              "       \"feats\": \"Definite=Ind|NounClass=Wol8|Number=Plur|PronType=Art\",\n",
              "       \"head\": 23,\n",
              "       \"deprel\": \"det\",\n",
              "       \"start_char\": 102,\n",
              "       \"end_char\": 104\n",
              "     },\n",
              "     {\n",
              "       \"id\": 23,\n",
              "       \"text\": \"yaxantukat\",\n",
              "       \"lemma\": \"yaxantukat\",\n",
              "       \"upos\": \"NOUN\",\n",
              "       \"xpos\": \"NOUN\",\n",
              "       \"head\": 4,\n",
              "       \"deprel\": \"conj\",\n",
              "       \"start_char\": 105,\n",
              "       \"end_char\": 115\n",
              "     },\n",
              "     {\n",
              "       \"id\": 24,\n",
              "       \"text\": \"yu\",\n",
              "       \"lemma\": \"yu\",\n",
              "       \"upos\": \"ADP\",\n",
              "       \"xpos\": \"PREP\",\n",
              "       \"head\": 25,\n",
              "       \"deprel\": \"case\",\n",
              "       \"start_char\": 116,\n",
              "       \"end_char\": 118\n",
              "     },\n",
              "     {\n",
              "       \"id\": 25,\n",
              "       \"text\": \"araab-yu-berber\",\n",
              "       \"lemma\": \"araab-yu-berber\",\n",
              "       \"upos\": \"NOUN\",\n",
              "       \"xpos\": \"NOUN\",\n",
              "       \"head\": 23,\n",
              "       \"deprel\": \"nmod\",\n",
              "       \"start_char\": 119,\n",
              "       \"end_char\": 134\n",
              "     },\n",
              "     {\n",
              "       \"id\": 26,\n",
              "       \"text\": \".\",\n",
              "       \"lemma\": \".\",\n",
              "       \"upos\": \"PUNCT\",\n",
              "       \"xpos\": \"PERIOD\",\n",
              "       \"head\": 4,\n",
              "       \"deprel\": \"punct\",\n",
              "       \"start_char\": 134,\n",
              "       \"end_char\": 135\n",
              "     }\n",
              "   ]\n",
              " ],\n",
              " [\n",
              "   [\n",
              "     {\n",
              "       \"id\": 1,\n",
              "       \"text\": \"Li\",\n",
              "       \"lemma\": \"bi\",\n",
              "       \"upos\": \"PRON\",\n",
              "       \"xpos\": \"PRON\",\n",
              "       \"feats\": \"Definite=Def|Deixis=Prox|NounClass=Wol7|Number=Sing|Person=3|PronType=Rel\",\n",
              "       \"head\": 19,\n",
              "       \"deprel\": \"dislocated\",\n",
              "       \"start_char\": 0,\n",
              "       \"end_char\": 2\n",
              "     },\n",
              "     {\n",
              "       \"id\": 2,\n",
              "       \"text\": \"ëpp\",\n",
              "       \"lemma\": \"ëpp\",\n",
              "       \"upos\": \"VERB\",\n",
              "       \"xpos\": \"VERB\",\n",
              "       \"feats\": \"Mood=Ind|VerbForm=Fin\",\n",
              "       \"head\": 1,\n",
              "       \"deprel\": \"acl:relcl\",\n",
              "       \"start_char\": 3,\n",
              "       \"end_char\": 6\n",
              "     },\n",
              "     {\n",
              "       \"id\": 3,\n",
              "       \"text\": \"ci\",\n",
              "       \"lemma\": \"ci\",\n",
              "       \"upos\": \"ADP\",\n",
              "       \"xpos\": \"PREP\",\n",
              "       \"head\": 4,\n",
              "       \"deprel\": \"case\",\n",
              "       \"start_char\": 7,\n",
              "       \"end_char\": 9\n",
              "     },\n",
              "     {\n",
              "       \"id\": 4,\n",
              "       \"text\": \"gëstu\",\n",
              "       \"lemma\": \"gëstu\",\n",
              "       \"upos\": \"NOUN\",\n",
              "       \"xpos\": \"NOUN\",\n",
              "       \"head\": 2,\n",
              "       \"deprel\": \"obl\",\n",
              "       \"start_char\": 10,\n",
              "       \"end_char\": 15\n",
              "     },\n",
              "     {\n",
              "       \"id\": 5,\n",
              "       \"text\": \"yi\",\n",
              "       \"lemma\": \"bi\",\n",
              "       \"upos\": \"PRON\",\n",
              "       \"xpos\": \"PRON\",\n",
              "       \"feats\": \"Definite=Def|Deixis=Prox|NounClass=Wol8|Number=Plur|Person=3|PronType=Rel\",\n",
              "       \"head\": 7,\n",
              "       \"deprel\": \"obj\",\n",
              "       \"start_char\": 16,\n",
              "       \"end_char\": 18\n",
              "     },\n",
              "     {\n",
              "       \"id\": 6,\n",
              "       \"text\": \"ñu\",\n",
              "       \"lemma\": \"mu\",\n",
              "       \"upos\": \"PRON\",\n",
              "       \"xpos\": \"PRON\",\n",
              "       \"feats\": \"Case=Nom|Number=Plur|Person=3|PronType=Prs\",\n",
              "       \"head\": 7,\n",
              "       \"deprel\": \"nsubj\",\n",
              "       \"start_char\": 19,\n",
              "       \"end_char\": 21\n",
              "     },\n",
              "     {\n",
              "       \"id\": 7,\n",
              "       \"text\": \"def\",\n",
              "       \"lemma\": \"def\",\n",
              "       \"upos\": \"VERB\",\n",
              "       \"xpos\": \"VERB\",\n",
              "       \"feats\": \"Mood=Ind|VerbForm=Fin\",\n",
              "       \"head\": 4,\n",
              "       \"deprel\": \"acl:relcl\",\n",
              "       \"start_char\": 22,\n",
              "       \"end_char\": 25\n",
              "     },\n",
              "     {\n",
              "       \"id\": 8,\n",
              "       \"text\": \"ci\",\n",
              "       \"lemma\": \"ci\",\n",
              "       \"upos\": \"ADP\",\n",
              "       \"xpos\": \"PREP\",\n",
              "       \"head\": 9,\n",
              "       \"deprel\": \"case\",\n",
              "       \"start_char\": 26,\n",
              "       \"end_char\": 28\n",
              "     },\n",
              "     {\n",
              "       \"id\": 9,\n",
              "       \"text\": \"wàllug\",\n",
              "       \"lemma\": \"wàll\",\n",
              "       \"upos\": \"NOUN\",\n",
              "       \"xpos\": \"NOUN\",\n",
              "       \"feats\": \"Case=Gen|Number=Sing\",\n",
              "       \"head\": 7,\n",
              "       \"deprel\": \"obl\",\n",
              "       \"start_char\": 29,\n",
              "       \"end_char\": 35\n",
              "     },\n",
              "     {\n",
              "       \"id\": 10,\n",
              "       \"text\": \"Gëstu-askan\",\n",
              "       \"lemma\": \"Gëstu-askan\",\n",
              "       \"upos\": \"PROPN\",\n",
              "       \"xpos\": \"NAME\",\n",
              "       \"head\": 9,\n",
              "       \"deprel\": \"nmod\",\n",
              "       \"start_char\": 36,\n",
              "       \"end_char\": 47\n",
              "     },\n",
              "     {\n",
              "       \"id\": 11,\n",
              "       \"text\": \"(\",\n",
              "       \"lemma\": \"(\",\n",
              "       \"upos\": \"PUNCT\",\n",
              "       \"xpos\": \"PAREN\",\n",
              "       \"head\": 13,\n",
              "       \"deprel\": \"punct\",\n",
              "       \"start_char\": 48,\n",
              "       \"end_char\": 49\n",
              "     },\n",
              "     {\n",
              "       \"id\": 12,\n",
              "       \"text\": \"walla\",\n",
              "       \"lemma\": \"walla\",\n",
              "       \"upos\": \"CCONJ\",\n",
              "       \"xpos\": \"CONJ\",\n",
              "       \"head\": 13,\n",
              "       \"deprel\": \"cc\",\n",
              "       \"start_char\": 49,\n",
              "       \"end_char\": 54\n",
              "     },\n",
              "     {\n",
              "       \"id\": 13,\n",
              "       \"text\": \"demogaraafi\",\n",
              "       \"lemma\": \"demogaraafi\",\n",
              "       \"upos\": \"NOUN\",\n",
              "       \"xpos\": \"NOUN\",\n",
              "       \"feats\": \"Case=Gen|Number=Plur\",\n",
              "       \"head\": 9,\n",
              "       \"deprel\": \"conj\",\n",
              "       \"start_char\": 55,\n",
              "       \"end_char\": 66\n",
              "     },\n",
              "     {\n",
              "       \"id\": 14,\n",
              "       \"text\": \")\",\n",
              "       \"lemma\": \")\",\n",
              "       \"upos\": \"PUNCT\",\n",
              "       \"xpos\": \"PAREN\",\n",
              "       \"head\": 13,\n",
              "       \"deprel\": \"punct\",\n",
              "       \"start_char\": 66,\n",
              "       \"end_char\": 67\n",
              "     },\n",
              "     {\n",
              "       \"id\": 15,\n",
              "       \"text\": \"ci\",\n",
              "       \"lemma\": \"ci\",\n",
              "       \"upos\": \"ADP\",\n",
              "       \"xpos\": \"PREP\",\n",
              "       \"head\": 16,\n",
              "       \"deprel\": \"case\",\n",
              "       \"start_char\": 68,\n",
              "       \"end_char\": 70\n",
              "     },\n",
              "     {\n",
              "       \"id\": 16,\n",
              "       \"text\": \"Senegaal\",\n",
              "       \"lemma\": \"Senegaal\",\n",
              "       \"upos\": \"PROPN\",\n",
              "       \"xpos\": \"NAME\",\n",
              "       \"head\": 13,\n",
              "       \"deprel\": \"nmod\",\n",
              "       \"start_char\": 71,\n",
              "       \"end_char\": 79\n",
              "     },\n",
              "     {\n",
              "       \"id\": [\n",
              "         17,\n",
              "         18\n",
              "       ],\n",
              "       \"text\": \"dafa\",\n",
              "       \"start_char\": 80,\n",
              "       \"end_char\": 84\n",
              "     },\n",
              "     {\n",
              "       \"id\": 17,\n",
              "       \"text\": \"da\",\n",
              "       \"lemma\": \"da\",\n",
              "       \"upos\": \"AUX\",\n",
              "       \"xpos\": \"INFL\",\n",
              "       \"feats\": \"FocusType=Verb|Mood=Ind\",\n",
              "       \"head\": 19,\n",
              "       \"deprel\": \"aux\"\n",
              "     },\n",
              "     {\n",
              "       \"id\": 18,\n",
              "       \"text\": \"mu\",\n",
              "       \"lemma\": \"mu\",\n",
              "       \"upos\": \"PRON\",\n",
              "       \"xpos\": \"PRON\",\n",
              "       \"feats\": \"Case=Nom|Number=Sing|Person=3|PronType=Prs\",\n",
              "       \"head\": 19,\n",
              "       \"deprel\": \"nsubj\"\n",
              "     },\n",
              "     {\n",
              "       \"id\": 19,\n",
              "       \"text\": \"sukkandiku\",\n",
              "       \"lemma\": \"sukkandiku\",\n",
              "       \"upos\": \"VERB\",\n",
              "       \"xpos\": \"VERB\",\n",
              "       \"feats\": \"Mood=Ind|VerbForm=Fin\",\n",
              "       \"head\": 0,\n",
              "       \"deprel\": \"root\",\n",
              "       \"start_char\": 85,\n",
              "       \"end_char\": 95\n",
              "     },\n",
              "     {\n",
              "       \"id\": 20,\n",
              "       \"text\": \"ci\",\n",
              "       \"lemma\": \"ci\",\n",
              "       \"upos\": \"ADP\",\n",
              "       \"xpos\": \"PREP\",\n",
              "       \"head\": 21,\n",
              "       \"deprel\": \"case\",\n",
              "       \"start_char\": 96,\n",
              "       \"end_char\": 98\n",
              "     },\n",
              "     {\n",
              "       \"id\": 21,\n",
              "       \"text\": \"Waññ\",\n",
              "       \"lemma\": \"waññ\",\n",
              "       \"upos\": \"NOUN\",\n",
              "       \"xpos\": \"NOUN\",\n",
              "       \"head\": 19,\n",
              "       \"deprel\": \"obl:appl\",\n",
              "       \"start_char\": 99,\n",
              "       \"end_char\": 103\n",
              "     },\n",
              "     {\n",
              "       \"id\": 22,\n",
              "       \"text\": \"(\",\n",
              "       \"lemma\": \"(\",\n",
              "       \"upos\": \"PUNCT\",\n",
              "       \"xpos\": \"PAREN\",\n",
              "       \"head\": 23,\n",
              "       \"deprel\": \"punct\",\n",
              "       \"start_char\": 104,\n",
              "       \"end_char\": 105\n",
              "     },\n",
              "     {\n",
              "       \"id\": 23,\n",
              "       \"text\": \"recensement\",\n",
              "       \"lemma\": \"recensement\",\n",
              "       \"upos\": \"NOUN\",\n",
              "       \"xpos\": \"NOUN\",\n",
              "       \"head\": 21,\n",
              "       \"deprel\": \"appos\",\n",
              "       \"start_char\": 105,\n",
              "       \"end_char\": 116\n",
              "     },\n",
              "     {\n",
              "       \"id\": 24,\n",
              "       \"text\": \")\",\n",
              "       \"lemma\": \")\",\n",
              "       \"upos\": \"PUNCT\",\n",
              "       \"xpos\": \"PAREN\",\n",
              "       \"head\": 23,\n",
              "       \"deprel\": \"punct\",\n",
              "       \"start_char\": 116,\n",
              "       \"end_char\": 117\n",
              "     },\n",
              "     {\n",
              "       \"id\": 25,\n",
              "       \"text\": \"yi\",\n",
              "       \"lemma\": \"bi\",\n",
              "       \"upos\": \"PRON\",\n",
              "       \"xpos\": \"PRON\",\n",
              "       \"feats\": \"Definite=Def|Deixis=Prox|NounClass=Wol8|Number=Plur|Person=3|PronType=Rel\",\n",
              "       \"head\": 27,\n",
              "       \"deprel\": \"obj\",\n",
              "       \"start_char\": 118,\n",
              "       \"end_char\": 120\n",
              "     },\n",
              "     {\n",
              "       \"id\": 26,\n",
              "       \"text\": \"ñu\",\n",
              "       \"lemma\": \"mu\",\n",
              "       \"upos\": \"PRON\",\n",
              "       \"xpos\": \"PRON\",\n",
              "       \"feats\": \"Case=Nom|Number=Plur|Person=3|PronType=Prs\",\n",
              "       \"head\": 27,\n",
              "       \"deprel\": \"nsubj\",\n",
              "       \"start_char\": 121,\n",
              "       \"end_char\": 123\n",
              "     },\n",
              "     {\n",
              "       \"id\": 27,\n",
              "       \"text\": \"jotoon\",\n",
              "       \"lemma\": \"jot\",\n",
              "       \"upos\": \"VERB\",\n",
              "       \"xpos\": \"VERB\",\n",
              "       \"feats\": \"Mood=Ind|Tense=Past|VerbForm=Fin\",\n",
              "       \"head\": 21,\n",
              "       \"deprel\": \"acl:relcl\",\n",
              "       \"start_char\": 124,\n",
              "       \"end_char\": 130\n",
              "     },\n",
              "     {\n",
              "       \"id\": 28,\n",
              "       \"text\": \"a\",\n",
              "       \"lemma\": \"a\",\n",
              "       \"upos\": \"PART\",\n",
              "       \"xpos\": \"PART\",\n",
              "       \"head\": 29,\n",
              "       \"deprel\": \"mark\",\n",
              "       \"start_char\": 131,\n",
              "       \"end_char\": 132\n",
              "     },\n",
              "     {\n",
              "       \"id\": 29,\n",
              "       \"text\": \"def\",\n",
              "       \"lemma\": \"def\",\n",
              "       \"upos\": \"VERB\",\n",
              "       \"xpos\": \"VERB\",\n",
              "       \"feats\": \"VerbForm=Inf\",\n",
              "       \"head\": 27,\n",
              "       \"deprel\": \"xcomp\",\n",
              "       \"start_char\": 133,\n",
              "       \"end_char\": 136\n",
              "     },\n",
              "     {\n",
              "       \"id\": 30,\n",
              "       \"text\": \"ci\",\n",
              "       \"lemma\": \"ci\",\n",
              "       \"upos\": \"ADP\",\n",
              "       \"xpos\": \"PREP\",\n",
              "       \"head\": 31,\n",
              "       \"deprel\": \"case\",\n",
              "       \"start_char\": 137,\n",
              "       \"end_char\": 139\n",
              "     },\n",
              "     {\n",
              "       \"id\": 31,\n",
              "       \"text\": \"1976\",\n",
              "       \"lemma\": \"1976\",\n",
              "       \"upos\": \"NUM\",\n",
              "       \"xpos\": \"NUMBER\",\n",
              "       \"feats\": \"NumType=Card\",\n",
              "       \"head\": 29,\n",
              "       \"deprel\": \"obl\",\n",
              "       \"start_char\": 140,\n",
              "       \"end_char\": 144\n",
              "     },\n",
              "     {\n",
              "       \"id\": 32,\n",
              "       \"text\": \",\",\n",
              "       \"lemma\": \",\",\n",
              "       \"upos\": \"PUNCT\",\n",
              "       \"xpos\": \"COMMA\",\n",
              "       \"head\": 34,\n",
              "       \"deprel\": \"punct\",\n",
              "       \"start_char\": 144,\n",
              "       \"end_char\": 145\n",
              "     },\n",
              "     {\n",
              "       \"id\": 33,\n",
              "       \"text\": \"1988\",\n",
              "       \"lemma\": \"1988\",\n",
              "       \"upos\": \"NUM\",\n",
              "       \"xpos\": \"NUMBER\",\n",
              "       \"feats\": \"NumType=Card\",\n",
              "       \"head\": 34,\n",
              "       \"deprel\": \"discourse\",\n",
              "       \"start_char\": 146,\n",
              "       \"end_char\": 150\n",
              "     },\n",
              "     {\n",
              "       \"id\": 34,\n",
              "       \"text\": \"rawati\",\n",
              "       \"lemma\": \"rawati\",\n",
              "       \"upos\": \"VERB\",\n",
              "       \"xpos\": \"VERB\",\n",
              "       \"feats\": \"Mood=Ind|VerbForm=Fin\",\n",
              "       \"head\": 19,\n",
              "       \"deprel\": \"parataxis\",\n",
              "       \"start_char\": 151,\n",
              "       \"end_char\": 157\n",
              "     },\n",
              "     {\n",
              "       \"id\": 35,\n",
              "       \"text\": \"na\",\n",
              "       \"lemma\": \"na\",\n",
              "       \"upos\": \"AUX\",\n",
              "       \"xpos\": \"INFL\",\n",
              "       \"feats\": \"Aspect=Perf|Mood=Ind|Number=Sing|Person=3\",\n",
              "       \"head\": 34,\n",
              "       \"deprel\": \"aux\",\n",
              "       \"start_char\": 158,\n",
              "       \"end_char\": 160\n",
              "     },\n",
              "     {\n",
              "       \"id\": 36,\n",
              "       \"text\": \"2002\",\n",
              "       \"lemma\": \"2002\",\n",
              "       \"upos\": \"NUM\",\n",
              "       \"xpos\": \"NUMBER\",\n",
              "       \"feats\": \"NumType=Card\",\n",
              "       \"head\": 34,\n",
              "       \"deprel\": \"obj\",\n",
              "       \"start_char\": 161,\n",
              "       \"end_char\": 165\n",
              "     },\n",
              "     {\n",
              "       \"id\": 37,\n",
              "       \"text\": \".\",\n",
              "       \"lemma\": \".\",\n",
              "       \"upos\": \"PUNCT\",\n",
              "       \"xpos\": \"PERIOD\",\n",
              "       \"head\": 19,\n",
              "       \"deprel\": \"punct\",\n",
              "       \"start_char\": 165,\n",
              "       \"end_char\": 166\n",
              "     }\n",
              "   ]\n",
              " ]]"
            ]
          },
          "metadata": {},
          "execution_count": 22
        }
      ],
      "source": [
        "# Pass the list of Document objects to the language model 'nlp_wo'\n",
        "# for annotation.\n",
        "docs_wo_out = nlp_wo(docs_wo_in)\n",
        "\n",
        "# Call the variable to check the output\n",
        "docs_wo_out"
      ]
    },
    {
      "cell_type": "markdown",
      "metadata": {
        "id": "WAVxm2h7vehi"
      },
      "source": [
        "As you can see, passing the *Document* objects to the language model populates them with linguistic annotations, which can be then explored as introduced [above](#Processing-text-using-Stanza)."
      ]
    },
    {
      "cell_type": "markdown",
      "metadata": {
        "id": "Ri-8fKT0vehi"
      },
      "source": [
        "## Interfacing Stanza with spaCy"
      ]
    },
    {
      "cell_type": "code",
      "execution_count": null,
      "metadata": {
        "tags": [
          "remove-input"
        ],
        "id": "mINofYRCvehi",
        "colab": {
          "base_uri": "https://localhost:8080/",
          "height": 371
        },
        "outputId": "6359a000-8d7b-4e61-d584-135a60c219e8"
      },
      "outputs": [
        {
          "output_type": "execute_result",
          "data": {
            "text/plain": [
              "<IPython.lib.display.YouTubeVideo at 0x7d72c7a48a10>"
            ],
            "text/html": [
              "\n",
              "        <iframe\n",
              "            width=\"600\"\n",
              "            height=\"350\"\n",
              "            src=\"https://www.youtube.com/embed/Yqy7I7c7EXc\"\n",
              "            frameborder=\"0\"\n",
              "            allowfullscreen\n",
              "            \n",
              "        ></iframe>\n",
              "        "
            ],
            "image/jpeg": "[encoded data removed]"
          },
          "metadata": {},
          "execution_count": 23
        }
      ],
      "source": [
        "# Run this cell to view a YouTube video related to this topic\n",
        "from IPython.display import YouTubeVideo\n",
        "YouTubeVideo('Yqy7I7c7EXc', height=350, width=600)"
      ]
    },
    {
      "cell_type": "code",
      "source": [
        "#!pip install torch==2.0.1 stanza==1.4.2 spacy==3.7.2 spacy-stanza==1.0.2"
      ],
      "metadata": {
        "id": "dT6Swb10ARFC"
      },
      "execution_count": null,
      "outputs": []
    },
    {
      "cell_type": "markdown",
      "metadata": {
        "id": "qGsjE6Fvvehi"
      },
      "source": [
        "If you are more familiar with the spaCy library for natural language processing, whose use was covered extensively in [Part II](../part_ii/03_basic_nlp.ipynb), then you will be happy to know that you can also use some of the Stanza language models in spaCy!\n",
        "\n",
        "This can be achieved using a Python library named [spacy-stanza](https://spacy.io/universe/project/spacy-stanza), which interfaces the two libraries.\n",
        "\n",
        "Given that Stanza currently has more pre-trained language models available than spaCy, the spacy-stanza library considerably increases the number of language models available for spaCy.\n",
        "\n",
        "There is, however, **one major limitation**: the language in question must be supported by both [Stanza](https://stanfordnlp.github.io/stanza/available_models.html) and [spaCy](https://spacy.io/usage/models#languages).\n",
        "\n",
        "For example, we cannot use the Stanza language model for Wolof in spaCy, because spaCy does not support the Wolof language.\n",
        "\n",
        "To start using Stanza language models in spaCy, let's start by importing the spacy-stanza library (module name: `spacy_stanza`)."
      ]
    },
    {
      "cell_type": "code",
      "execution_count": null,
      "metadata": {
        "id": "5fDbm5xLvehi"
      },
      "outputs": [],
      "source": [
        "# Import the spaCy and spacy-stanza libraries\n",
        "import spacy\n",
        "import spacy_stanza"
      ]
    },
    {
      "cell_type": "code",
      "source": [
        "import stanza"
      ],
      "metadata": {
        "id": "8P34m5BSBF-O"
      },
      "execution_count": null,
      "outputs": []
    },
    {
      "cell_type": "markdown",
      "metadata": {
        "id": "W5LG2Qdevehi"
      },
      "source": [
        "This imports both spaCy and spacy-stanza libraries into Python. To continue, we must ensure that we have the Stanza language model for Finnish available as well.\n",
        "\n",
        "As shown above, this model can be downloaded using the following command:\n",
        "\n",
        "```python\n",
        "# Download a Stanza language model for Finnish\n",
        "stanza.download(lang='fi')\n",
        "```"
      ]
    },
    {
      "cell_type": "markdown",
      "metadata": {
        "tags": [
          "remove-cell"
        ],
        "id": "GhiCHi5tvehi"
      },
      "source": [
        "Just as with the language model for Wolof above, we download the Stanza language model into the permanent storage on the CSC server.\n",
        "\n",
        "To do so, provide a string object that points towards the directory `../stanza_models` to the argument `model_dir` of the `download()` function."
      ]
    },
    {
      "cell_type": "code",
      "execution_count": null,
      "metadata": {
        "tags": [
          "remove-cell"
        ],
        "id": "uZP6swDgvehj"
      },
      "outputs": [],
      "source": [
        "# Download a Stanza language model for Finnish into the directory '../stanza_models'\n",
        "stanza.download(lang='fi')"
      ]
    },
    {
      "cell_type": "markdown",
      "metadata": {
        "id": "ZG9tbLA1vehj"
      },
      "source": [
        "Because spaCy supports [the Finnish language](https://spacy.io/usage/models#languages), we can load Stanza language models for Finnish into spaCy using the spacy-stanza library.\n",
        "\n",
        "This can be achieved using the `load_pipeline()` function available under the `spacy_stanza` module.\n",
        "\n",
        "To load Stanza language model for a given language, you must provide the two-letter code for the language in question (e.g. `fi`) to the argument `name`:\n",
        "\n",
        "```python\n",
        "# Load a Stanza language model for Finnish into spaCy\n",
        "nlp_fi = spacy_stanza.load_pipeline(name='fi')\n",
        "```"
      ]
    },
    {
      "cell_type": "markdown",
      "metadata": {
        "tags": [
          "remove-cell"
        ],
        "id": "c3AHDlGXvehj"
      },
      "source": [
        "Because we did not download the Stanza language models into the default directory, we must also provide the optional argument `dir` to the `load_pipeline()` function.\n",
        "\n",
        "The `dir` argument takes a string object as its input, which must point to the directory that contains Stanza language models."
      ]
    },
    {
      "cell_type": "code",
      "execution_count": null,
      "metadata": {
        "tags": [
          "remove-cell"
        ],
        "id": "zKz9xZQfvehj"
      },
      "outputs": [],
      "source": [
        "# Use the load_pipeline function to load a Stanza model into spaCy.\n",
        "# Assign the result under the variable 'nlp'.\n",
        "nlp_fi = spacy_stanza.load_pipeline(name='fi')#, dir='../stanza_models')"
      ]
    },
    {
      "cell_type": "markdown",
      "metadata": {
        "id": "QKXOuo0Tvehj"
      },
      "source": [
        "If we examine the resulting object under the variable `nlp_fi` using Python's `type()` function, we will see that the object is indeed a spaCy *Language* object."
      ]
    },
    {
      "cell_type": "code",
      "execution_count": null,
      "metadata": {
        "id": "AaSKZwVBvehj",
        "colab": {
          "base_uri": "https://localhost:8080/",
          "height": 204
        },
        "outputId": "a397ebe8-04d0-442e-d6a0-fb8739599a9d"
      },
      "outputs": [
        {
          "output_type": "execute_result",
          "data": {
            "text/plain": [
              "spacy.lang.fi.Finnish"
            ],
            "text/html": [
              "<div style=\"max-width:800px; border: 1px solid var(--colab-border-color);\"><style>\n",
              "      pre.function-repr-contents {\n",
              "        overflow-x: auto;\n",
              "        padding: 8px 12px;\n",
              "        max-height: 500px;\n",
              "      }\n",
              "\n",
              "      pre.function-repr-contents.function-repr-contents-collapsed {\n",
              "        cursor: pointer;\n",
              "        max-height: 100px;\n",
              "      }\n",
              "    </style>\n",
              "    <pre style=\"white-space: initial; background:\n",
              "         var(--colab-secondary-surface-color); padding: 8px 12px;\n",
              "         border-bottom: 1px solid var(--colab-border-color);\"><b>spacy.lang.fi.Finnish</b><br/>def __call__(text: Union[str, Doc], *, disable: Iterable[str]=SimpleFrozenList(), component_cfg: Optional[Dict[str, Dict[str, Any]]]=None) -&gt; Doc</pre><pre class=\"function-repr-contents function-repr-contents-collapsed\" style=\"\"><a class=\"filepath\" style=\"display:none\" href=\"#\">/usr/local/lib/python3.11/dist-packages/spacy/lang/fi/__init__.py</a>A text-processing pipeline. Usually you&#x27;ll load this once per process,\n",
              "and pass the instance around your application.\n",
              "\n",
              "Defaults (class): Settings, data and factory methods for creating the `nlp`\n",
              "    object and processing pipeline.\n",
              "lang (str): IETF language code, such as &#x27;en&#x27;.\n",
              "\n",
              "DOCS: https://spacy.io/api/language</pre>\n",
              "      <script>\n",
              "      if (google.colab.kernel.accessAllowed && google.colab.files && google.colab.files.view) {\n",
              "        for (const element of document.querySelectorAll('.filepath')) {\n",
              "          element.style.display = 'block'\n",
              "          element.onclick = (event) => {\n",
              "            event.preventDefault();\n",
              "            event.stopPropagation();\n",
              "            google.colab.files.view(element.textContent, 18);\n",
              "          };\n",
              "        }\n",
              "      }\n",
              "      for (const element of document.querySelectorAll('.function-repr-contents')) {\n",
              "        element.onclick = (event) => {\n",
              "          event.preventDefault();\n",
              "          event.stopPropagation();\n",
              "          element.classList.toggle('function-repr-contents-collapsed');\n",
              "        };\n",
              "      }\n",
              "      </script>\n",
              "      </div>"
            ]
          },
          "metadata": {},
          "execution_count": 29
        }
      ],
      "source": [
        "# Check the type of the object under 'nlp_fi'\n",
        "type(nlp_fi)"
      ]
    },
    {
      "cell_type": "markdown",
      "metadata": {
        "id": "boWmUcetvehk"
      },
      "source": [
        "Generally, this object behaves just like any other spaCy *Language* object that we learned to use in [Part II](../part_ii/03_basic_nlp.ipynb#Performing-basic-NLP-tasks-using-spaCy).\n",
        "\n",
        "We can explore its use by processing a few sentences from a recent [news article](https://yle.fi/aihe/artikkeli/2021/03/08/yleiso-aanesti-tarja-halonen-on-inspiroivin-nainen-karkikolmikkoon-ylsivat-myos) in written Finnish.\n",
        "\n",
        "We feed the text as a string object to the *Language* object under `nlp_fi` and store the result under the variable `doc_fi`."
      ]
    },
    {
      "cell_type": "code",
      "execution_count": null,
      "metadata": {
        "id": "jZzPG0cAvehk"
      },
      "outputs": [],
      "source": [
        "# Feed the text to the language model under 'nlp_fi', store result under 'doc_fi'\n",
        "doc_fi = nlp_fi('Tove Jansson keräsi 148 ääntä eli 18,2% annetuista äänistä. Kirjailija, kuvataiteilija ja pilapiirtäjä tuli kansainvälisesti tunnetuksi satukirjoistaan ja sarjakuvistaan.')"
      ]
    },
    {
      "cell_type": "markdown",
      "metadata": {
        "id": "8ApKZa-Cvehk"
      },
      "source": [
        "Let's continue by retrieving sentences from the *Doc* object, which are available under the attribute `sents`, as we learned in [Part II](../part_ii/03_basic_nlp.ipynb#Sentence-segmentation).\n",
        "\n",
        "The object available under the `sents` attribute is a Python generator that yields *Doc* objects.\n",
        "\n",
        "To examine them, we must catch the objects into a suitable data structure. In this case, the data structure that best fits our needs is a Python list.\n",
        "\n",
        "Hence we cast the output from the generator object under `sents` into a list using the `list()` function."
      ]
    },
    {
      "cell_type": "code",
      "execution_count": null,
      "metadata": {
        "id": "GtT2rKEYvehk",
        "colab": {
          "base_uri": "https://localhost:8080/"
        },
        "outputId": "27cce4c1-36be-4d0f-9c36-b45984f6b3d9"
      },
      "outputs": [
        {
          "output_type": "execute_result",
          "data": {
            "text/plain": [
              "[Tove Jansson keräsi 148 ääntä eli 18,2% annetuista äänistä.,\n",
              " Kirjailija, kuvataiteilija ja pilapiirtäjä tuli kansainvälisesti tunnetuksi satukirjoistaan ja sarjakuvistaan.]"
            ]
          },
          "metadata": {},
          "execution_count": 31
        }
      ],
      "source": [
        "# Get sentences contained in the Doc object 'doc_fi'.\n",
        "# Cast the result into list.\n",
        "sents_fi = list(doc_fi.sents)\n",
        "\n",
        "# Call the variable to check the output\n",
        "sents_fi"
      ]
    },
    {
      "cell_type": "markdown",
      "metadata": {
        "id": "qEa0DI3Ovehk"
      },
      "source": [
        "We can also use spaCy's `displacy` submodule to visualise the syntactic dependencies.\n",
        "\n",
        "To do so for the first sentence under `sents_fi`, we must first access the first item in the list using brackets `[0]` as usual.\n",
        "\n",
        "Let's start by checking the type of this object."
      ]
    },
    {
      "cell_type": "code",
      "execution_count": null,
      "metadata": {
        "id": "kDRnDPOfvehk",
        "colab": {
          "base_uri": "https://localhost:8080/"
        },
        "outputId": "7a21ca0d-5f20-4a47-9461-2110e3ab489e"
      },
      "outputs": [
        {
          "output_type": "execute_result",
          "data": {
            "text/plain": [
              "spacy.tokens.span.Span"
            ]
          },
          "metadata": {},
          "execution_count": 32
        }
      ],
      "source": [
        "# Check the type of the first item in the list 'sents_fi'\n",
        "type(sents_fi[0])"
      ]
    },
    {
      "cell_type": "markdown",
      "metadata": {
        "id": "XQCZ1LlGvehk"
      },
      "source": [
        "As you can see, the result is a spaCy *Span* object, which is a sequence of *Token* objects contained within a *Doc* object.\n",
        "\n",
        "We can then call the `render` function from the `displacy` submodule to visualise the syntactic dependencies for the *Span* object under `sents_fi[0]`."
      ]
    },
    {
      "cell_type": "code",
      "execution_count": null,
      "metadata": {
        "id": "rvNbJuBhvehl",
        "colab": {
          "base_uri": "https://localhost:8080/",
          "height": 109
        },
        "outputId": "238ba238-715b-4ea0-e336-7c5a5ab6bfbe"
      },
      "outputs": [
        {
          "output_type": "execute_result",
          "data": {
            "text/plain": [
              "'<svg xmlns=\"http://www.w3.org/2000/svg\" xmlns:xlink=\"http://www.w3.org/1999/xlink\" xml:lang=\"fi\" id=\"7d6997d737ab40a1ac099a611b3754e8-0\" class=\"displacy\" width=\"1625\" height=\"312.0\" direction=\"ltr\" style=\"max-width: none; height: 312.0px; color: #000000; background: #ffffff; font-family: Arial; direction: ltr\">\\n<text class=\"displacy-token\" fill=\"currentColor\" text-anchor=\"middle\" y=\"222.0\">\\n    <tspan class=\"displacy-word\" fill=\"currentColor\" x=\"50\">Tove</tspan>\\n    <tspan class=\"displacy-tag\" dy=\"2em\" fill=\"currentColor\" x=\"50\">PROPN</tspan>\\n</text>\\n\\n<text class=\"displacy-token\" fill=\"currentColor\" text-anchor=\"middle\" y=\"222.0\">\\n    <tspan class=\"displacy-word\" fill=\"currentColor\" x=\"225\">Jansson</tspan>\\n    <tspan class=\"displacy-tag\" dy=\"2em\" fill=\"currentColor\" x=\"225\">PROPN</tspan>\\n</text>\\n\\n<text class=\"displacy-token\" fill=\"currentColor\" text-anchor=\"middle\" y=\"222.0\">\\n    <tspan class=\"displacy-word\" fill=\"currentColor\" x=\"400\">keräsi</tspan>\\n    <tspan class=\"displacy-tag\" dy=\"2em\" fill=\"currentColor\" x=\"400\">VERB</tspan>\\n</text>\\n\\n<text class=\"displacy-token\" fill=\"currentColor\" text-anchor=\"middle\" y=\"222.0\">\\n    <tspan class=\"displacy-word\" fill=\"currentColor\" x=\"575\">148</tspan>\\n    <tspan class=\"displacy-tag\" dy=\"2em\" fill=\"currentColor\" x=\"575\">NUM</tspan>\\n</text>\\n\\n<text class=\"displacy-token\" fill=\"currentColor\" text-anchor=\"middle\" y=\"222.0\">\\n    <tspan class=\"displacy-word\" fill=\"currentColor\" x=\"750\">ääntä</tspan>\\n    <tspan class=\"displacy-tag\" dy=\"2em\" fill=\"currentColor\" x=\"750\">NOUN</tspan>\\n</text>\\n\\n<text class=\"displacy-token\" fill=\"currentColor\" text-anchor=\"middle\" y=\"222.0\">\\n    <tspan class=\"displacy-word\" fill=\"currentColor\" x=\"925\">eli</tspan>\\n    <tspan class=\"displacy-tag\" dy=\"2em\" fill=\"currentColor\" x=\"925\">CCONJ</tspan>\\n</text>\\n\\n<text class=\"displacy-token\" fill=\"currentColor\" text-anchor=\"middle\" y=\"222.0\">\\n    <tspan class=\"displacy-word\" fill=\"currentColor\" x=\"1100\">18,2%</tspan>\\n    <tspan class=\"displacy-tag\" dy=\"2em\" fill=\"currentColor\" x=\"1100\">SYM</tspan>\\n</text>\\n\\n<text class=\"displacy-token\" fill=\"currentColor\" text-anchor=\"middle\" y=\"222.0\">\\n    <tspan class=\"displacy-word\" fill=\"currentColor\" x=\"1275\">annetuista</tspan>\\n    <tspan class=\"displacy-tag\" dy=\"2em\" fill=\"currentColor\" x=\"1275\">VERB</tspan>\\n</text>\\n\\n<text class=\"displacy-token\" fill=\"currentColor\" text-anchor=\"middle\" y=\"222.0\">\\n    <tspan class=\"displacy-word\" fill=\"currentColor\" x=\"1450\">äänistä.</tspan>\\n    <tspan class=\"displacy-tag\" dy=\"2em\" fill=\"currentColor\" x=\"1450\">NOUN</tspan>\\n</text>\\n\\n<g class=\"displacy-arrow\">\\n    <path class=\"displacy-arc\" id=\"arrow-7d6997d737ab40a1ac099a611b3754e8-0-0\" stroke-width=\"2px\" d=\"M70,177.0 C70,2.0 400.0,2.0 400.0,177.0\" fill=\"none\" stroke=\"currentColor\"/>\\n    <text dy=\"1.25em\" style=\"font-size: 0.8em; letter-spacing: 1px\">\\n        <textPath xlink:href=\"#arrow-7d6997d737ab40a1ac099a611b3754e8-0-0\" class=\"displacy-label\" startOffset=\"50%\" side=\"left\" fill=\"currentColor\" text-anchor=\"middle\">nsubj</textPath>\\n    </text>\\n    <path class=\"displacy-arrowhead\" d=\"M70,179.0 L62,167.0 78,167.0\" fill=\"currentColor\"/>\\n</g>\\n\\n<g class=\"displacy-arrow\">\\n    <path class=\"displacy-arc\" id=\"arrow-7d6997d737ab40a1ac099a611b3754e8-0-1\" stroke-width=\"2px\" d=\"M70,177.0 C70,89.5 220.0,89.5 220.0,177.0\" fill=\"none\" stroke=\"currentColor\"/>\\n    <text dy=\"1.25em\" style=\"font-size: 0.8em; letter-spacing: 1px\">\\n        <textPath xlink:href=\"#arrow-7d6997d737ab40a1ac099a611b3754e8-0-1\" class=\"displacy-label\" startOffset=\"50%\" side=\"left\" fill=\"currentColor\" text-anchor=\"middle\">flat:name</textPath>\\n    </text>\\n    <path class=\"displacy-arrowhead\" d=\"M220.0,179.0 L228.0,167.0 212.0,167.0\" fill=\"currentColor\"/>\\n</g>\\n\\n<g class=\"displacy-arrow\">\\n    <path class=\"displacy-arc\" id=\"arrow-7d6997d737ab40a1ac099a611b3754e8-0-2\" stroke-width=\"2px\" d=\"M595,177.0 C595,89.5 745.0,89.5 745.0,177.0\" fill=\"none\" stroke=\"currentColor\"/>\\n    <text dy=\"1.25em\" style=\"font-size: 0.8em; letter-spacing: 1px\">\\n        <textPath xlink:href=\"#arrow-7d6997d737ab40a1ac099a611b3754e8-0-2\" class=\"displacy-label\" startOffset=\"50%\" side=\"left\" fill=\"currentColor\" text-anchor=\"middle\">nummod</textPath>\\n    </text>\\n    <path class=\"displacy-arrowhead\" d=\"M595,179.0 L587,167.0 603,167.0\" fill=\"currentColor\"/>\\n</g>\\n\\n<g class=\"displacy-arrow\">\\n    <path class=\"displacy-arc\" id=\"arrow-7d6997d737ab40a1ac099a611b3754e8-0-3\" stroke-width=\"2px\" d=\"M420,177.0 C420,2.0 750.0,2.0 750.0,177.0\" fill=\"none\" stroke=\"currentColor\"/>\\n    <text dy=\"1.25em\" style=\"font-size: 0.8em; letter-spacing: 1px\">\\n        <textPath xlink:href=\"#arrow-7d6997d737ab40a1ac099a611b3754e8-0-3\" class=\"displacy-label\" startOffset=\"50%\" side=\"left\" fill=\"currentColor\" text-anchor=\"middle\">obj</textPath>\\n    </text>\\n    <path class=\"displacy-arrowhead\" d=\"M750.0,179.0 L758.0,167.0 742.0,167.0\" fill=\"currentColor\"/>\\n</g>\\n\\n<g class=\"displacy-arrow\">\\n    <path class=\"displacy-arc\" id=\"arrow-7d6997d737ab40a1ac099a611b3754e8-0-4\" stroke-width=\"2px\" d=\"M945,177.0 C945,89.5 1095.0,89.5 1095.0,177.0\" fill=\"none\" stroke=\"currentColor\"/>\\n    <text dy=\"1.25em\" style=\"font-size: 0.8em; letter-spacing: 1px\">\\n        <textPath xlink:href=\"#arrow-7d6997d737ab40a1ac099a611b3754e8-0-4\" class=\"displacy-label\" startOffset=\"50%\" side=\"left\" fill=\"currentColor\" text-anchor=\"middle\">cc</textPath>\\n    </text>\\n    <path class=\"displacy-arrowhead\" d=\"M945,179.0 L937,167.0 953,167.0\" fill=\"currentColor\"/>\\n</g>\\n\\n<g class=\"displacy-arrow\">\\n    <path class=\"displacy-arc\" id=\"arrow-7d6997d737ab40a1ac099a611b3754e8-0-5\" stroke-width=\"2px\" d=\"M770,177.0 C770,2.0 1100.0,2.0 1100.0,177.0\" fill=\"none\" stroke=\"currentColor\"/>\\n    <text dy=\"1.25em\" style=\"font-size: 0.8em; letter-spacing: 1px\">\\n        <textPath xlink:href=\"#arrow-7d6997d737ab40a1ac099a611b3754e8-0-5\" class=\"displacy-label\" startOffset=\"50%\" side=\"left\" fill=\"currentColor\" text-anchor=\"middle\">conj</textPath>\\n    </text>\\n    <path class=\"displacy-arrowhead\" d=\"M1100.0,179.0 L1108.0,167.0 1092.0,167.0\" fill=\"currentColor\"/>\\n</g>\\n\\n<g class=\"displacy-arrow\">\\n    <path class=\"displacy-arc\" id=\"arrow-7d6997d737ab40a1ac099a611b3754e8-0-6\" stroke-width=\"2px\" d=\"M1295,177.0 C1295,89.5 1445.0,89.5 1445.0,177.0\" fill=\"none\" stroke=\"currentColor\"/>\\n    <text dy=\"1.25em\" style=\"font-size: 0.8em; letter-spacing: 1px\">\\n        <textPath xlink:href=\"#arrow-7d6997d737ab40a1ac099a611b3754e8-0-6\" class=\"displacy-label\" startOffset=\"50%\" side=\"left\" fill=\"currentColor\" text-anchor=\"middle\">acl</textPath>\\n    </text>\\n    <path class=\"displacy-arrowhead\" d=\"M1295,179.0 L1287,167.0 1303,167.0\" fill=\"currentColor\"/>\\n</g>\\n\\n<g class=\"displacy-arrow\">\\n    <path class=\"displacy-arc\" id=\"arrow-7d6997d737ab40a1ac099a611b3754e8-0-7\" stroke-width=\"2px\" d=\"M1120,177.0 C1120,2.0 1450.0,2.0 1450.0,177.0\" fill=\"none\" stroke=\"currentColor\"/>\\n    <text dy=\"1.25em\" style=\"font-size: 0.8em; letter-spacing: 1px\">\\n        <textPath xlink:href=\"#arrow-7d6997d737ab40a1ac099a611b3754e8-0-7\" class=\"displacy-label\" startOffset=\"50%\" side=\"left\" fill=\"currentColor\" text-anchor=\"middle\">nmod</textPath>\\n    </text>\\n    <path class=\"displacy-arrowhead\" d=\"M1450.0,179.0 L1458.0,167.0 1442.0,167.0\" fill=\"currentColor\"/>\\n</g>\\n</svg>'"
            ],
            "application/vnd.google.colaboratory.intrinsic+json": {
              "type": "string"
            }
          },
          "metadata": {},
          "execution_count": 33
        }
      ],
      "source": [
        "# Import the displacy submodule\n",
        "from spacy import displacy\n",
        "\n",
        "# Use the render function to render the first item [0] in the list 'sents_fi'.\n",
        "# Pass the argument 'style' with the value 'dep' to visualise syntactic dependencies.\n",
        "displacy.render(sents_fi[0], style='dep')"
      ]
    },
    {
      "cell_type": "markdown",
      "metadata": {
        "id": "hi4rxsyGvehl"
      },
      "source": [
        "Note that spaCy will raise a warning about storing custom attributes when writing the *Doc* object to disk for visualisation.\n",
        "\n",
        "We can also examine the linguistic annotations created for individual *Token* objects within this *Span* object."
      ]
    },
    {
      "cell_type": "code",
      "execution_count": null,
      "metadata": {
        "id": "PTBhzRoZvehl",
        "colab": {
          "base_uri": "https://localhost:8080/"
        },
        "outputId": "22b1dfdf-5fda-4271-f372-69e4f45332db"
      },
      "outputs": [
        {
          "output_type": "stream",
          "name": "stdout",
          "text": [
            "Tove Tove nsubj Case=Nom|Number=Sing\n",
            "Jansson Jansson flat:name Case=Nom|Number=Sing\n",
            "keräsi kerätä root Mood=Ind|Number=Sing|Person=3|Tense=Past|VerbForm=Fin|Voice=Act\n",
            "148 148 nummod NumType=Card\n",
            "ääntä ääni obj Case=Par|Number=Sing\n",
            "eli eli cc \n",
            "18,2 18,2 nummod NumType=Card\n",
            "% % conj \n",
            "annetuista antaa acl Case=Ela|Number=Plur|PartForm=Past|VerbForm=Part|Voice=Pass\n",
            "äänistä ääni nmod Case=Ela|Number=Plur\n",
            ". . punct \n"
          ]
        }
      ],
      "source": [
        "# Loop over each Token object in the Span\n",
        "for token in sents_fi[0]:\n",
        "\n",
        "    # Print the token, its lemma, dependency and morphological features\n",
        "    print(token, token.lemma_, token.dep_, token.morph)"
      ]
    },
    {
      "cell_type": "markdown",
      "metadata": {
        "id": "NJPUtluEvehl"
      },
      "source": [
        "The examples above show how we can access the linguistic annotations created by a Stanza language model through spaCy *Doc*, *Span* and *Token* objects.\n",
        "\n",
        "This section should have given you an idea of how to begin processing diverse languages.\n",
        "\n",
        "In the [following section](02_universal_dependencies.ipynb), we will dive deeper into the Universal Dependencies framework."
      ]
    },
    {
      "cell_type": "code",
      "source": [],
      "metadata": {
        "id": "_DzJ4euWHhZy"
      },
      "execution_count": null,
      "outputs": []
    }
  ],
  "metadata": {
    "celltoolbar": "Edit Metadata",
    "execution": {
      "timeout": -1
    },
    "kernelspec": {
      "display_name": "Python 3 (ipykernel)",
      "language": "python",
      "name": "python3"
    },
    "language_info": {
      "codemirror_mode": {
        "name": "ipython",
        "version": 3
      },
      "file_extension": ".py",
      "mimetype": "text/x-python",
      "name": "python",
      "nbconvert_exporter": "python",
      "pygments_lexer": "ipython3",
      "version": "3.9.7"
    },
    "colab": {
      "provenance": [],
      "include_colab_link": true
    },
    "widgets": {
      "application/vnd.jupyter.widget-state+json": {
        "6481d22b8e0646cf8ff12c9bcd854d01": {
          "model_module": "@jupyter-widgets/controls",
          "model_name": "HBoxModel",
          "model_module_version": "1.5.0",
          "state": {
            "_dom_classes": [],
            "_model_module": "@jupyter-widgets/controls",
            "_model_module_version": "1.5.0",
            "_model_name": "HBoxModel",
            "_view_count": null,
            "_view_module": "@jupyter-widgets/controls",
            "_view_module_version": "1.5.0",
            "_view_name": "HBoxView",
            "box_style": "",
            "children": [
              "IPY_MODEL_f01c18ecfb914d9fb0f0b2cb637c9025",
              "IPY_MODEL_0d9db40d31f54a45a922565d8663e5af",
              "IPY_MODEL_70b1f8b5e6d4409fa0d89b95c4048b46"
            ],
            "layout": "IPY_MODEL_12394f809e5848fda80af433006fd76c"
          }
        },
        "f01c18ecfb914d9fb0f0b2cb637c9025": {
          "model_module": "@jupyter-widgets/controls",
          "model_name": "HTMLModel",
          "model_module_version": "1.5.0",
          "state": {
            "_dom_classes": [],
            "_model_module": "@jupyter-widgets/controls",
            "_model_module_version": "1.5.0",
            "_model_name": "HTMLModel",
            "_view_count": null,
            "_view_module": "@jupyter-widgets/controls",
            "_view_module_version": "1.5.0",
            "_view_name": "HTMLView",
            "description": "",
            "description_tooltip": null,
            "layout": "IPY_MODEL_060bb01b92fa40b98d9ff93ffb52ebca",
            "placeholder": "​",
            "style": "IPY_MODEL_e8d053594b204a5d8274d90c3b8ef8c9",
            "value": "Downloading https://raw.githubusercontent.com/stanfordnlp/stanza-resources/main/resources_1.4.1.json: "
          }
        },
        "0d9db40d31f54a45a922565d8663e5af": {
          "model_module": "@jupyter-widgets/controls",
          "model_name": "FloatProgressModel",
          "model_module_version": "1.5.0",
          "state": {
            "_dom_classes": [],
            "_model_module": "@jupyter-widgets/controls",
            "_model_module_version": "1.5.0",
            "_model_name": "FloatProgressModel",
            "_view_count": null,
            "_view_module": "@jupyter-widgets/controls",
            "_view_module_version": "1.5.0",
            "_view_name": "ProgressView",
            "bar_style": "success",
            "description": "",
            "description_tooltip": null,
            "layout": "IPY_MODEL_e0f45ef619de4d079a571669e0ab158e",
            "max": 28918,
            "min": 0,
            "orientation": "horizontal",
            "style": "IPY_MODEL_51adb199f2f94d919cd9ce090b5b035a",
            "value": 28918
          }
        },
        "70b1f8b5e6d4409fa0d89b95c4048b46": {
          "model_module": "@jupyter-widgets/controls",
          "model_name": "HTMLModel",
          "model_module_version": "1.5.0",
          "state": {
            "_dom_classes": [],
            "_model_module": "@jupyter-widgets/controls",
            "_model_module_version": "1.5.0",
            "_model_name": "HTMLModel",
            "_view_count": null,
            "_view_module": "@jupyter-widgets/controls",
            "_view_module_version": "1.5.0",
            "_view_name": "HTMLView",
            "description": "",
            "description_tooltip": null,
            "layout": "IPY_MODEL_f106e0eabb5b4c62bd019899890f9008",
            "placeholder": "​",
            "style": "IPY_MODEL_3cc3611f5c4444b4b564d56b27919ad7",
            "value": " 193k/? [00:00&lt;00:00, 4.32MB/s]"
          }
        },
        "12394f809e5848fda80af433006fd76c": {
          "model_module": "@jupyter-widgets/base",
          "model_name": "LayoutModel",
          "model_module_version": "1.2.0",
          "state": {
            "_model_module": "@jupyter-widgets/base",
            "_model_module_version": "1.2.0",
            "_model_name": "LayoutModel",
            "_view_count": null,
            "_view_module": "@jupyter-widgets/base",
            "_view_module_version": "1.2.0",
            "_view_name": "LayoutView",
            "align_content": null,
            "align_items": null,
            "align_self": null,
            "border": null,
            "bottom": null,
            "display": null,
            "flex": null,
            "flex_flow": null,
            "grid_area": null,
            "grid_auto_columns": null,
            "grid_auto_flow": null,
            "grid_auto_rows": null,
            "grid_column": null,
            "grid_gap": null,
            "grid_row": null,
            "grid_template_areas": null,
            "grid_template_columns": null,
            "grid_template_rows": null,
            "height": null,
            "justify_content": null,
            "justify_items": null,
            "left": null,
            "margin": null,
            "max_height": null,
            "max_width": null,
            "min_height": null,
            "min_width": null,
            "object_fit": null,
            "object_position": null,
            "order": null,
            "overflow": null,
            "overflow_x": null,
            "overflow_y": null,
            "padding": null,
            "right": null,
            "top": null,
            "visibility": null,
            "width": null
          }
        },
        "060bb01b92fa40b98d9ff93ffb52ebca": {
          "model_module": "@jupyter-widgets/base",
          "model_name": "LayoutModel",
          "model_module_version": "1.2.0",
          "state": {
            "_model_module": "@jupyter-widgets/base",
            "_model_module_version": "1.2.0",
            "_model_name": "LayoutModel",
            "_view_count": null,
            "_view_module": "@jupyter-widgets/base",
            "_view_module_version": "1.2.0",
            "_view_name": "LayoutView",
            "align_content": null,
            "align_items": null,
            "align_self": null,
            "border": null,
            "bottom": null,
            "display": null,
            "flex": null,
            "flex_flow": null,
            "grid_area": null,
            "grid_auto_columns": null,
            "grid_auto_flow": null,
            "grid_auto_rows": null,
            "grid_column": null,
            "grid_gap": null,
            "grid_row": null,
            "grid_template_areas": null,
            "grid_template_columns": null,
            "grid_template_rows": null,
            "height": null,
            "justify_content": null,
            "justify_items": null,
            "left": null,
            "margin": null,
            "max_height": null,
            "max_width": null,
            "min_height": null,
            "min_width": null,
            "object_fit": null,
            "object_position": null,
            "order": null,
            "overflow": null,
            "overflow_x": null,
            "overflow_y": null,
            "padding": null,
            "right": null,
            "top": null,
            "visibility": null,
            "width": null
          }
        },
        "e8d053594b204a5d8274d90c3b8ef8c9": {
          "model_module": "@jupyter-widgets/controls",
          "model_name": "DescriptionStyleModel",
          "model_module_version": "1.5.0",
          "state": {
            "_model_module": "@jupyter-widgets/controls",
            "_model_module_version": "1.5.0",
            "_model_name": "DescriptionStyleModel",
            "_view_count": null,
            "_view_module": "@jupyter-widgets/base",
            "_view_module_version": "1.2.0",
            "_view_name": "StyleView",
            "description_width": ""
          }
        },
        "e0f45ef619de4d079a571669e0ab158e": {
          "model_module": "@jupyter-widgets/base",
          "model_name": "LayoutModel",
          "model_module_version": "1.2.0",
          "state": {
            "_model_module": "@jupyter-widgets/base",
            "_model_module_version": "1.2.0",
            "_model_name": "LayoutModel",
            "_view_count": null,
            "_view_module": "@jupyter-widgets/base",
            "_view_module_version": "1.2.0",
            "_view_name": "LayoutView",
            "align_content": null,
            "align_items": null,
            "align_self": null,
            "border": null,
            "bottom": null,
            "display": null,
            "flex": null,
            "flex_flow": null,
            "grid_area": null,
            "grid_auto_columns": null,
            "grid_auto_flow": null,
            "grid_auto_rows": null,
            "grid_column": null,
            "grid_gap": null,
            "grid_row": null,
            "grid_template_areas": null,
            "grid_template_columns": null,
            "grid_template_rows": null,
            "height": null,
            "justify_content": null,
            "justify_items": null,
            "left": null,
            "margin": null,
            "max_height": null,
            "max_width": null,
            "min_height": null,
            "min_width": null,
            "object_fit": null,
            "object_position": null,
            "order": null,
            "overflow": null,
            "overflow_x": null,
            "overflow_y": null,
            "padding": null,
            "right": null,
            "top": null,
            "visibility": null,
            "width": null
          }
        },
        "51adb199f2f94d919cd9ce090b5b035a": {
          "model_module": "@jupyter-widgets/controls",
          "model_name": "ProgressStyleModel",
          "model_module_version": "1.5.0",
          "state": {
            "_model_module": "@jupyter-widgets/controls",
            "_model_module_version": "1.5.0",
            "_model_name": "ProgressStyleModel",
            "_view_count": null,
            "_view_module": "@jupyter-widgets/base",
            "_view_module_version": "1.2.0",
            "_view_name": "StyleView",
            "bar_color": null,
            "description_width": ""
          }
        },
        "f106e0eabb5b4c62bd019899890f9008": {
          "model_module": "@jupyter-widgets/base",
          "model_name": "LayoutModel",
          "model_module_version": "1.2.0",
          "state": {
            "_model_module": "@jupyter-widgets/base",
            "_model_module_version": "1.2.0",
            "_model_name": "LayoutModel",
            "_view_count": null,
            "_view_module": "@jupyter-widgets/base",
            "_view_module_version": "1.2.0",
            "_view_name": "LayoutView",
            "align_content": null,
            "align_items": null,
            "align_self": null,
            "border": null,
            "bottom": null,
            "display": null,
            "flex": null,
            "flex_flow": null,
            "grid_area": null,
            "grid_auto_columns": null,
            "grid_auto_flow": null,
            "grid_auto_rows": null,
            "grid_column": null,
            "grid_gap": null,
            "grid_row": null,
            "grid_template_areas": null,
            "grid_template_columns": null,
            "grid_template_rows": null,
            "height": null,
            "justify_content": null,
            "justify_items": null,
            "left": null,
            "margin": null,
            "max_height": null,
            "max_width": null,
            "min_height": null,
            "min_width": null,
            "object_fit": null,
            "object_position": null,
            "order": null,
            "overflow": null,
            "overflow_x": null,
            "overflow_y": null,
            "padding": null,
            "right": null,
            "top": null,
            "visibility": null,
            "width": null
          }
        },
        "3cc3611f5c4444b4b564d56b27919ad7": {
          "model_module": "@jupyter-widgets/controls",
          "model_name": "DescriptionStyleModel",
          "model_module_version": "1.5.0",
          "state": {
            "_model_module": "@jupyter-widgets/controls",
            "_model_module_version": "1.5.0",
            "_model_name": "DescriptionStyleModel",
            "_view_count": null,
            "_view_module": "@jupyter-widgets/base",
            "_view_module_version": "1.2.0",
            "_view_name": "StyleView",
            "description_width": ""
          }
        },
        "f098812dcbab4c26b7e44fd2f7e09f63": {
          "model_module": "@jupyter-widgets/controls",
          "model_name": "HBoxModel",
          "model_module_version": "1.5.0",
          "state": {
            "_dom_classes": [],
            "_model_module": "@jupyter-widgets/controls",
            "_model_module_version": "1.5.0",
            "_model_name": "HBoxModel",
            "_view_count": null,
            "_view_module": "@jupyter-widgets/controls",
            "_view_module_version": "1.5.0",
            "_view_name": "HBoxView",
            "box_style": "",
            "children": [
              "IPY_MODEL_c4a49edb527d488cb10dca0b970c8771",
              "IPY_MODEL_949ac27394c94f97aff3fef7783853e3",
              "IPY_MODEL_f42a3d22c2d54c68af90ac2b6f5c11b0"
            ],
            "layout": "IPY_MODEL_5b4b4f49695e4c4bb791414a558386ca"
          }
        },
        "c4a49edb527d488cb10dca0b970c8771": {
          "model_module": "@jupyter-widgets/controls",
          "model_name": "HTMLModel",
          "model_module_version": "1.5.0",
          "state": {
            "_dom_classes": [],
            "_model_module": "@jupyter-widgets/controls",
            "_model_module_version": "1.5.0",
            "_model_name": "HTMLModel",
            "_view_count": null,
            "_view_module": "@jupyter-widgets/controls",
            "_view_module_version": "1.5.0",
            "_view_name": "HTMLView",
            "description": "",
            "description_tooltip": null,
            "layout": "IPY_MODEL_f9756a0423ad4b03921f59dcdfe20a44",
            "placeholder": "​",
            "style": "IPY_MODEL_f00429b6ad354bc1af7750f9144a6119",
            "value": "Downloading https://huggingface.co/stanfordnlp/stanza-wo/resolve/v1.4.1/models/default.zip: 100%"
          }
        },
        "949ac27394c94f97aff3fef7783853e3": {
          "model_module": "@jupyter-widgets/controls",
          "model_name": "FloatProgressModel",
          "model_module_version": "1.5.0",
          "state": {
            "_dom_classes": [],
            "_model_module": "@jupyter-widgets/controls",
            "_model_module_version": "1.5.0",
            "_model_name": "FloatProgressModel",
            "_view_count": null,
            "_view_module": "@jupyter-widgets/controls",
            "_view_module_version": "1.5.0",
            "_view_name": "ProgressView",
            "bar_style": "success",
            "description": "",
            "description_tooltip": null,
            "layout": "IPY_MODEL_00f62a61a8a84ad189acfedb5db1fde5",
            "max": 121535036,
            "min": 0,
            "orientation": "horizontal",
            "style": "IPY_MODEL_1cb1dd7d23184357b04a7d0bf0cf6bff",
            "value": 121535036
          }
        },
        "f42a3d22c2d54c68af90ac2b6f5c11b0": {
          "model_module": "@jupyter-widgets/controls",
          "model_name": "HTMLModel",
          "model_module_version": "1.5.0",
          "state": {
            "_dom_classes": [],
            "_model_module": "@jupyter-widgets/controls",
            "_model_module_version": "1.5.0",
            "_model_name": "HTMLModel",
            "_view_count": null,
            "_view_module": "@jupyter-widgets/controls",
            "_view_module_version": "1.5.0",
            "_view_name": "HTMLView",
            "description": "",
            "description_tooltip": null,
            "layout": "IPY_MODEL_9336e581fb9440c5bbf350dcb71b83c1",
            "placeholder": "​",
            "style": "IPY_MODEL_4c57d29604724010a556ed2c71259b99",
            "value": " 122M/122M [00:01&lt;00:00, 95.9MB/s]"
          }
        },
        "5b4b4f49695e4c4bb791414a558386ca": {
          "model_module": "@jupyter-widgets/base",
          "model_name": "LayoutModel",
          "model_module_version": "1.2.0",
          "state": {
            "_model_module": "@jupyter-widgets/base",
            "_model_module_version": "1.2.0",
            "_model_name": "LayoutModel",
            "_view_count": null,
            "_view_module": "@jupyter-widgets/base",
            "_view_module_version": "1.2.0",
            "_view_name": "LayoutView",
            "align_content": null,
            "align_items": null,
            "align_self": null,
            "border": null,
            "bottom": null,
            "display": null,
            "flex": null,
            "flex_flow": null,
            "grid_area": null,
            "grid_auto_columns": null,
            "grid_auto_flow": null,
            "grid_auto_rows": null,
            "grid_column": null,
            "grid_gap": null,
            "grid_row": null,
            "grid_template_areas": null,
            "grid_template_columns": null,
            "grid_template_rows": null,
            "height": null,
            "justify_content": null,
            "justify_items": null,
            "left": null,
            "margin": null,
            "max_height": null,
            "max_width": null,
            "min_height": null,
            "min_width": null,
            "object_fit": null,
            "object_position": null,
            "order": null,
            "overflow": null,
            "overflow_x": null,
            "overflow_y": null,
            "padding": null,
            "right": null,
            "top": null,
            "visibility": null,
            "width": null
          }
        },
        "f9756a0423ad4b03921f59dcdfe20a44": {
          "model_module": "@jupyter-widgets/base",
          "model_name": "LayoutModel",
          "model_module_version": "1.2.0",
          "state": {
            "_model_module": "@jupyter-widgets/base",
            "_model_module_version": "1.2.0",
            "_model_name": "LayoutModel",
            "_view_count": null,
            "_view_module": "@jupyter-widgets/base",
            "_view_module_version": "1.2.0",
            "_view_name": "LayoutView",
            "align_content": null,
            "align_items": null,
            "align_self": null,
            "border": null,
            "bottom": null,
            "display": null,
            "flex": null,
            "flex_flow": null,
            "grid_area": null,
            "grid_auto_columns": null,
            "grid_auto_flow": null,
            "grid_auto_rows": null,
            "grid_column": null,
            "grid_gap": null,
            "grid_row": null,
            "grid_template_areas": null,
            "grid_template_columns": null,
            "grid_template_rows": null,
            "height": null,
            "justify_content": null,
            "justify_items": null,
            "left": null,
            "margin": null,
            "max_height": null,
            "max_width": null,
            "min_height": null,
            "min_width": null,
            "object_fit": null,
            "object_position": null,
            "order": null,
            "overflow": null,
            "overflow_x": null,
            "overflow_y": null,
            "padding": null,
            "right": null,
            "top": null,
            "visibility": null,
            "width": null
          }
        },
        "f00429b6ad354bc1af7750f9144a6119": {
          "model_module": "@jupyter-widgets/controls",
          "model_name": "DescriptionStyleModel",
          "model_module_version": "1.5.0",
          "state": {
            "_model_module": "@jupyter-widgets/controls",
            "_model_module_version": "1.5.0",
            "_model_name": "DescriptionStyleModel",
            "_view_count": null,
            "_view_module": "@jupyter-widgets/base",
            "_view_module_version": "1.2.0",
            "_view_name": "StyleView",
            "description_width": ""
          }
        },
        "00f62a61a8a84ad189acfedb5db1fde5": {
          "model_module": "@jupyter-widgets/base",
          "model_name": "LayoutModel",
          "model_module_version": "1.2.0",
          "state": {
            "_model_module": "@jupyter-widgets/base",
            "_model_module_version": "1.2.0",
            "_model_name": "LayoutModel",
            "_view_count": null,
            "_view_module": "@jupyter-widgets/base",
            "_view_module_version": "1.2.0",
            "_view_name": "LayoutView",
            "align_content": null,
            "align_items": null,
            "align_self": null,
            "border": null,
            "bottom": null,
            "display": null,
            "flex": null,
            "flex_flow": null,
            "grid_area": null,
            "grid_auto_columns": null,
            "grid_auto_flow": null,
            "grid_auto_rows": null,
            "grid_column": null,
            "grid_gap": null,
            "grid_row": null,
            "grid_template_areas": null,
            "grid_template_columns": null,
            "grid_template_rows": null,
            "height": null,
            "justify_content": null,
            "justify_items": null,
            "left": null,
            "margin": null,
            "max_height": null,
            "max_width": null,
            "min_height": null,
            "min_width": null,
            "object_fit": null,
            "object_position": null,
            "order": null,
            "overflow": null,
            "overflow_x": null,
            "overflow_y": null,
            "padding": null,
            "right": null,
            "top": null,
            "visibility": null,
            "width": null
          }
        },
        "1cb1dd7d23184357b04a7d0bf0cf6bff": {
          "model_module": "@jupyter-widgets/controls",
          "model_name": "ProgressStyleModel",
          "model_module_version": "1.5.0",
          "state": {
            "_model_module": "@jupyter-widgets/controls",
            "_model_module_version": "1.5.0",
            "_model_name": "ProgressStyleModel",
            "_view_count": null,
            "_view_module": "@jupyter-widgets/base",
            "_view_module_version": "1.2.0",
            "_view_name": "StyleView",
            "bar_color": null,
            "description_width": ""
          }
        },
        "9336e581fb9440c5bbf350dcb71b83c1": {
          "model_module": "@jupyter-widgets/base",
          "model_name": "LayoutModel",
          "model_module_version": "1.2.0",
          "state": {
            "_model_module": "@jupyter-widgets/base",
            "_model_module_version": "1.2.0",
            "_model_name": "LayoutModel",
            "_view_count": null,
            "_view_module": "@jupyter-widgets/base",
            "_view_module_version": "1.2.0",
            "_view_name": "LayoutView",
            "align_content": null,
            "align_items": null,
            "align_self": null,
            "border": null,
            "bottom": null,
            "display": null,
            "flex": null,
            "flex_flow": null,
            "grid_area": null,
            "grid_auto_columns": null,
            "grid_auto_flow": null,
            "grid_auto_rows": null,
            "grid_column": null,
            "grid_gap": null,
            "grid_row": null,
            "grid_template_areas": null,
            "grid_template_columns": null,
            "grid_template_rows": null,
            "height": null,
            "justify_content": null,
            "justify_items": null,
            "left": null,
            "margin": null,
            "max_height": null,
            "max_width": null,
            "min_height": null,
            "min_width": null,
            "object_fit": null,
            "object_position": null,
            "order": null,
            "overflow": null,
            "overflow_x": null,
            "overflow_y": null,
            "padding": null,
            "right": null,
            "top": null,
            "visibility": null,
            "width": null
          }
        },
        "4c57d29604724010a556ed2c71259b99": {
          "model_module": "@jupyter-widgets/controls",
          "model_name": "DescriptionStyleModel",
          "model_module_version": "1.5.0",
          "state": {
            "_model_module": "@jupyter-widgets/controls",
            "_model_module_version": "1.5.0",
            "_model_name": "DescriptionStyleModel",
            "_view_count": null,
            "_view_module": "@jupyter-widgets/base",
            "_view_module_version": "1.2.0",
            "_view_name": "StyleView",
            "description_width": ""
          }
        },
        "5b3c81a44d6a414facb499e719da6767": {
          "model_module": "@jupyter-widgets/controls",
          "model_name": "HBoxModel",
          "model_module_version": "1.5.0",
          "state": {
            "_dom_classes": [],
            "_model_module": "@jupyter-widgets/controls",
            "_model_module_version": "1.5.0",
            "_model_name": "HBoxModel",
            "_view_count": null,
            "_view_module": "@jupyter-widgets/controls",
            "_view_module_version": "1.5.0",
            "_view_name": "HBoxView",
            "box_style": "",
            "children": [
              "IPY_MODEL_f4e512291c194895a33ababb6bf466a7",
              "IPY_MODEL_fe9c3cc47cb24e0cb9384470be47f1fb",
              "IPY_MODEL_24c5a33058004d9d9d47f405c877a3b8"
            ],
            "layout": "IPY_MODEL_5ff08c6feb654124bedbfede8d75b5f0"
          }
        },
        "f4e512291c194895a33ababb6bf466a7": {
          "model_module": "@jupyter-widgets/controls",
          "model_name": "HTMLModel",
          "model_module_version": "1.5.0",
          "state": {
            "_dom_classes": [],
            "_model_module": "@jupyter-widgets/controls",
            "_model_module_version": "1.5.0",
            "_model_name": "HTMLModel",
            "_view_count": null,
            "_view_module": "@jupyter-widgets/controls",
            "_view_module_version": "1.5.0",
            "_view_name": "HTMLView",
            "description": "",
            "description_tooltip": null,
            "layout": "IPY_MODEL_ea96e054d64c43e986a58250377409b6",
            "placeholder": "​",
            "style": "IPY_MODEL_54733f2fb18b4e3980f2ee9a2a2fe086",
            "value": "Downloading https://raw.githubusercontent.com/stanfordnlp/stanza-resources/main/resources_1.4.1.json: "
          }
        },
        "fe9c3cc47cb24e0cb9384470be47f1fb": {
          "model_module": "@jupyter-widgets/controls",
          "model_name": "FloatProgressModel",
          "model_module_version": "1.5.0",
          "state": {
            "_dom_classes": [],
            "_model_module": "@jupyter-widgets/controls",
            "_model_module_version": "1.5.0",
            "_model_name": "FloatProgressModel",
            "_view_count": null,
            "_view_module": "@jupyter-widgets/controls",
            "_view_module_version": "1.5.0",
            "_view_name": "ProgressView",
            "bar_style": "success",
            "description": "",
            "description_tooltip": null,
            "layout": "IPY_MODEL_ff6291e6974c4bc1af2046b58e0254a9",
            "max": 28918,
            "min": 0,
            "orientation": "horizontal",
            "style": "IPY_MODEL_223d268340fa441894703e7563655e92",
            "value": 28918
          }
        },
        "24c5a33058004d9d9d47f405c877a3b8": {
          "model_module": "@jupyter-widgets/controls",
          "model_name": "HTMLModel",
          "model_module_version": "1.5.0",
          "state": {
            "_dom_classes": [],
            "_model_module": "@jupyter-widgets/controls",
            "_model_module_version": "1.5.0",
            "_model_name": "HTMLModel",
            "_view_count": null,
            "_view_module": "@jupyter-widgets/controls",
            "_view_module_version": "1.5.0",
            "_view_name": "HTMLView",
            "description": "",
            "description_tooltip": null,
            "layout": "IPY_MODEL_8485eca7284f4b45afddbe91899ec925",
            "placeholder": "​",
            "style": "IPY_MODEL_be691074f1934b689cc72c99ea22ef90",
            "value": " 193k/? [00:00&lt;00:00, 4.34MB/s]"
          }
        },
        "5ff08c6feb654124bedbfede8d75b5f0": {
          "model_module": "@jupyter-widgets/base",
          "model_name": "LayoutModel",
          "model_module_version": "1.2.0",
          "state": {
            "_model_module": "@jupyter-widgets/base",
            "_model_module_version": "1.2.0",
            "_model_name": "LayoutModel",
            "_view_count": null,
            "_view_module": "@jupyter-widgets/base",
            "_view_module_version": "1.2.0",
            "_view_name": "LayoutView",
            "align_content": null,
            "align_items": null,
            "align_self": null,
            "border": null,
            "bottom": null,
            "display": null,
            "flex": null,
            "flex_flow": null,
            "grid_area": null,
            "grid_auto_columns": null,
            "grid_auto_flow": null,
            "grid_auto_rows": null,
            "grid_column": null,
            "grid_gap": null,
            "grid_row": null,
            "grid_template_areas": null,
            "grid_template_columns": null,
            "grid_template_rows": null,
            "height": null,
            "justify_content": null,
            "justify_items": null,
            "left": null,
            "margin": null,
            "max_height": null,
            "max_width": null,
            "min_height": null,
            "min_width": null,
            "object_fit": null,
            "object_position": null,
            "order": null,
            "overflow": null,
            "overflow_x": null,
            "overflow_y": null,
            "padding": null,
            "right": null,
            "top": null,
            "visibility": null,
            "width": null
          }
        },
        "ea96e054d64c43e986a58250377409b6": {
          "model_module": "@jupyter-widgets/base",
          "model_name": "LayoutModel",
          "model_module_version": "1.2.0",
          "state": {
            "_model_module": "@jupyter-widgets/base",
            "_model_module_version": "1.2.0",
            "_model_name": "LayoutModel",
            "_view_count": null,
            "_view_module": "@jupyter-widgets/base",
            "_view_module_version": "1.2.0",
            "_view_name": "LayoutView",
            "align_content": null,
            "align_items": null,
            "align_self": null,
            "border": null,
            "bottom": null,
            "display": null,
            "flex": null,
            "flex_flow": null,
            "grid_area": null,
            "grid_auto_columns": null,
            "grid_auto_flow": null,
            "grid_auto_rows": null,
            "grid_column": null,
            "grid_gap": null,
            "grid_row": null,
            "grid_template_areas": null,
            "grid_template_columns": null,
            "grid_template_rows": null,
            "height": null,
            "justify_content": null,
            "justify_items": null,
            "left": null,
            "margin": null,
            "max_height": null,
            "max_width": null,
            "min_height": null,
            "min_width": null,
            "object_fit": null,
            "object_position": null,
            "order": null,
            "overflow": null,
            "overflow_x": null,
            "overflow_y": null,
            "padding": null,
            "right": null,
            "top": null,
            "visibility": null,
            "width": null
          }
        },
        "54733f2fb18b4e3980f2ee9a2a2fe086": {
          "model_module": "@jupyter-widgets/controls",
          "model_name": "DescriptionStyleModel",
          "model_module_version": "1.5.0",
          "state": {
            "_model_module": "@jupyter-widgets/controls",
            "_model_module_version": "1.5.0",
            "_model_name": "DescriptionStyleModel",
            "_view_count": null,
            "_view_module": "@jupyter-widgets/base",
            "_view_module_version": "1.2.0",
            "_view_name": "StyleView",
            "description_width": ""
          }
        },
        "ff6291e6974c4bc1af2046b58e0254a9": {
          "model_module": "@jupyter-widgets/base",
          "model_name": "LayoutModel",
          "model_module_version": "1.2.0",
          "state": {
            "_model_module": "@jupyter-widgets/base",
            "_model_module_version": "1.2.0",
            "_model_name": "LayoutModel",
            "_view_count": null,
            "_view_module": "@jupyter-widgets/base",
            "_view_module_version": "1.2.0",
            "_view_name": "LayoutView",
            "align_content": null,
            "align_items": null,
            "align_self": null,
            "border": null,
            "bottom": null,
            "display": null,
            "flex": null,
            "flex_flow": null,
            "grid_area": null,
            "grid_auto_columns": null,
            "grid_auto_flow": null,
            "grid_auto_rows": null,
            "grid_column": null,
            "grid_gap": null,
            "grid_row": null,
            "grid_template_areas": null,
            "grid_template_columns": null,
            "grid_template_rows": null,
            "height": null,
            "justify_content": null,
            "justify_items": null,
            "left": null,
            "margin": null,
            "max_height": null,
            "max_width": null,
            "min_height": null,
            "min_width": null,
            "object_fit": null,
            "object_position": null,
            "order": null,
            "overflow": null,
            "overflow_x": null,
            "overflow_y": null,
            "padding": null,
            "right": null,
            "top": null,
            "visibility": null,
            "width": null
          }
        },
        "223d268340fa441894703e7563655e92": {
          "model_module": "@jupyter-widgets/controls",
          "model_name": "ProgressStyleModel",
          "model_module_version": "1.5.0",
          "state": {
            "_model_module": "@jupyter-widgets/controls",
            "_model_module_version": "1.5.0",
            "_model_name": "ProgressStyleModel",
            "_view_count": null,
            "_view_module": "@jupyter-widgets/base",
            "_view_module_version": "1.2.0",
            "_view_name": "StyleView",
            "bar_color": null,
            "description_width": ""
          }
        },
        "8485eca7284f4b45afddbe91899ec925": {
          "model_module": "@jupyter-widgets/base",
          "model_name": "LayoutModel",
          "model_module_version": "1.2.0",
          "state": {
            "_model_module": "@jupyter-widgets/base",
            "_model_module_version": "1.2.0",
            "_model_name": "LayoutModel",
            "_view_count": null,
            "_view_module": "@jupyter-widgets/base",
            "_view_module_version": "1.2.0",
            "_view_name": "LayoutView",
            "align_content": null,
            "align_items": null,
            "align_self": null,
            "border": null,
            "bottom": null,
            "display": null,
            "flex": null,
            "flex_flow": null,
            "grid_area": null,
            "grid_auto_columns": null,
            "grid_auto_flow": null,
            "grid_auto_rows": null,
            "grid_column": null,
            "grid_gap": null,
            "grid_row": null,
            "grid_template_areas": null,
            "grid_template_columns": null,
            "grid_template_rows": null,
            "height": null,
            "justify_content": null,
            "justify_items": null,
            "left": null,
            "margin": null,
            "max_height": null,
            "max_width": null,
            "min_height": null,
            "min_width": null,
            "object_fit": null,
            "object_position": null,
            "order": null,
            "overflow": null,
            "overflow_x": null,
            "overflow_y": null,
            "padding": null,
            "right": null,
            "top": null,
            "visibility": null,
            "width": null
          }
        },
        "be691074f1934b689cc72c99ea22ef90": {
          "model_module": "@jupyter-widgets/controls",
          "model_name": "DescriptionStyleModel",
          "model_module_version": "1.5.0",
          "state": {
            "_model_module": "@jupyter-widgets/controls",
            "_model_module_version": "1.5.0",
            "_model_name": "DescriptionStyleModel",
            "_view_count": null,
            "_view_module": "@jupyter-widgets/base",
            "_view_module_version": "1.2.0",
            "_view_name": "StyleView",
            "description_width": ""
          }
        }
      }
    }
  },
  "nbformat": 4,
  "nbformat_minor": 0
}